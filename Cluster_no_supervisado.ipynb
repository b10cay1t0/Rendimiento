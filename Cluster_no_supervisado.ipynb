{
  "nbformat": 4,
  "nbformat_minor": 0,
  "metadata": {
    "colab": {
      "provenance": [],
      "authorship_tag": "ABX9TyNnrpIoMnz9NqYKTPwR4avI",
      "include_colab_link": true
    },
    "kernelspec": {
      "name": "python3",
      "display_name": "Python 3"
    },
    "language_info": {
      "name": "python"
    }
  },
  "cells": [
    {
      "cell_type": "markdown",
      "metadata": {
        "id": "view-in-github",
        "colab_type": "text"
      },
      "source": [
        "<a href=\"https://colab.research.google.com/github/b10cay1t0/Rendimiento/blob/main/Cluster_no_supervisado.ipynb\" target=\"_parent\"><img src=\"https://colab.research.google.com/assets/colab-badge.svg\" alt=\"Open In Colab\"/></a>"
      ]
    },
    {
      "cell_type": "code",
      "execution_count": null,
      "metadata": {
        "id": "Md445uNA-xtt"
      },
      "outputs": [],
      "source": [
        "import numpy as np\n",
        "from sklearn import cluster #pip install scikit-learn\n",
        "import pandas as pd\n",
        "import matplotlib.pyplot as plt\n",
        "from sklearn.preprocessing import LabelEncoder\n",
        "from sklearn.metrics import silhouette_score\n",
        "from sklearn.cluster import MeanShift\n",
        "from sklearn.model_selection import train_test_split\n",
        "from sklearn.cluster import SpectralClustering\n",
        "from sklearn.preprocessing import StandardScaler\n",
        "from sklearn.cluster import DBSCAN\n",
        "from sklearn.model_selection import GridSearchCV"
      ]
    },
    {
      "cell_type": "code",
      "source": [
        "#*********PRIMERA PARTE*********\n",
        "# cargar el archivo\n",
        "\n",
        "datos=pd.read_csv('datos.csv')\n",
        "datos = datos.drop(['id','primer semestre','carrera'], axis=1)\n",
        "\n",
        "# transformamos las caracteristicas a valores numéricos\n",
        "le = LabelEncoder()\n",
        "\n",
        "# categorías ssi\n",
        "le.fit(['Estrés leve','Estrés moderado','Estrés severo'])\n",
        "datos.ssi=le.transform(datos.ssi)\n",
        "\n",
        "# categorías das\n",
        "le.fit(['No presenta','Leve','Moderado','Severo','Extremadamente Severo'])\n",
        "datos.das_d=le.transform(datos.das_d)\n",
        "datos.das_e=le.transform(datos.das_e)\n",
        "datos.das_a=le.transform(datos.das_a)\n",
        "\n",
        "# categorías estilos de aprendizaje\n",
        "# escala\n",
        "le.fit(['Equilibrio apropiado','Preferencia moderada','Preferencia fuerte'])\n",
        "datos.ar_e=le.transform(datos.ar_e)\n",
        "datos.si_e=le.transform(datos.si_e)\n",
        "datos.vv_e=le.transform(datos.vv_e)\n",
        "datos.sg_e=le.transform(datos.sg_e)\n",
        "\n",
        "# perfil activo-reflexivo\n",
        "le.fit(['Activo','Reflexivo'])\n",
        "datos.ar_p=le.transform(datos.ar_p)\n",
        "\n",
        "# perfil sensorial-intuitivo\n",
        "le.fit(['Sensorial','Intuitivo'])\n",
        "datos.si_p=le.transform(datos.si_p)\n",
        "\n",
        "# perfil visual-verbal\n",
        "le.fit(['Visual','Verbal'])\n",
        "datos.vv_p=le.transform(datos.vv_p)\n",
        "\n",
        "# perfil secuencial-global\n",
        "le.fit(['Secuencial','Global'])\n",
        "datos.sg_p=le.transform(datos.sg_p)"
      ],
      "metadata": {
        "id": "zUfOtk6F_yAk"
      },
      "execution_count": null,
      "outputs": []
    },
    {
      "cell_type": "code",
      "source": [
        "# standard scaler para normalizar los datos\n",
        "scaler = StandardScaler()\n",
        "scaler.fit(datos)\n",
        "datos_norm=scaler.transform(datos)"
      ],
      "metadata": {
        "id": "-GaYA6ZoM0pU"
      },
      "execution_count": null,
      "outputs": []
    },
    {
      "cell_type": "code",
      "source": [
        "# método de la silueta con k means\n",
        "\n",
        "def prediccion(n_clusteres,X):\n",
        "  k_means = cluster.KMeans(n_clusters=n_clusteres,random_state=0)\n",
        "  k_means.fit(X)\n",
        "  prediccion = k_means.predict(X)\n",
        "  return prediccion\n",
        "\n",
        "# hacemos arreglos donde se van a guardar predicciones y siluetas\n",
        "# proponemos 191 clusteres\n",
        "n=190\n",
        "predicciones=[[0] for clusteres in range(n)]\n",
        "predicciones_norm=[[0] for clusteres in range(n)]\n",
        "siluetas=[[0] for clusteres in range(n)]\n",
        "siluetas_norm=[[0] for clusteres in range(n)]\n"
      ],
      "metadata": {
        "id": "sSv5msA1GkZH"
      },
      "execution_count": null,
      "outputs": []
    },
    {
      "cell_type": "code",
      "source": [
        "# datos normalizados\n",
        "for clusteres in range(n):\n",
        "  predicciones_norm[clusteres]=prediccion(clusteres+2,datos_norm)\n",
        "  print('prediccion de datos normalizados con ',clusteres+2,' clusteres lista')\n",
        "\n",
        "# datos crudos\n",
        "for clusteres in range(n):\n",
        "  predicciones[clusteres]=prediccion(clusteres+2,datos)\n",
        "  print('prediccion de datos crudos con ',clusteres+2,' clusteres lista')\n"
      ],
      "metadata": {
        "colab": {
          "base_uri": "https://localhost:8080/"
        },
        "id": "iCesgPFXWnHU",
        "outputId": "aaa72a26-a393-4514-cd7f-2c7772559e96"
      },
      "execution_count": null,
      "outputs": [
        {
          "output_type": "stream",
          "name": "stderr",
          "text": [
            "/usr/local/lib/python3.10/dist-packages/sklearn/cluster/_kmeans.py:870: FutureWarning: The default value of `n_init` will change from 10 to 'auto' in 1.4. Set the value of `n_init` explicitly to suppress the warning\n",
            "  warnings.warn(\n",
            "/usr/local/lib/python3.10/dist-packages/sklearn/cluster/_kmeans.py:870: FutureWarning: The default value of `n_init` will change from 10 to 'auto' in 1.4. Set the value of `n_init` explicitly to suppress the warning\n",
            "  warnings.warn(\n",
            "/usr/local/lib/python3.10/dist-packages/sklearn/cluster/_kmeans.py:870: FutureWarning: The default value of `n_init` will change from 10 to 'auto' in 1.4. Set the value of `n_init` explicitly to suppress the warning\n",
            "  warnings.warn(\n",
            "/usr/local/lib/python3.10/dist-packages/sklearn/cluster/_kmeans.py:870: FutureWarning: The default value of `n_init` will change from 10 to 'auto' in 1.4. Set the value of `n_init` explicitly to suppress the warning\n",
            "  warnings.warn(\n",
            "/usr/local/lib/python3.10/dist-packages/sklearn/cluster/_kmeans.py:870: FutureWarning: The default value of `n_init` will change from 10 to 'auto' in 1.4. Set the value of `n_init` explicitly to suppress the warning\n",
            "  warnings.warn(\n",
            "/usr/local/lib/python3.10/dist-packages/sklearn/cluster/_kmeans.py:870: FutureWarning: The default value of `n_init` will change from 10 to 'auto' in 1.4. Set the value of `n_init` explicitly to suppress the warning\n",
            "  warnings.warn(\n",
            "/usr/local/lib/python3.10/dist-packages/sklearn/cluster/_kmeans.py:870: FutureWarning: The default value of `n_init` will change from 10 to 'auto' in 1.4. Set the value of `n_init` explicitly to suppress the warning\n",
            "  warnings.warn(\n",
            "/usr/local/lib/python3.10/dist-packages/sklearn/cluster/_kmeans.py:870: FutureWarning: The default value of `n_init` will change from 10 to 'auto' in 1.4. Set the value of `n_init` explicitly to suppress the warning\n",
            "  warnings.warn(\n",
            "/usr/local/lib/python3.10/dist-packages/sklearn/cluster/_kmeans.py:870: FutureWarning: The default value of `n_init` will change from 10 to 'auto' in 1.4. Set the value of `n_init` explicitly to suppress the warning\n",
            "  warnings.warn(\n",
            "/usr/local/lib/python3.10/dist-packages/sklearn/cluster/_kmeans.py:870: FutureWarning: The default value of `n_init` will change from 10 to 'auto' in 1.4. Set the value of `n_init` explicitly to suppress the warning\n",
            "  warnings.warn(\n",
            "/usr/local/lib/python3.10/dist-packages/sklearn/cluster/_kmeans.py:870: FutureWarning: The default value of `n_init` will change from 10 to 'auto' in 1.4. Set the value of `n_init` explicitly to suppress the warning\n",
            "  warnings.warn(\n",
            "/usr/local/lib/python3.10/dist-packages/sklearn/cluster/_kmeans.py:870: FutureWarning: The default value of `n_init` will change from 10 to 'auto' in 1.4. Set the value of `n_init` explicitly to suppress the warning\n",
            "  warnings.warn(\n",
            "/usr/local/lib/python3.10/dist-packages/sklearn/cluster/_kmeans.py:870: FutureWarning: The default value of `n_init` will change from 10 to 'auto' in 1.4. Set the value of `n_init` explicitly to suppress the warning\n",
            "  warnings.warn(\n",
            "/usr/local/lib/python3.10/dist-packages/sklearn/cluster/_kmeans.py:870: FutureWarning: The default value of `n_init` will change from 10 to 'auto' in 1.4. Set the value of `n_init` explicitly to suppress the warning\n",
            "  warnings.warn(\n",
            "/usr/local/lib/python3.10/dist-packages/sklearn/cluster/_kmeans.py:870: FutureWarning: The default value of `n_init` will change from 10 to 'auto' in 1.4. Set the value of `n_init` explicitly to suppress the warning\n",
            "  warnings.warn(\n",
            "/usr/local/lib/python3.10/dist-packages/sklearn/cluster/_kmeans.py:870: FutureWarning: The default value of `n_init` will change from 10 to 'auto' in 1.4. Set the value of `n_init` explicitly to suppress the warning\n",
            "  warnings.warn(\n",
            "/usr/local/lib/python3.10/dist-packages/sklearn/cluster/_kmeans.py:870: FutureWarning: The default value of `n_init` will change from 10 to 'auto' in 1.4. Set the value of `n_init` explicitly to suppress the warning\n",
            "  warnings.warn(\n",
            "/usr/local/lib/python3.10/dist-packages/sklearn/cluster/_kmeans.py:870: FutureWarning: The default value of `n_init` will change from 10 to 'auto' in 1.4. Set the value of `n_init` explicitly to suppress the warning\n",
            "  warnings.warn(\n",
            "/usr/local/lib/python3.10/dist-packages/sklearn/cluster/_kmeans.py:870: FutureWarning: The default value of `n_init` will change from 10 to 'auto' in 1.4. Set the value of `n_init` explicitly to suppress the warning\n",
            "  warnings.warn(\n",
            "/usr/local/lib/python3.10/dist-packages/sklearn/cluster/_kmeans.py:870: FutureWarning: The default value of `n_init` will change from 10 to 'auto' in 1.4. Set the value of `n_init` explicitly to suppress the warning\n",
            "  warnings.warn(\n",
            "/usr/local/lib/python3.10/dist-packages/sklearn/cluster/_kmeans.py:870: FutureWarning: The default value of `n_init` will change from 10 to 'auto' in 1.4. Set the value of `n_init` explicitly to suppress the warning\n",
            "  warnings.warn(\n",
            "/usr/local/lib/python3.10/dist-packages/sklearn/cluster/_kmeans.py:870: FutureWarning: The default value of `n_init` will change from 10 to 'auto' in 1.4. Set the value of `n_init` explicitly to suppress the warning\n",
            "  warnings.warn(\n",
            "/usr/local/lib/python3.10/dist-packages/sklearn/cluster/_kmeans.py:870: FutureWarning: The default value of `n_init` will change from 10 to 'auto' in 1.4. Set the value of `n_init` explicitly to suppress the warning\n",
            "  warnings.warn(\n",
            "/usr/local/lib/python3.10/dist-packages/sklearn/cluster/_kmeans.py:870: FutureWarning: The default value of `n_init` will change from 10 to 'auto' in 1.4. Set the value of `n_init` explicitly to suppress the warning\n",
            "  warnings.warn(\n",
            "/usr/local/lib/python3.10/dist-packages/sklearn/cluster/_kmeans.py:870: FutureWarning: The default value of `n_init` will change from 10 to 'auto' in 1.4. Set the value of `n_init` explicitly to suppress the warning\n",
            "  warnings.warn(\n",
            "/usr/local/lib/python3.10/dist-packages/sklearn/cluster/_kmeans.py:870: FutureWarning: The default value of `n_init` will change from 10 to 'auto' in 1.4. Set the value of `n_init` explicitly to suppress the warning\n",
            "  warnings.warn(\n"
          ]
        },
        {
          "output_type": "stream",
          "name": "stdout",
          "text": [
            "prediccion de datos normalizados con  2  clusteres lista\n",
            "prediccion de datos normalizados con  3  clusteres lista\n",
            "prediccion de datos normalizados con  4  clusteres lista\n",
            "prediccion de datos normalizados con  5  clusteres lista\n",
            "prediccion de datos normalizados con  6  clusteres lista\n",
            "prediccion de datos normalizados con  7  clusteres lista\n",
            "prediccion de datos normalizados con  8  clusteres lista\n",
            "prediccion de datos normalizados con  9  clusteres lista\n",
            "prediccion de datos normalizados con  10  clusteres lista\n",
            "prediccion de datos normalizados con  11  clusteres lista\n",
            "prediccion de datos normalizados con  12  clusteres lista\n",
            "prediccion de datos normalizados con  13  clusteres lista\n",
            "prediccion de datos normalizados con  14  clusteres lista\n",
            "prediccion de datos normalizados con  15  clusteres lista\n",
            "prediccion de datos normalizados con  16  clusteres lista\n",
            "prediccion de datos normalizados con  17  clusteres lista\n",
            "prediccion de datos normalizados con  18  clusteres lista\n",
            "prediccion de datos normalizados con  19  clusteres lista\n",
            "prediccion de datos normalizados con  20  clusteres lista\n",
            "prediccion de datos normalizados con  21  clusteres lista\n",
            "prediccion de datos normalizados con  22  clusteres lista\n",
            "prediccion de datos normalizados con  23  clusteres lista\n",
            "prediccion de datos normalizados con  24  clusteres lista\n",
            "prediccion de datos normalizados con  25  clusteres lista\n",
            "prediccion de datos normalizados con  26  clusteres lista\n",
            "prediccion de datos normalizados con  27  clusteres lista\n",
            "prediccion de datos normalizados con  28  clusteres lista\n",
            "prediccion de datos normalizados con  29  clusteres lista\n",
            "prediccion de datos normalizados con  30  clusteres lista\n",
            "prediccion de datos normalizados con  31  clusteres lista\n"
          ]
        },
        {
          "output_type": "stream",
          "name": "stderr",
          "text": [
            "/usr/local/lib/python3.10/dist-packages/sklearn/cluster/_kmeans.py:870: FutureWarning: The default value of `n_init` will change from 10 to 'auto' in 1.4. Set the value of `n_init` explicitly to suppress the warning\n",
            "  warnings.warn(\n",
            "/usr/local/lib/python3.10/dist-packages/sklearn/cluster/_kmeans.py:870: FutureWarning: The default value of `n_init` will change from 10 to 'auto' in 1.4. Set the value of `n_init` explicitly to suppress the warning\n",
            "  warnings.warn(\n",
            "/usr/local/lib/python3.10/dist-packages/sklearn/cluster/_kmeans.py:870: FutureWarning: The default value of `n_init` will change from 10 to 'auto' in 1.4. Set the value of `n_init` explicitly to suppress the warning\n",
            "  warnings.warn(\n"
          ]
        },
        {
          "output_type": "stream",
          "name": "stdout",
          "text": [
            "prediccion de datos normalizados con  32  clusteres lista\n",
            "prediccion de datos normalizados con  33  clusteres lista\n",
            "prediccion de datos normalizados con  34  clusteres lista\n"
          ]
        },
        {
          "output_type": "stream",
          "name": "stderr",
          "text": [
            "/usr/local/lib/python3.10/dist-packages/sklearn/cluster/_kmeans.py:870: FutureWarning: The default value of `n_init` will change from 10 to 'auto' in 1.4. Set the value of `n_init` explicitly to suppress the warning\n",
            "  warnings.warn(\n",
            "/usr/local/lib/python3.10/dist-packages/sklearn/cluster/_kmeans.py:870: FutureWarning: The default value of `n_init` will change from 10 to 'auto' in 1.4. Set the value of `n_init` explicitly to suppress the warning\n",
            "  warnings.warn(\n",
            "/usr/local/lib/python3.10/dist-packages/sklearn/cluster/_kmeans.py:870: FutureWarning: The default value of `n_init` will change from 10 to 'auto' in 1.4. Set the value of `n_init` explicitly to suppress the warning\n",
            "  warnings.warn(\n"
          ]
        },
        {
          "output_type": "stream",
          "name": "stdout",
          "text": [
            "prediccion de datos normalizados con  35  clusteres lista\n",
            "prediccion de datos normalizados con  36  clusteres lista\n",
            "prediccion de datos normalizados con  37  clusteres lista\n",
            "prediccion de datos normalizados con  38  clusteres lista\n",
            "prediccion de datos normalizados con  39  clusteres lista\n",
            "prediccion de datos normalizados con  40  clusteres lista\n",
            "prediccion de datos normalizados con  41  clusteres lista\n",
            "prediccion de datos normalizados con  42  clusteres lista\n"
          ]
        },
        {
          "output_type": "stream",
          "name": "stderr",
          "text": [
            "/usr/local/lib/python3.10/dist-packages/sklearn/cluster/_kmeans.py:870: FutureWarning: The default value of `n_init` will change from 10 to 'auto' in 1.4. Set the value of `n_init` explicitly to suppress the warning\n",
            "  warnings.warn(\n",
            "/usr/local/lib/python3.10/dist-packages/sklearn/cluster/_kmeans.py:870: FutureWarning: The default value of `n_init` will change from 10 to 'auto' in 1.4. Set the value of `n_init` explicitly to suppress the warning\n",
            "  warnings.warn(\n",
            "/usr/local/lib/python3.10/dist-packages/sklearn/cluster/_kmeans.py:870: FutureWarning: The default value of `n_init` will change from 10 to 'auto' in 1.4. Set the value of `n_init` explicitly to suppress the warning\n",
            "  warnings.warn(\n",
            "/usr/local/lib/python3.10/dist-packages/sklearn/cluster/_kmeans.py:870: FutureWarning: The default value of `n_init` will change from 10 to 'auto' in 1.4. Set the value of `n_init` explicitly to suppress the warning\n",
            "  warnings.warn(\n",
            "/usr/local/lib/python3.10/dist-packages/sklearn/cluster/_kmeans.py:870: FutureWarning: The default value of `n_init` will change from 10 to 'auto' in 1.4. Set the value of `n_init` explicitly to suppress the warning\n",
            "  warnings.warn(\n",
            "/usr/local/lib/python3.10/dist-packages/sklearn/cluster/_kmeans.py:870: FutureWarning: The default value of `n_init` will change from 10 to 'auto' in 1.4. Set the value of `n_init` explicitly to suppress the warning\n",
            "  warnings.warn(\n",
            "/usr/local/lib/python3.10/dist-packages/sklearn/cluster/_kmeans.py:870: FutureWarning: The default value of `n_init` will change from 10 to 'auto' in 1.4. Set the value of `n_init` explicitly to suppress the warning\n",
            "  warnings.warn(\n",
            "/usr/local/lib/python3.10/dist-packages/sklearn/cluster/_kmeans.py:870: FutureWarning: The default value of `n_init` will change from 10 to 'auto' in 1.4. Set the value of `n_init` explicitly to suppress the warning\n",
            "  warnings.warn(\n"
          ]
        },
        {
          "output_type": "stream",
          "name": "stdout",
          "text": [
            "prediccion de datos normalizados con  43  clusteres lista\n",
            "prediccion de datos normalizados con  44  clusteres lista\n",
            "prediccion de datos normalizados con  45  clusteres lista\n",
            "prediccion de datos normalizados con  46  clusteres lista\n",
            "prediccion de datos normalizados con  47  clusteres lista\n",
            "prediccion de datos normalizados con  48  clusteres lista\n",
            "prediccion de datos normalizados con  49  clusteres lista\n",
            "prediccion de datos normalizados con  50  clusteres lista\n",
            "prediccion de datos normalizados con  51  clusteres lista\n",
            "prediccion de datos normalizados con  52  clusteres lista\n",
            "prediccion de datos normalizados con  53  clusteres lista\n",
            "prediccion de datos normalizados con  54  clusteres lista\n",
            "prediccion de datos normalizados con  55  clusteres lista\n",
            "prediccion de datos normalizados con  56  clusteres lista\n",
            "prediccion de datos normalizados con  57  clusteres lista\n",
            "prediccion de datos normalizados con  58  clusteres lista\n"
          ]
        },
        {
          "output_type": "stream",
          "name": "stderr",
          "text": [
            "/usr/local/lib/python3.10/dist-packages/sklearn/cluster/_kmeans.py:870: FutureWarning: The default value of `n_init` will change from 10 to 'auto' in 1.4. Set the value of `n_init` explicitly to suppress the warning\n",
            "  warnings.warn(\n",
            "/usr/local/lib/python3.10/dist-packages/sklearn/cluster/_kmeans.py:870: FutureWarning: The default value of `n_init` will change from 10 to 'auto' in 1.4. Set the value of `n_init` explicitly to suppress the warning\n",
            "  warnings.warn(\n",
            "/usr/local/lib/python3.10/dist-packages/sklearn/cluster/_kmeans.py:870: FutureWarning: The default value of `n_init` will change from 10 to 'auto' in 1.4. Set the value of `n_init` explicitly to suppress the warning\n",
            "  warnings.warn(\n",
            "/usr/local/lib/python3.10/dist-packages/sklearn/cluster/_kmeans.py:870: FutureWarning: The default value of `n_init` will change from 10 to 'auto' in 1.4. Set the value of `n_init` explicitly to suppress the warning\n",
            "  warnings.warn(\n",
            "/usr/local/lib/python3.10/dist-packages/sklearn/cluster/_kmeans.py:870: FutureWarning: The default value of `n_init` will change from 10 to 'auto' in 1.4. Set the value of `n_init` explicitly to suppress the warning\n",
            "  warnings.warn(\n",
            "/usr/local/lib/python3.10/dist-packages/sklearn/cluster/_kmeans.py:870: FutureWarning: The default value of `n_init` will change from 10 to 'auto' in 1.4. Set the value of `n_init` explicitly to suppress the warning\n",
            "  warnings.warn(\n",
            "/usr/local/lib/python3.10/dist-packages/sklearn/cluster/_kmeans.py:870: FutureWarning: The default value of `n_init` will change from 10 to 'auto' in 1.4. Set the value of `n_init` explicitly to suppress the warning\n",
            "  warnings.warn(\n",
            "/usr/local/lib/python3.10/dist-packages/sklearn/cluster/_kmeans.py:870: FutureWarning: The default value of `n_init` will change from 10 to 'auto' in 1.4. Set the value of `n_init` explicitly to suppress the warning\n",
            "  warnings.warn(\n",
            "/usr/local/lib/python3.10/dist-packages/sklearn/cluster/_kmeans.py:870: FutureWarning: The default value of `n_init` will change from 10 to 'auto' in 1.4. Set the value of `n_init` explicitly to suppress the warning\n",
            "  warnings.warn(\n",
            "/usr/local/lib/python3.10/dist-packages/sklearn/cluster/_kmeans.py:870: FutureWarning: The default value of `n_init` will change from 10 to 'auto' in 1.4. Set the value of `n_init` explicitly to suppress the warning\n",
            "  warnings.warn(\n",
            "/usr/local/lib/python3.10/dist-packages/sklearn/cluster/_kmeans.py:870: FutureWarning: The default value of `n_init` will change from 10 to 'auto' in 1.4. Set the value of `n_init` explicitly to suppress the warning\n",
            "  warnings.warn(\n",
            "/usr/local/lib/python3.10/dist-packages/sklearn/cluster/_kmeans.py:870: FutureWarning: The default value of `n_init` will change from 10 to 'auto' in 1.4. Set the value of `n_init` explicitly to suppress the warning\n",
            "  warnings.warn(\n",
            "/usr/local/lib/python3.10/dist-packages/sklearn/cluster/_kmeans.py:870: FutureWarning: The default value of `n_init` will change from 10 to 'auto' in 1.4. Set the value of `n_init` explicitly to suppress the warning\n",
            "  warnings.warn(\n",
            "/usr/local/lib/python3.10/dist-packages/sklearn/cluster/_kmeans.py:870: FutureWarning: The default value of `n_init` will change from 10 to 'auto' in 1.4. Set the value of `n_init` explicitly to suppress the warning\n",
            "  warnings.warn(\n",
            "/usr/local/lib/python3.10/dist-packages/sklearn/cluster/_kmeans.py:870: FutureWarning: The default value of `n_init` will change from 10 to 'auto' in 1.4. Set the value of `n_init` explicitly to suppress the warning\n",
            "  warnings.warn(\n",
            "/usr/local/lib/python3.10/dist-packages/sklearn/cluster/_kmeans.py:870: FutureWarning: The default value of `n_init` will change from 10 to 'auto' in 1.4. Set the value of `n_init` explicitly to suppress the warning\n",
            "  warnings.warn(\n"
          ]
        },
        {
          "output_type": "stream",
          "name": "stdout",
          "text": [
            "prediccion de datos normalizados con  59  clusteres lista\n",
            "prediccion de datos normalizados con  60  clusteres lista\n"
          ]
        },
        {
          "output_type": "stream",
          "name": "stderr",
          "text": [
            "/usr/local/lib/python3.10/dist-packages/sklearn/cluster/_kmeans.py:870: FutureWarning: The default value of `n_init` will change from 10 to 'auto' in 1.4. Set the value of `n_init` explicitly to suppress the warning\n",
            "  warnings.warn(\n",
            "/usr/local/lib/python3.10/dist-packages/sklearn/cluster/_kmeans.py:870: FutureWarning: The default value of `n_init` will change from 10 to 'auto' in 1.4. Set the value of `n_init` explicitly to suppress the warning\n",
            "  warnings.warn(\n"
          ]
        },
        {
          "output_type": "stream",
          "name": "stdout",
          "text": [
            "prediccion de datos normalizados con  61  clusteres lista\n",
            "prediccion de datos normalizados con  62  clusteres lista\n"
          ]
        },
        {
          "output_type": "stream",
          "name": "stderr",
          "text": [
            "/usr/local/lib/python3.10/dist-packages/sklearn/cluster/_kmeans.py:870: FutureWarning: The default value of `n_init` will change from 10 to 'auto' in 1.4. Set the value of `n_init` explicitly to suppress the warning\n",
            "  warnings.warn(\n",
            "/usr/local/lib/python3.10/dist-packages/sklearn/cluster/_kmeans.py:870: FutureWarning: The default value of `n_init` will change from 10 to 'auto' in 1.4. Set the value of `n_init` explicitly to suppress the warning\n",
            "  warnings.warn(\n"
          ]
        },
        {
          "output_type": "stream",
          "name": "stdout",
          "text": [
            "prediccion de datos normalizados con  63  clusteres lista\n",
            "prediccion de datos normalizados con  64  clusteres lista\n",
            "prediccion de datos normalizados con  65  clusteres lista\n",
            "prediccion de datos normalizados con  66  clusteres lista\n",
            "prediccion de datos normalizados con  67  clusteres lista\n"
          ]
        },
        {
          "output_type": "stream",
          "name": "stderr",
          "text": [
            "/usr/local/lib/python3.10/dist-packages/sklearn/cluster/_kmeans.py:870: FutureWarning: The default value of `n_init` will change from 10 to 'auto' in 1.4. Set the value of `n_init` explicitly to suppress the warning\n",
            "  warnings.warn(\n",
            "/usr/local/lib/python3.10/dist-packages/sklearn/cluster/_kmeans.py:870: FutureWarning: The default value of `n_init` will change from 10 to 'auto' in 1.4. Set the value of `n_init` explicitly to suppress the warning\n",
            "  warnings.warn(\n",
            "/usr/local/lib/python3.10/dist-packages/sklearn/cluster/_kmeans.py:870: FutureWarning: The default value of `n_init` will change from 10 to 'auto' in 1.4. Set the value of `n_init` explicitly to suppress the warning\n",
            "  warnings.warn(\n",
            "/usr/local/lib/python3.10/dist-packages/sklearn/cluster/_kmeans.py:870: FutureWarning: The default value of `n_init` will change from 10 to 'auto' in 1.4. Set the value of `n_init` explicitly to suppress the warning\n",
            "  warnings.warn(\n",
            "/usr/local/lib/python3.10/dist-packages/sklearn/cluster/_kmeans.py:870: FutureWarning: The default value of `n_init` will change from 10 to 'auto' in 1.4. Set the value of `n_init` explicitly to suppress the warning\n",
            "  warnings.warn(\n"
          ]
        },
        {
          "output_type": "stream",
          "name": "stdout",
          "text": [
            "prediccion de datos normalizados con  68  clusteres lista\n",
            "prediccion de datos normalizados con  69  clusteres lista\n",
            "prediccion de datos normalizados con  70  clusteres lista\n",
            "prediccion de datos normalizados con  71  clusteres lista\n",
            "prediccion de datos normalizados con  72  clusteres lista\n"
          ]
        },
        {
          "output_type": "stream",
          "name": "stderr",
          "text": [
            "/usr/local/lib/python3.10/dist-packages/sklearn/cluster/_kmeans.py:870: FutureWarning: The default value of `n_init` will change from 10 to 'auto' in 1.4. Set the value of `n_init` explicitly to suppress the warning\n",
            "  warnings.warn(\n",
            "/usr/local/lib/python3.10/dist-packages/sklearn/cluster/_kmeans.py:870: FutureWarning: The default value of `n_init` will change from 10 to 'auto' in 1.4. Set the value of `n_init` explicitly to suppress the warning\n",
            "  warnings.warn(\n",
            "/usr/local/lib/python3.10/dist-packages/sklearn/cluster/_kmeans.py:870: FutureWarning: The default value of `n_init` will change from 10 to 'auto' in 1.4. Set the value of `n_init` explicitly to suppress the warning\n",
            "  warnings.warn(\n",
            "/usr/local/lib/python3.10/dist-packages/sklearn/cluster/_kmeans.py:870: FutureWarning: The default value of `n_init` will change from 10 to 'auto' in 1.4. Set the value of `n_init` explicitly to suppress the warning\n",
            "  warnings.warn(\n",
            "/usr/local/lib/python3.10/dist-packages/sklearn/cluster/_kmeans.py:870: FutureWarning: The default value of `n_init` will change from 10 to 'auto' in 1.4. Set the value of `n_init` explicitly to suppress the warning\n",
            "  warnings.warn(\n"
          ]
        },
        {
          "output_type": "stream",
          "name": "stdout",
          "text": [
            "prediccion de datos normalizados con  73  clusteres lista\n",
            "prediccion de datos normalizados con  74  clusteres lista\n",
            "prediccion de datos normalizados con  75  clusteres lista\n",
            "prediccion de datos normalizados con  76  clusteres lista\n"
          ]
        },
        {
          "output_type": "stream",
          "name": "stderr",
          "text": [
            "/usr/local/lib/python3.10/dist-packages/sklearn/cluster/_kmeans.py:870: FutureWarning: The default value of `n_init` will change from 10 to 'auto' in 1.4. Set the value of `n_init` explicitly to suppress the warning\n",
            "  warnings.warn(\n",
            "/usr/local/lib/python3.10/dist-packages/sklearn/cluster/_kmeans.py:870: FutureWarning: The default value of `n_init` will change from 10 to 'auto' in 1.4. Set the value of `n_init` explicitly to suppress the warning\n",
            "  warnings.warn(\n",
            "/usr/local/lib/python3.10/dist-packages/sklearn/cluster/_kmeans.py:870: FutureWarning: The default value of `n_init` will change from 10 to 'auto' in 1.4. Set the value of `n_init` explicitly to suppress the warning\n",
            "  warnings.warn(\n",
            "/usr/local/lib/python3.10/dist-packages/sklearn/cluster/_kmeans.py:870: FutureWarning: The default value of `n_init` will change from 10 to 'auto' in 1.4. Set the value of `n_init` explicitly to suppress the warning\n",
            "  warnings.warn(\n"
          ]
        },
        {
          "output_type": "stream",
          "name": "stdout",
          "text": [
            "prediccion de datos normalizados con  77  clusteres lista\n",
            "prediccion de datos normalizados con  78  clusteres lista\n",
            "prediccion de datos normalizados con  79  clusteres lista\n",
            "prediccion de datos normalizados con  80  clusteres lista\n"
          ]
        },
        {
          "output_type": "stream",
          "name": "stderr",
          "text": [
            "/usr/local/lib/python3.10/dist-packages/sklearn/cluster/_kmeans.py:870: FutureWarning: The default value of `n_init` will change from 10 to 'auto' in 1.4. Set the value of `n_init` explicitly to suppress the warning\n",
            "  warnings.warn(\n",
            "/usr/local/lib/python3.10/dist-packages/sklearn/cluster/_kmeans.py:870: FutureWarning: The default value of `n_init` will change from 10 to 'auto' in 1.4. Set the value of `n_init` explicitly to suppress the warning\n",
            "  warnings.warn(\n",
            "/usr/local/lib/python3.10/dist-packages/sklearn/cluster/_kmeans.py:870: FutureWarning: The default value of `n_init` will change from 10 to 'auto' in 1.4. Set the value of `n_init` explicitly to suppress the warning\n",
            "  warnings.warn(\n"
          ]
        },
        {
          "output_type": "stream",
          "name": "stdout",
          "text": [
            "prediccion de datos normalizados con  81  clusteres lista\n",
            "prediccion de datos normalizados con  82  clusteres lista\n",
            "prediccion de datos normalizados con  83  clusteres lista\n",
            "prediccion de datos normalizados con  84  clusteres lista\n",
            "prediccion de datos normalizados con  85  clusteres lista\n"
          ]
        },
        {
          "output_type": "stream",
          "name": "stderr",
          "text": [
            "/usr/local/lib/python3.10/dist-packages/sklearn/cluster/_kmeans.py:870: FutureWarning: The default value of `n_init` will change from 10 to 'auto' in 1.4. Set the value of `n_init` explicitly to suppress the warning\n",
            "  warnings.warn(\n",
            "/usr/local/lib/python3.10/dist-packages/sklearn/cluster/_kmeans.py:870: FutureWarning: The default value of `n_init` will change from 10 to 'auto' in 1.4. Set the value of `n_init` explicitly to suppress the warning\n",
            "  warnings.warn(\n",
            "/usr/local/lib/python3.10/dist-packages/sklearn/cluster/_kmeans.py:870: FutureWarning: The default value of `n_init` will change from 10 to 'auto' in 1.4. Set the value of `n_init` explicitly to suppress the warning\n",
            "  warnings.warn(\n",
            "/usr/local/lib/python3.10/dist-packages/sklearn/cluster/_kmeans.py:870: FutureWarning: The default value of `n_init` will change from 10 to 'auto' in 1.4. Set the value of `n_init` explicitly to suppress the warning\n",
            "  warnings.warn(\n",
            "/usr/local/lib/python3.10/dist-packages/sklearn/cluster/_kmeans.py:870: FutureWarning: The default value of `n_init` will change from 10 to 'auto' in 1.4. Set the value of `n_init` explicitly to suppress the warning\n",
            "  warnings.warn(\n"
          ]
        },
        {
          "output_type": "stream",
          "name": "stdout",
          "text": [
            "prediccion de datos normalizados con  86  clusteres lista\n",
            "prediccion de datos normalizados con  87  clusteres lista\n",
            "prediccion de datos normalizados con  88  clusteres lista\n",
            "prediccion de datos normalizados con  89  clusteres lista\n",
            "prediccion de datos normalizados con  90  clusteres lista\n"
          ]
        },
        {
          "output_type": "stream",
          "name": "stderr",
          "text": [
            "/usr/local/lib/python3.10/dist-packages/sklearn/cluster/_kmeans.py:870: FutureWarning: The default value of `n_init` will change from 10 to 'auto' in 1.4. Set the value of `n_init` explicitly to suppress the warning\n",
            "  warnings.warn(\n",
            "/usr/local/lib/python3.10/dist-packages/sklearn/cluster/_kmeans.py:870: FutureWarning: The default value of `n_init` will change from 10 to 'auto' in 1.4. Set the value of `n_init` explicitly to suppress the warning\n",
            "  warnings.warn(\n",
            "/usr/local/lib/python3.10/dist-packages/sklearn/cluster/_kmeans.py:870: FutureWarning: The default value of `n_init` will change from 10 to 'auto' in 1.4. Set the value of `n_init` explicitly to suppress the warning\n",
            "  warnings.warn(\n",
            "/usr/local/lib/python3.10/dist-packages/sklearn/cluster/_kmeans.py:870: FutureWarning: The default value of `n_init` will change from 10 to 'auto' in 1.4. Set the value of `n_init` explicitly to suppress the warning\n",
            "  warnings.warn(\n",
            "/usr/local/lib/python3.10/dist-packages/sklearn/cluster/_kmeans.py:870: FutureWarning: The default value of `n_init` will change from 10 to 'auto' in 1.4. Set the value of `n_init` explicitly to suppress the warning\n",
            "  warnings.warn(\n"
          ]
        },
        {
          "output_type": "stream",
          "name": "stdout",
          "text": [
            "prediccion de datos normalizados con  91  clusteres lista\n",
            "prediccion de datos normalizados con  92  clusteres lista\n",
            "prediccion de datos normalizados con  93  clusteres lista\n",
            "prediccion de datos normalizados con  94  clusteres lista\n",
            "prediccion de datos normalizados con  95  clusteres lista\n",
            "prediccion de datos normalizados con  96  clusteres lista\n",
            "prediccion de datos normalizados con  97  clusteres lista\n"
          ]
        },
        {
          "output_type": "stream",
          "name": "stderr",
          "text": [
            "/usr/local/lib/python3.10/dist-packages/sklearn/cluster/_kmeans.py:870: FutureWarning: The default value of `n_init` will change from 10 to 'auto' in 1.4. Set the value of `n_init` explicitly to suppress the warning\n",
            "  warnings.warn(\n",
            "/usr/local/lib/python3.10/dist-packages/sklearn/cluster/_kmeans.py:870: FutureWarning: The default value of `n_init` will change from 10 to 'auto' in 1.4. Set the value of `n_init` explicitly to suppress the warning\n",
            "  warnings.warn(\n",
            "/usr/local/lib/python3.10/dist-packages/sklearn/cluster/_kmeans.py:870: FutureWarning: The default value of `n_init` will change from 10 to 'auto' in 1.4. Set the value of `n_init` explicitly to suppress the warning\n",
            "  warnings.warn(\n",
            "/usr/local/lib/python3.10/dist-packages/sklearn/cluster/_kmeans.py:870: FutureWarning: The default value of `n_init` will change from 10 to 'auto' in 1.4. Set the value of `n_init` explicitly to suppress the warning\n",
            "  warnings.warn(\n",
            "/usr/local/lib/python3.10/dist-packages/sklearn/cluster/_kmeans.py:870: FutureWarning: The default value of `n_init` will change from 10 to 'auto' in 1.4. Set the value of `n_init` explicitly to suppress the warning\n",
            "  warnings.warn(\n",
            "/usr/local/lib/python3.10/dist-packages/sklearn/cluster/_kmeans.py:870: FutureWarning: The default value of `n_init` will change from 10 to 'auto' in 1.4. Set the value of `n_init` explicitly to suppress the warning\n",
            "  warnings.warn(\n",
            "/usr/local/lib/python3.10/dist-packages/sklearn/cluster/_kmeans.py:870: FutureWarning: The default value of `n_init` will change from 10 to 'auto' in 1.4. Set the value of `n_init` explicitly to suppress the warning\n",
            "  warnings.warn(\n"
          ]
        },
        {
          "output_type": "stream",
          "name": "stdout",
          "text": [
            "prediccion de datos normalizados con  98  clusteres lista\n",
            "prediccion de datos normalizados con  99  clusteres lista\n",
            "prediccion de datos normalizados con  100  clusteres lista\n",
            "prediccion de datos normalizados con  101  clusteres lista\n",
            "prediccion de datos normalizados con  102  clusteres lista\n",
            "prediccion de datos normalizados con  103  clusteres lista\n",
            "prediccion de datos normalizados con  104  clusteres lista\n"
          ]
        },
        {
          "output_type": "stream",
          "name": "stderr",
          "text": [
            "/usr/local/lib/python3.10/dist-packages/sklearn/cluster/_kmeans.py:870: FutureWarning: The default value of `n_init` will change from 10 to 'auto' in 1.4. Set the value of `n_init` explicitly to suppress the warning\n",
            "  warnings.warn(\n",
            "/usr/local/lib/python3.10/dist-packages/sklearn/cluster/_kmeans.py:870: FutureWarning: The default value of `n_init` will change from 10 to 'auto' in 1.4. Set the value of `n_init` explicitly to suppress the warning\n",
            "  warnings.warn(\n",
            "/usr/local/lib/python3.10/dist-packages/sklearn/cluster/_kmeans.py:870: FutureWarning: The default value of `n_init` will change from 10 to 'auto' in 1.4. Set the value of `n_init` explicitly to suppress the warning\n",
            "  warnings.warn(\n",
            "/usr/local/lib/python3.10/dist-packages/sklearn/cluster/_kmeans.py:870: FutureWarning: The default value of `n_init` will change from 10 to 'auto' in 1.4. Set the value of `n_init` explicitly to suppress the warning\n",
            "  warnings.warn(\n",
            "/usr/local/lib/python3.10/dist-packages/sklearn/cluster/_kmeans.py:870: FutureWarning: The default value of `n_init` will change from 10 to 'auto' in 1.4. Set the value of `n_init` explicitly to suppress the warning\n",
            "  warnings.warn(\n",
            "/usr/local/lib/python3.10/dist-packages/sklearn/cluster/_kmeans.py:870: FutureWarning: The default value of `n_init` will change from 10 to 'auto' in 1.4. Set the value of `n_init` explicitly to suppress the warning\n",
            "  warnings.warn(\n",
            "/usr/local/lib/python3.10/dist-packages/sklearn/cluster/_kmeans.py:870: FutureWarning: The default value of `n_init` will change from 10 to 'auto' in 1.4. Set the value of `n_init` explicitly to suppress the warning\n",
            "  warnings.warn(\n"
          ]
        },
        {
          "output_type": "stream",
          "name": "stdout",
          "text": [
            "prediccion de datos normalizados con  105  clusteres lista\n",
            "prediccion de datos normalizados con  106  clusteres lista\n",
            "prediccion de datos normalizados con  107  clusteres lista\n",
            "prediccion de datos normalizados con  108  clusteres lista\n",
            "prediccion de datos normalizados con  109  clusteres lista\n",
            "prediccion de datos normalizados con  110  clusteres lista\n",
            "prediccion de datos normalizados con  111  clusteres lista\n"
          ]
        },
        {
          "output_type": "stream",
          "name": "stderr",
          "text": [
            "/usr/local/lib/python3.10/dist-packages/sklearn/cluster/_kmeans.py:870: FutureWarning: The default value of `n_init` will change from 10 to 'auto' in 1.4. Set the value of `n_init` explicitly to suppress the warning\n",
            "  warnings.warn(\n",
            "/usr/local/lib/python3.10/dist-packages/sklearn/cluster/_kmeans.py:870: FutureWarning: The default value of `n_init` will change from 10 to 'auto' in 1.4. Set the value of `n_init` explicitly to suppress the warning\n",
            "  warnings.warn(\n",
            "/usr/local/lib/python3.10/dist-packages/sklearn/cluster/_kmeans.py:870: FutureWarning: The default value of `n_init` will change from 10 to 'auto' in 1.4. Set the value of `n_init` explicitly to suppress the warning\n",
            "  warnings.warn(\n",
            "/usr/local/lib/python3.10/dist-packages/sklearn/cluster/_kmeans.py:870: FutureWarning: The default value of `n_init` will change from 10 to 'auto' in 1.4. Set the value of `n_init` explicitly to suppress the warning\n",
            "  warnings.warn(\n",
            "/usr/local/lib/python3.10/dist-packages/sklearn/cluster/_kmeans.py:870: FutureWarning: The default value of `n_init` will change from 10 to 'auto' in 1.4. Set the value of `n_init` explicitly to suppress the warning\n",
            "  warnings.warn(\n",
            "/usr/local/lib/python3.10/dist-packages/sklearn/cluster/_kmeans.py:870: FutureWarning: The default value of `n_init` will change from 10 to 'auto' in 1.4. Set the value of `n_init` explicitly to suppress the warning\n",
            "  warnings.warn(\n",
            "/usr/local/lib/python3.10/dist-packages/sklearn/cluster/_kmeans.py:870: FutureWarning: The default value of `n_init` will change from 10 to 'auto' in 1.4. Set the value of `n_init` explicitly to suppress the warning\n",
            "  warnings.warn(\n"
          ]
        },
        {
          "output_type": "stream",
          "name": "stdout",
          "text": [
            "prediccion de datos normalizados con  112  clusteres lista\n",
            "prediccion de datos normalizados con  113  clusteres lista\n",
            "prediccion de datos normalizados con  114  clusteres lista\n",
            "prediccion de datos normalizados con  115  clusteres lista\n",
            "prediccion de datos normalizados con  116  clusteres lista\n",
            "prediccion de datos normalizados con  117  clusteres lista\n"
          ]
        },
        {
          "output_type": "stream",
          "name": "stderr",
          "text": [
            "/usr/local/lib/python3.10/dist-packages/sklearn/cluster/_kmeans.py:870: FutureWarning: The default value of `n_init` will change from 10 to 'auto' in 1.4. Set the value of `n_init` explicitly to suppress the warning\n",
            "  warnings.warn(\n",
            "/usr/local/lib/python3.10/dist-packages/sklearn/cluster/_kmeans.py:870: FutureWarning: The default value of `n_init` will change from 10 to 'auto' in 1.4. Set the value of `n_init` explicitly to suppress the warning\n",
            "  warnings.warn(\n",
            "/usr/local/lib/python3.10/dist-packages/sklearn/cluster/_kmeans.py:870: FutureWarning: The default value of `n_init` will change from 10 to 'auto' in 1.4. Set the value of `n_init` explicitly to suppress the warning\n",
            "  warnings.warn(\n",
            "/usr/local/lib/python3.10/dist-packages/sklearn/cluster/_kmeans.py:870: FutureWarning: The default value of `n_init` will change from 10 to 'auto' in 1.4. Set the value of `n_init` explicitly to suppress the warning\n",
            "  warnings.warn(\n",
            "/usr/local/lib/python3.10/dist-packages/sklearn/cluster/_kmeans.py:870: FutureWarning: The default value of `n_init` will change from 10 to 'auto' in 1.4. Set the value of `n_init` explicitly to suppress the warning\n",
            "  warnings.warn(\n"
          ]
        },
        {
          "output_type": "stream",
          "name": "stdout",
          "text": [
            "prediccion de datos normalizados con  118  clusteres lista\n"
          ]
        },
        {
          "output_type": "stream",
          "name": "stderr",
          "text": [
            "/usr/local/lib/python3.10/dist-packages/sklearn/cluster/_kmeans.py:870: FutureWarning: The default value of `n_init` will change from 10 to 'auto' in 1.4. Set the value of `n_init` explicitly to suppress the warning\n",
            "  warnings.warn(\n"
          ]
        },
        {
          "output_type": "stream",
          "name": "stdout",
          "text": [
            "prediccion de datos normalizados con  119  clusteres lista\n",
            "prediccion de datos normalizados con  120  clusteres lista\n",
            "prediccion de datos normalizados con  121  clusteres lista\n",
            "prediccion de datos normalizados con  122  clusteres lista\n",
            "prediccion de datos normalizados con  123  clusteres lista\n"
          ]
        },
        {
          "output_type": "stream",
          "name": "stderr",
          "text": [
            "/usr/local/lib/python3.10/dist-packages/sklearn/cluster/_kmeans.py:870: FutureWarning: The default value of `n_init` will change from 10 to 'auto' in 1.4. Set the value of `n_init` explicitly to suppress the warning\n",
            "  warnings.warn(\n",
            "/usr/local/lib/python3.10/dist-packages/sklearn/cluster/_kmeans.py:870: FutureWarning: The default value of `n_init` will change from 10 to 'auto' in 1.4. Set the value of `n_init` explicitly to suppress the warning\n",
            "  warnings.warn(\n",
            "/usr/local/lib/python3.10/dist-packages/sklearn/cluster/_kmeans.py:870: FutureWarning: The default value of `n_init` will change from 10 to 'auto' in 1.4. Set the value of `n_init` explicitly to suppress the warning\n",
            "  warnings.warn(\n",
            "/usr/local/lib/python3.10/dist-packages/sklearn/cluster/_kmeans.py:870: FutureWarning: The default value of `n_init` will change from 10 to 'auto' in 1.4. Set the value of `n_init` explicitly to suppress the warning\n",
            "  warnings.warn(\n"
          ]
        },
        {
          "output_type": "stream",
          "name": "stdout",
          "text": [
            "prediccion de datos normalizados con  124  clusteres lista\n",
            "prediccion de datos normalizados con  125  clusteres lista\n",
            "prediccion de datos normalizados con  126  clusteres lista\n"
          ]
        },
        {
          "output_type": "stream",
          "name": "stderr",
          "text": [
            "/usr/local/lib/python3.10/dist-packages/sklearn/cluster/_kmeans.py:870: FutureWarning: The default value of `n_init` will change from 10 to 'auto' in 1.4. Set the value of `n_init` explicitly to suppress the warning\n",
            "  warnings.warn(\n",
            "/usr/local/lib/python3.10/dist-packages/sklearn/cluster/_kmeans.py:870: FutureWarning: The default value of `n_init` will change from 10 to 'auto' in 1.4. Set the value of `n_init` explicitly to suppress the warning\n",
            "  warnings.warn(\n",
            "/usr/local/lib/python3.10/dist-packages/sklearn/cluster/_kmeans.py:870: FutureWarning: The default value of `n_init` will change from 10 to 'auto' in 1.4. Set the value of `n_init` explicitly to suppress the warning\n",
            "  warnings.warn(\n"
          ]
        },
        {
          "output_type": "stream",
          "name": "stdout",
          "text": [
            "prediccion de datos normalizados con  127  clusteres lista\n",
            "prediccion de datos normalizados con  128  clusteres lista\n",
            "prediccion de datos normalizados con  129  clusteres lista\n"
          ]
        },
        {
          "output_type": "stream",
          "name": "stderr",
          "text": [
            "/usr/local/lib/python3.10/dist-packages/sklearn/cluster/_kmeans.py:870: FutureWarning: The default value of `n_init` will change from 10 to 'auto' in 1.4. Set the value of `n_init` explicitly to suppress the warning\n",
            "  warnings.warn(\n",
            "/usr/local/lib/python3.10/dist-packages/sklearn/cluster/_kmeans.py:870: FutureWarning: The default value of `n_init` will change from 10 to 'auto' in 1.4. Set the value of `n_init` explicitly to suppress the warning\n",
            "  warnings.warn(\n",
            "/usr/local/lib/python3.10/dist-packages/sklearn/cluster/_kmeans.py:870: FutureWarning: The default value of `n_init` will change from 10 to 'auto' in 1.4. Set the value of `n_init` explicitly to suppress the warning\n",
            "  warnings.warn(\n"
          ]
        },
        {
          "output_type": "stream",
          "name": "stdout",
          "text": [
            "prediccion de datos normalizados con  130  clusteres lista\n",
            "prediccion de datos normalizados con  131  clusteres lista\n",
            "prediccion de datos normalizados con  132  clusteres lista\n"
          ]
        },
        {
          "output_type": "stream",
          "name": "stderr",
          "text": [
            "/usr/local/lib/python3.10/dist-packages/sklearn/cluster/_kmeans.py:870: FutureWarning: The default value of `n_init` will change from 10 to 'auto' in 1.4. Set the value of `n_init` explicitly to suppress the warning\n",
            "  warnings.warn(\n",
            "/usr/local/lib/python3.10/dist-packages/sklearn/cluster/_kmeans.py:870: FutureWarning: The default value of `n_init` will change from 10 to 'auto' in 1.4. Set the value of `n_init` explicitly to suppress the warning\n",
            "  warnings.warn(\n",
            "/usr/local/lib/python3.10/dist-packages/sklearn/cluster/_kmeans.py:870: FutureWarning: The default value of `n_init` will change from 10 to 'auto' in 1.4. Set the value of `n_init` explicitly to suppress the warning\n",
            "  warnings.warn(\n"
          ]
        },
        {
          "output_type": "stream",
          "name": "stdout",
          "text": [
            "prediccion de datos normalizados con  133  clusteres lista\n",
            "prediccion de datos normalizados con  134  clusteres lista\n",
            "prediccion de datos normalizados con  135  clusteres lista\n",
            "prediccion de datos normalizados con  136  clusteres lista\n",
            "prediccion de datos normalizados con  137  clusteres lista\n",
            "prediccion de datos normalizados con  138  clusteres lista\n",
            "prediccion de datos normalizados con  139  clusteres lista\n",
            "prediccion de datos normalizados con  140  clusteres lista\n"
          ]
        },
        {
          "output_type": "stream",
          "name": "stderr",
          "text": [
            "/usr/local/lib/python3.10/dist-packages/sklearn/cluster/_kmeans.py:870: FutureWarning: The default value of `n_init` will change from 10 to 'auto' in 1.4. Set the value of `n_init` explicitly to suppress the warning\n",
            "  warnings.warn(\n",
            "/usr/local/lib/python3.10/dist-packages/sklearn/cluster/_kmeans.py:870: FutureWarning: The default value of `n_init` will change from 10 to 'auto' in 1.4. Set the value of `n_init` explicitly to suppress the warning\n",
            "  warnings.warn(\n",
            "/usr/local/lib/python3.10/dist-packages/sklearn/cluster/_kmeans.py:870: FutureWarning: The default value of `n_init` will change from 10 to 'auto' in 1.4. Set the value of `n_init` explicitly to suppress the warning\n",
            "  warnings.warn(\n",
            "/usr/local/lib/python3.10/dist-packages/sklearn/cluster/_kmeans.py:870: FutureWarning: The default value of `n_init` will change from 10 to 'auto' in 1.4. Set the value of `n_init` explicitly to suppress the warning\n",
            "  warnings.warn(\n",
            "/usr/local/lib/python3.10/dist-packages/sklearn/cluster/_kmeans.py:870: FutureWarning: The default value of `n_init` will change from 10 to 'auto' in 1.4. Set the value of `n_init` explicitly to suppress the warning\n",
            "  warnings.warn(\n",
            "/usr/local/lib/python3.10/dist-packages/sklearn/cluster/_kmeans.py:870: FutureWarning: The default value of `n_init` will change from 10 to 'auto' in 1.4. Set the value of `n_init` explicitly to suppress the warning\n",
            "  warnings.warn(\n",
            "/usr/local/lib/python3.10/dist-packages/sklearn/cluster/_kmeans.py:870: FutureWarning: The default value of `n_init` will change from 10 to 'auto' in 1.4. Set the value of `n_init` explicitly to suppress the warning\n",
            "  warnings.warn(\n",
            "/usr/local/lib/python3.10/dist-packages/sklearn/cluster/_kmeans.py:870: FutureWarning: The default value of `n_init` will change from 10 to 'auto' in 1.4. Set the value of `n_init` explicitly to suppress the warning\n",
            "  warnings.warn(\n"
          ]
        },
        {
          "output_type": "stream",
          "name": "stdout",
          "text": [
            "prediccion de datos normalizados con  141  clusteres lista\n",
            "prediccion de datos normalizados con  142  clusteres lista\n",
            "prediccion de datos normalizados con  143  clusteres lista\n"
          ]
        },
        {
          "output_type": "stream",
          "name": "stderr",
          "text": [
            "/usr/local/lib/python3.10/dist-packages/sklearn/cluster/_kmeans.py:870: FutureWarning: The default value of `n_init` will change from 10 to 'auto' in 1.4. Set the value of `n_init` explicitly to suppress the warning\n",
            "  warnings.warn(\n",
            "/usr/local/lib/python3.10/dist-packages/sklearn/cluster/_kmeans.py:870: FutureWarning: The default value of `n_init` will change from 10 to 'auto' in 1.4. Set the value of `n_init` explicitly to suppress the warning\n",
            "  warnings.warn(\n",
            "/usr/local/lib/python3.10/dist-packages/sklearn/cluster/_kmeans.py:870: FutureWarning: The default value of `n_init` will change from 10 to 'auto' in 1.4. Set the value of `n_init` explicitly to suppress the warning\n",
            "  warnings.warn(\n"
          ]
        },
        {
          "output_type": "stream",
          "name": "stdout",
          "text": [
            "prediccion de datos normalizados con  144  clusteres lista\n"
          ]
        },
        {
          "output_type": "stream",
          "name": "stderr",
          "text": [
            "/usr/local/lib/python3.10/dist-packages/sklearn/cluster/_kmeans.py:870: FutureWarning: The default value of `n_init` will change from 10 to 'auto' in 1.4. Set the value of `n_init` explicitly to suppress the warning\n",
            "  warnings.warn(\n"
          ]
        },
        {
          "output_type": "stream",
          "name": "stdout",
          "text": [
            "prediccion de datos normalizados con  145  clusteres lista\n"
          ]
        },
        {
          "output_type": "stream",
          "name": "stderr",
          "text": [
            "/usr/local/lib/python3.10/dist-packages/sklearn/cluster/_kmeans.py:870: FutureWarning: The default value of `n_init` will change from 10 to 'auto' in 1.4. Set the value of `n_init` explicitly to suppress the warning\n",
            "  warnings.warn(\n"
          ]
        },
        {
          "output_type": "stream",
          "name": "stdout",
          "text": [
            "prediccion de datos normalizados con  146  clusteres lista\n",
            "prediccion de datos normalizados con  147  clusteres lista\n",
            "prediccion de datos normalizados con  148  clusteres lista\n",
            "prediccion de datos normalizados con  149  clusteres lista\n",
            "prediccion de datos normalizados con  150  clusteres lista\n"
          ]
        },
        {
          "output_type": "stream",
          "name": "stderr",
          "text": [
            "/usr/local/lib/python3.10/dist-packages/sklearn/cluster/_kmeans.py:870: FutureWarning: The default value of `n_init` will change from 10 to 'auto' in 1.4. Set the value of `n_init` explicitly to suppress the warning\n",
            "  warnings.warn(\n",
            "/usr/local/lib/python3.10/dist-packages/sklearn/cluster/_kmeans.py:870: FutureWarning: The default value of `n_init` will change from 10 to 'auto' in 1.4. Set the value of `n_init` explicitly to suppress the warning\n",
            "  warnings.warn(\n",
            "/usr/local/lib/python3.10/dist-packages/sklearn/cluster/_kmeans.py:870: FutureWarning: The default value of `n_init` will change from 10 to 'auto' in 1.4. Set the value of `n_init` explicitly to suppress the warning\n",
            "  warnings.warn(\n",
            "/usr/local/lib/python3.10/dist-packages/sklearn/cluster/_kmeans.py:870: FutureWarning: The default value of `n_init` will change from 10 to 'auto' in 1.4. Set the value of `n_init` explicitly to suppress the warning\n",
            "  warnings.warn(\n",
            "/usr/local/lib/python3.10/dist-packages/sklearn/cluster/_kmeans.py:870: FutureWarning: The default value of `n_init` will change from 10 to 'auto' in 1.4. Set the value of `n_init` explicitly to suppress the warning\n",
            "  warnings.warn(\n"
          ]
        },
        {
          "output_type": "stream",
          "name": "stdout",
          "text": [
            "prediccion de datos normalizados con  151  clusteres lista\n",
            "prediccion de datos normalizados con  152  clusteres lista\n",
            "prediccion de datos normalizados con  153  clusteres lista\n"
          ]
        },
        {
          "output_type": "stream",
          "name": "stderr",
          "text": [
            "/usr/local/lib/python3.10/dist-packages/sklearn/cluster/_kmeans.py:870: FutureWarning: The default value of `n_init` will change from 10 to 'auto' in 1.4. Set the value of `n_init` explicitly to suppress the warning\n",
            "  warnings.warn(\n",
            "/usr/local/lib/python3.10/dist-packages/sklearn/cluster/_kmeans.py:870: FutureWarning: The default value of `n_init` will change from 10 to 'auto' in 1.4. Set the value of `n_init` explicitly to suppress the warning\n",
            "  warnings.warn(\n",
            "/usr/local/lib/python3.10/dist-packages/sklearn/cluster/_kmeans.py:870: FutureWarning: The default value of `n_init` will change from 10 to 'auto' in 1.4. Set the value of `n_init` explicitly to suppress the warning\n",
            "  warnings.warn(\n"
          ]
        },
        {
          "output_type": "stream",
          "name": "stdout",
          "text": [
            "prediccion de datos normalizados con  154  clusteres lista\n",
            "prediccion de datos normalizados con  155  clusteres lista\n",
            "prediccion de datos normalizados con  156  clusteres lista\n",
            "prediccion de datos normalizados con  157  clusteres lista\n",
            "prediccion de datos normalizados con  158  clusteres lista\n"
          ]
        },
        {
          "output_type": "stream",
          "name": "stderr",
          "text": [
            "/usr/local/lib/python3.10/dist-packages/sklearn/cluster/_kmeans.py:870: FutureWarning: The default value of `n_init` will change from 10 to 'auto' in 1.4. Set the value of `n_init` explicitly to suppress the warning\n",
            "  warnings.warn(\n",
            "/usr/local/lib/python3.10/dist-packages/sklearn/cluster/_kmeans.py:870: FutureWarning: The default value of `n_init` will change from 10 to 'auto' in 1.4. Set the value of `n_init` explicitly to suppress the warning\n",
            "  warnings.warn(\n",
            "/usr/local/lib/python3.10/dist-packages/sklearn/cluster/_kmeans.py:870: FutureWarning: The default value of `n_init` will change from 10 to 'auto' in 1.4. Set the value of `n_init` explicitly to suppress the warning\n",
            "  warnings.warn(\n",
            "/usr/local/lib/python3.10/dist-packages/sklearn/cluster/_kmeans.py:870: FutureWarning: The default value of `n_init` will change from 10 to 'auto' in 1.4. Set the value of `n_init` explicitly to suppress the warning\n",
            "  warnings.warn(\n",
            "/usr/local/lib/python3.10/dist-packages/sklearn/cluster/_kmeans.py:870: FutureWarning: The default value of `n_init` will change from 10 to 'auto' in 1.4. Set the value of `n_init` explicitly to suppress the warning\n",
            "  warnings.warn(\n"
          ]
        },
        {
          "output_type": "stream",
          "name": "stdout",
          "text": [
            "prediccion de datos normalizados con  159  clusteres lista\n",
            "prediccion de datos normalizados con  160  clusteres lista\n",
            "prediccion de datos normalizados con  161  clusteres lista\n",
            "prediccion de datos normalizados con  162  clusteres lista\n",
            "prediccion de datos normalizados con  163  clusteres lista\n",
            "prediccion de datos normalizados con  164  clusteres lista\n"
          ]
        },
        {
          "output_type": "stream",
          "name": "stderr",
          "text": [
            "/usr/local/lib/python3.10/dist-packages/sklearn/cluster/_kmeans.py:870: FutureWarning: The default value of `n_init` will change from 10 to 'auto' in 1.4. Set the value of `n_init` explicitly to suppress the warning\n",
            "  warnings.warn(\n",
            "/usr/local/lib/python3.10/dist-packages/sklearn/cluster/_kmeans.py:870: FutureWarning: The default value of `n_init` will change from 10 to 'auto' in 1.4. Set the value of `n_init` explicitly to suppress the warning\n",
            "  warnings.warn(\n",
            "/usr/local/lib/python3.10/dist-packages/sklearn/cluster/_kmeans.py:870: FutureWarning: The default value of `n_init` will change from 10 to 'auto' in 1.4. Set the value of `n_init` explicitly to suppress the warning\n",
            "  warnings.warn(\n",
            "/usr/local/lib/python3.10/dist-packages/sklearn/cluster/_kmeans.py:870: FutureWarning: The default value of `n_init` will change from 10 to 'auto' in 1.4. Set the value of `n_init` explicitly to suppress the warning\n",
            "  warnings.warn(\n",
            "/usr/local/lib/python3.10/dist-packages/sklearn/cluster/_kmeans.py:870: FutureWarning: The default value of `n_init` will change from 10 to 'auto' in 1.4. Set the value of `n_init` explicitly to suppress the warning\n",
            "  warnings.warn(\n"
          ]
        },
        {
          "output_type": "stream",
          "name": "stdout",
          "text": [
            "prediccion de datos normalizados con  165  clusteres lista\n"
          ]
        },
        {
          "output_type": "stream",
          "name": "stderr",
          "text": [
            "/usr/local/lib/python3.10/dist-packages/sklearn/cluster/_kmeans.py:870: FutureWarning: The default value of `n_init` will change from 10 to 'auto' in 1.4. Set the value of `n_init` explicitly to suppress the warning\n",
            "  warnings.warn(\n"
          ]
        },
        {
          "output_type": "stream",
          "name": "stdout",
          "text": [
            "prediccion de datos normalizados con  166  clusteres lista\n",
            "prediccion de datos normalizados con  167  clusteres lista\n",
            "prediccion de datos normalizados con  168  clusteres lista\n",
            "prediccion de datos normalizados con  169  clusteres lista\n"
          ]
        },
        {
          "output_type": "stream",
          "name": "stderr",
          "text": [
            "/usr/local/lib/python3.10/dist-packages/sklearn/cluster/_kmeans.py:870: FutureWarning: The default value of `n_init` will change from 10 to 'auto' in 1.4. Set the value of `n_init` explicitly to suppress the warning\n",
            "  warnings.warn(\n",
            "/usr/local/lib/python3.10/dist-packages/sklearn/cluster/_kmeans.py:870: FutureWarning: The default value of `n_init` will change from 10 to 'auto' in 1.4. Set the value of `n_init` explicitly to suppress the warning\n",
            "  warnings.warn(\n",
            "/usr/local/lib/python3.10/dist-packages/sklearn/cluster/_kmeans.py:870: FutureWarning: The default value of `n_init` will change from 10 to 'auto' in 1.4. Set the value of `n_init` explicitly to suppress the warning\n",
            "  warnings.warn(\n",
            "/usr/local/lib/python3.10/dist-packages/sklearn/cluster/_kmeans.py:870: FutureWarning: The default value of `n_init` will change from 10 to 'auto' in 1.4. Set the value of `n_init` explicitly to suppress the warning\n",
            "  warnings.warn(\n"
          ]
        },
        {
          "output_type": "stream",
          "name": "stdout",
          "text": [
            "prediccion de datos normalizados con  170  clusteres lista\n",
            "prediccion de datos normalizados con  171  clusteres lista\n",
            "prediccion de datos normalizados con  172  clusteres lista\n",
            "prediccion de datos normalizados con  173  clusteres lista\n",
            "prediccion de datos normalizados con  174  clusteres lista\n"
          ]
        },
        {
          "output_type": "stream",
          "name": "stderr",
          "text": [
            "/usr/local/lib/python3.10/dist-packages/sklearn/cluster/_kmeans.py:870: FutureWarning: The default value of `n_init` will change from 10 to 'auto' in 1.4. Set the value of `n_init` explicitly to suppress the warning\n",
            "  warnings.warn(\n",
            "/usr/local/lib/python3.10/dist-packages/sklearn/cluster/_kmeans.py:870: FutureWarning: The default value of `n_init` will change from 10 to 'auto' in 1.4. Set the value of `n_init` explicitly to suppress the warning\n",
            "  warnings.warn(\n",
            "/usr/local/lib/python3.10/dist-packages/sklearn/cluster/_kmeans.py:870: FutureWarning: The default value of `n_init` will change from 10 to 'auto' in 1.4. Set the value of `n_init` explicitly to suppress the warning\n",
            "  warnings.warn(\n",
            "/usr/local/lib/python3.10/dist-packages/sklearn/cluster/_kmeans.py:870: FutureWarning: The default value of `n_init` will change from 10 to 'auto' in 1.4. Set the value of `n_init` explicitly to suppress the warning\n",
            "  warnings.warn(\n",
            "/usr/local/lib/python3.10/dist-packages/sklearn/cluster/_kmeans.py:870: FutureWarning: The default value of `n_init` will change from 10 to 'auto' in 1.4. Set the value of `n_init` explicitly to suppress the warning\n",
            "  warnings.warn(\n"
          ]
        },
        {
          "output_type": "stream",
          "name": "stdout",
          "text": [
            "prediccion de datos normalizados con  175  clusteres lista\n",
            "prediccion de datos normalizados con  176  clusteres lista\n"
          ]
        },
        {
          "output_type": "stream",
          "name": "stderr",
          "text": [
            "/usr/local/lib/python3.10/dist-packages/sklearn/cluster/_kmeans.py:870: FutureWarning: The default value of `n_init` will change from 10 to 'auto' in 1.4. Set the value of `n_init` explicitly to suppress the warning\n",
            "  warnings.warn(\n",
            "/usr/local/lib/python3.10/dist-packages/sklearn/cluster/_kmeans.py:870: FutureWarning: The default value of `n_init` will change from 10 to 'auto' in 1.4. Set the value of `n_init` explicitly to suppress the warning\n",
            "  warnings.warn(\n"
          ]
        },
        {
          "output_type": "stream",
          "name": "stdout",
          "text": [
            "prediccion de datos normalizados con  177  clusteres lista\n",
            "prediccion de datos normalizados con  178  clusteres lista\n"
          ]
        },
        {
          "output_type": "stream",
          "name": "stderr",
          "text": [
            "/usr/local/lib/python3.10/dist-packages/sklearn/cluster/_kmeans.py:870: FutureWarning: The default value of `n_init` will change from 10 to 'auto' in 1.4. Set the value of `n_init` explicitly to suppress the warning\n",
            "  warnings.warn(\n",
            "/usr/local/lib/python3.10/dist-packages/sklearn/cluster/_kmeans.py:870: FutureWarning: The default value of `n_init` will change from 10 to 'auto' in 1.4. Set the value of `n_init` explicitly to suppress the warning\n",
            "  warnings.warn(\n"
          ]
        },
        {
          "output_type": "stream",
          "name": "stdout",
          "text": [
            "prediccion de datos normalizados con  179  clusteres lista\n",
            "prediccion de datos normalizados con  180  clusteres lista\n",
            "prediccion de datos normalizados con  181  clusteres lista\n",
            "prediccion de datos normalizados con  182  clusteres lista\n",
            "prediccion de datos normalizados con  183  clusteres lista\n"
          ]
        },
        {
          "output_type": "stream",
          "name": "stderr",
          "text": [
            "/usr/local/lib/python3.10/dist-packages/sklearn/cluster/_kmeans.py:870: FutureWarning: The default value of `n_init` will change from 10 to 'auto' in 1.4. Set the value of `n_init` explicitly to suppress the warning\n",
            "  warnings.warn(\n",
            "/usr/local/lib/python3.10/dist-packages/sklearn/cluster/_kmeans.py:870: FutureWarning: The default value of `n_init` will change from 10 to 'auto' in 1.4. Set the value of `n_init` explicitly to suppress the warning\n",
            "  warnings.warn(\n",
            "/usr/local/lib/python3.10/dist-packages/sklearn/cluster/_kmeans.py:870: FutureWarning: The default value of `n_init` will change from 10 to 'auto' in 1.4. Set the value of `n_init` explicitly to suppress the warning\n",
            "  warnings.warn(\n",
            "/usr/local/lib/python3.10/dist-packages/sklearn/cluster/_kmeans.py:870: FutureWarning: The default value of `n_init` will change from 10 to 'auto' in 1.4. Set the value of `n_init` explicitly to suppress the warning\n",
            "  warnings.warn(\n",
            "/usr/local/lib/python3.10/dist-packages/sklearn/cluster/_kmeans.py:870: FutureWarning: The default value of `n_init` will change from 10 to 'auto' in 1.4. Set the value of `n_init` explicitly to suppress the warning\n",
            "  warnings.warn(\n"
          ]
        },
        {
          "output_type": "stream",
          "name": "stdout",
          "text": [
            "prediccion de datos normalizados con  184  clusteres lista\n",
            "prediccion de datos normalizados con  185  clusteres lista\n",
            "prediccion de datos normalizados con  186  clusteres lista\n"
          ]
        },
        {
          "output_type": "stream",
          "name": "stderr",
          "text": [
            "/usr/local/lib/python3.10/dist-packages/sklearn/cluster/_kmeans.py:870: FutureWarning: The default value of `n_init` will change from 10 to 'auto' in 1.4. Set the value of `n_init` explicitly to suppress the warning\n",
            "  warnings.warn(\n",
            "/usr/local/lib/python3.10/dist-packages/sklearn/cluster/_kmeans.py:870: FutureWarning: The default value of `n_init` will change from 10 to 'auto' in 1.4. Set the value of `n_init` explicitly to suppress the warning\n",
            "  warnings.warn(\n",
            "/usr/local/lib/python3.10/dist-packages/sklearn/cluster/_kmeans.py:870: FutureWarning: The default value of `n_init` will change from 10 to 'auto' in 1.4. Set the value of `n_init` explicitly to suppress the warning\n",
            "  warnings.warn(\n",
            "<ipython-input-72-c79567e0f70e>:5: ConvergenceWarning: Number of distinct clusters (186) found smaller than n_clusters (187). Possibly due to duplicate points in X.\n",
            "  k_means.fit(X)\n",
            "/usr/local/lib/python3.10/dist-packages/sklearn/cluster/_kmeans.py:870: FutureWarning: The default value of `n_init` will change from 10 to 'auto' in 1.4. Set the value of `n_init` explicitly to suppress the warning\n",
            "  warnings.warn(\n"
          ]
        },
        {
          "output_type": "stream",
          "name": "stdout",
          "text": [
            "prediccion de datos normalizados con  187  clusteres lista\n"
          ]
        },
        {
          "output_type": "stream",
          "name": "stderr",
          "text": [
            "<ipython-input-72-c79567e0f70e>:5: ConvergenceWarning: Number of distinct clusters (186) found smaller than n_clusters (188). Possibly due to duplicate points in X.\n",
            "  k_means.fit(X)\n",
            "/usr/local/lib/python3.10/dist-packages/sklearn/cluster/_kmeans.py:870: FutureWarning: The default value of `n_init` will change from 10 to 'auto' in 1.4. Set the value of `n_init` explicitly to suppress the warning\n",
            "  warnings.warn(\n"
          ]
        },
        {
          "output_type": "stream",
          "name": "stdout",
          "text": [
            "prediccion de datos normalizados con  188  clusteres lista\n"
          ]
        },
        {
          "output_type": "stream",
          "name": "stderr",
          "text": [
            "<ipython-input-72-c79567e0f70e>:5: ConvergenceWarning: Number of distinct clusters (186) found smaller than n_clusters (189). Possibly due to duplicate points in X.\n",
            "  k_means.fit(X)\n",
            "/usr/local/lib/python3.10/dist-packages/sklearn/cluster/_kmeans.py:870: FutureWarning: The default value of `n_init` will change from 10 to 'auto' in 1.4. Set the value of `n_init` explicitly to suppress the warning\n",
            "  warnings.warn(\n"
          ]
        },
        {
          "output_type": "stream",
          "name": "stdout",
          "text": [
            "prediccion de datos normalizados con  189  clusteres lista\n"
          ]
        },
        {
          "output_type": "stream",
          "name": "stderr",
          "text": [
            "<ipython-input-72-c79567e0f70e>:5: ConvergenceWarning: Number of distinct clusters (186) found smaller than n_clusters (190). Possibly due to duplicate points in X.\n",
            "  k_means.fit(X)\n",
            "/usr/local/lib/python3.10/dist-packages/sklearn/cluster/_kmeans.py:870: FutureWarning: The default value of `n_init` will change from 10 to 'auto' in 1.4. Set the value of `n_init` explicitly to suppress the warning\n",
            "  warnings.warn(\n"
          ]
        },
        {
          "output_type": "stream",
          "name": "stdout",
          "text": [
            "prediccion de datos normalizados con  190  clusteres lista\n"
          ]
        },
        {
          "output_type": "stream",
          "name": "stderr",
          "text": [
            "<ipython-input-72-c79567e0f70e>:5: ConvergenceWarning: Number of distinct clusters (186) found smaller than n_clusters (191). Possibly due to duplicate points in X.\n",
            "  k_means.fit(X)\n",
            "/usr/local/lib/python3.10/dist-packages/sklearn/cluster/_kmeans.py:870: FutureWarning: The default value of `n_init` will change from 10 to 'auto' in 1.4. Set the value of `n_init` explicitly to suppress the warning\n",
            "  warnings.warn(\n",
            "/usr/local/lib/python3.10/dist-packages/sklearn/cluster/_kmeans.py:870: FutureWarning: The default value of `n_init` will change from 10 to 'auto' in 1.4. Set the value of `n_init` explicitly to suppress the warning\n",
            "  warnings.warn(\n",
            "/usr/local/lib/python3.10/dist-packages/sklearn/cluster/_kmeans.py:870: FutureWarning: The default value of `n_init` will change from 10 to 'auto' in 1.4. Set the value of `n_init` explicitly to suppress the warning\n",
            "  warnings.warn(\n",
            "/usr/local/lib/python3.10/dist-packages/sklearn/cluster/_kmeans.py:870: FutureWarning: The default value of `n_init` will change from 10 to 'auto' in 1.4. Set the value of `n_init` explicitly to suppress the warning\n",
            "  warnings.warn(\n",
            "/usr/local/lib/python3.10/dist-packages/sklearn/cluster/_kmeans.py:870: FutureWarning: The default value of `n_init` will change from 10 to 'auto' in 1.4. Set the value of `n_init` explicitly to suppress the warning\n",
            "  warnings.warn(\n",
            "/usr/local/lib/python3.10/dist-packages/sklearn/cluster/_kmeans.py:870: FutureWarning: The default value of `n_init` will change from 10 to 'auto' in 1.4. Set the value of `n_init` explicitly to suppress the warning\n",
            "  warnings.warn(\n",
            "/usr/local/lib/python3.10/dist-packages/sklearn/cluster/_kmeans.py:870: FutureWarning: The default value of `n_init` will change from 10 to 'auto' in 1.4. Set the value of `n_init` explicitly to suppress the warning\n",
            "  warnings.warn(\n",
            "/usr/local/lib/python3.10/dist-packages/sklearn/cluster/_kmeans.py:870: FutureWarning: The default value of `n_init` will change from 10 to 'auto' in 1.4. Set the value of `n_init` explicitly to suppress the warning\n",
            "  warnings.warn(\n",
            "/usr/local/lib/python3.10/dist-packages/sklearn/cluster/_kmeans.py:870: FutureWarning: The default value of `n_init` will change from 10 to 'auto' in 1.4. Set the value of `n_init` explicitly to suppress the warning\n",
            "  warnings.warn(\n",
            "/usr/local/lib/python3.10/dist-packages/sklearn/cluster/_kmeans.py:870: FutureWarning: The default value of `n_init` will change from 10 to 'auto' in 1.4. Set the value of `n_init` explicitly to suppress the warning\n",
            "  warnings.warn(\n",
            "/usr/local/lib/python3.10/dist-packages/sklearn/cluster/_kmeans.py:870: FutureWarning: The default value of `n_init` will change from 10 to 'auto' in 1.4. Set the value of `n_init` explicitly to suppress the warning\n",
            "  warnings.warn(\n",
            "/usr/local/lib/python3.10/dist-packages/sklearn/cluster/_kmeans.py:870: FutureWarning: The default value of `n_init` will change from 10 to 'auto' in 1.4. Set the value of `n_init` explicitly to suppress the warning\n",
            "  warnings.warn(\n",
            "/usr/local/lib/python3.10/dist-packages/sklearn/cluster/_kmeans.py:870: FutureWarning: The default value of `n_init` will change from 10 to 'auto' in 1.4. Set the value of `n_init` explicitly to suppress the warning\n",
            "  warnings.warn(\n",
            "/usr/local/lib/python3.10/dist-packages/sklearn/cluster/_kmeans.py:870: FutureWarning: The default value of `n_init` will change from 10 to 'auto' in 1.4. Set the value of `n_init` explicitly to suppress the warning\n",
            "  warnings.warn(\n",
            "/usr/local/lib/python3.10/dist-packages/sklearn/cluster/_kmeans.py:870: FutureWarning: The default value of `n_init` will change from 10 to 'auto' in 1.4. Set the value of `n_init` explicitly to suppress the warning\n",
            "  warnings.warn(\n",
            "/usr/local/lib/python3.10/dist-packages/sklearn/cluster/_kmeans.py:870: FutureWarning: The default value of `n_init` will change from 10 to 'auto' in 1.4. Set the value of `n_init` explicitly to suppress the warning\n",
            "  warnings.warn(\n",
            "/usr/local/lib/python3.10/dist-packages/sklearn/cluster/_kmeans.py:870: FutureWarning: The default value of `n_init` will change from 10 to 'auto' in 1.4. Set the value of `n_init` explicitly to suppress the warning\n",
            "  warnings.warn(\n",
            "/usr/local/lib/python3.10/dist-packages/sklearn/cluster/_kmeans.py:870: FutureWarning: The default value of `n_init` will change from 10 to 'auto' in 1.4. Set the value of `n_init` explicitly to suppress the warning\n",
            "  warnings.warn(\n",
            "/usr/local/lib/python3.10/dist-packages/sklearn/cluster/_kmeans.py:870: FutureWarning: The default value of `n_init` will change from 10 to 'auto' in 1.4. Set the value of `n_init` explicitly to suppress the warning\n",
            "  warnings.warn(\n",
            "/usr/local/lib/python3.10/dist-packages/sklearn/cluster/_kmeans.py:870: FutureWarning: The default value of `n_init` will change from 10 to 'auto' in 1.4. Set the value of `n_init` explicitly to suppress the warning\n",
            "  warnings.warn(\n",
            "/usr/local/lib/python3.10/dist-packages/sklearn/cluster/_kmeans.py:870: FutureWarning: The default value of `n_init` will change from 10 to 'auto' in 1.4. Set the value of `n_init` explicitly to suppress the warning\n",
            "  warnings.warn(\n",
            "/usr/local/lib/python3.10/dist-packages/sklearn/cluster/_kmeans.py:870: FutureWarning: The default value of `n_init` will change from 10 to 'auto' in 1.4. Set the value of `n_init` explicitly to suppress the warning\n",
            "  warnings.warn(\n",
            "/usr/local/lib/python3.10/dist-packages/sklearn/cluster/_kmeans.py:870: FutureWarning: The default value of `n_init` will change from 10 to 'auto' in 1.4. Set the value of `n_init` explicitly to suppress the warning\n",
            "  warnings.warn(\n"
          ]
        },
        {
          "output_type": "stream",
          "name": "stdout",
          "text": [
            "prediccion de datos normalizados con  191  clusteres lista\n",
            "prediccion de datos crudos con  2  clusteres lista\n",
            "prediccion de datos crudos con  3  clusteres lista\n",
            "prediccion de datos crudos con  4  clusteres lista\n",
            "prediccion de datos crudos con  5  clusteres lista\n",
            "prediccion de datos crudos con  6  clusteres lista\n",
            "prediccion de datos crudos con  7  clusteres lista\n",
            "prediccion de datos crudos con  8  clusteres lista\n",
            "prediccion de datos crudos con  9  clusteres lista\n",
            "prediccion de datos crudos con  10  clusteres lista\n",
            "prediccion de datos crudos con  11  clusteres lista\n",
            "prediccion de datos crudos con  12  clusteres lista\n",
            "prediccion de datos crudos con  13  clusteres lista\n",
            "prediccion de datos crudos con  14  clusteres lista\n",
            "prediccion de datos crudos con  15  clusteres lista\n",
            "prediccion de datos crudos con  16  clusteres lista\n",
            "prediccion de datos crudos con  17  clusteres lista\n",
            "prediccion de datos crudos con  18  clusteres lista\n",
            "prediccion de datos crudos con  19  clusteres lista\n",
            "prediccion de datos crudos con  20  clusteres lista\n",
            "prediccion de datos crudos con  21  clusteres lista\n",
            "prediccion de datos crudos con  22  clusteres lista\n",
            "prediccion de datos crudos con  23  clusteres lista\n",
            "prediccion de datos crudos con  24  clusteres lista\n",
            "prediccion de datos crudos con  25  clusteres lista\n",
            "prediccion de datos crudos con  26  clusteres lista\n",
            "prediccion de datos crudos con  27  clusteres lista\n",
            "prediccion de datos crudos con  28  clusteres lista\n",
            "prediccion de datos crudos con  29  clusteres lista\n",
            "prediccion de datos crudos con  30  clusteres lista\n",
            "prediccion de datos crudos con  31  clusteres lista\n",
            "prediccion de datos crudos con  32  clusteres lista\n"
          ]
        },
        {
          "output_type": "stream",
          "name": "stderr",
          "text": [
            "/usr/local/lib/python3.10/dist-packages/sklearn/cluster/_kmeans.py:870: FutureWarning: The default value of `n_init` will change from 10 to 'auto' in 1.4. Set the value of `n_init` explicitly to suppress the warning\n",
            "  warnings.warn(\n",
            "/usr/local/lib/python3.10/dist-packages/sklearn/cluster/_kmeans.py:870: FutureWarning: The default value of `n_init` will change from 10 to 'auto' in 1.4. Set the value of `n_init` explicitly to suppress the warning\n",
            "  warnings.warn(\n",
            "/usr/local/lib/python3.10/dist-packages/sklearn/cluster/_kmeans.py:870: FutureWarning: The default value of `n_init` will change from 10 to 'auto' in 1.4. Set the value of `n_init` explicitly to suppress the warning\n",
            "  warnings.warn(\n",
            "/usr/local/lib/python3.10/dist-packages/sklearn/cluster/_kmeans.py:870: FutureWarning: The default value of `n_init` will change from 10 to 'auto' in 1.4. Set the value of `n_init` explicitly to suppress the warning\n",
            "  warnings.warn(\n",
            "/usr/local/lib/python3.10/dist-packages/sklearn/cluster/_kmeans.py:870: FutureWarning: The default value of `n_init` will change from 10 to 'auto' in 1.4. Set the value of `n_init` explicitly to suppress the warning\n",
            "  warnings.warn(\n",
            "/usr/local/lib/python3.10/dist-packages/sklearn/cluster/_kmeans.py:870: FutureWarning: The default value of `n_init` will change from 10 to 'auto' in 1.4. Set the value of `n_init` explicitly to suppress the warning\n",
            "  warnings.warn(\n",
            "/usr/local/lib/python3.10/dist-packages/sklearn/cluster/_kmeans.py:870: FutureWarning: The default value of `n_init` will change from 10 to 'auto' in 1.4. Set the value of `n_init` explicitly to suppress the warning\n",
            "  warnings.warn(\n"
          ]
        },
        {
          "output_type": "stream",
          "name": "stdout",
          "text": [
            "prediccion de datos crudos con  33  clusteres lista\n",
            "prediccion de datos crudos con  34  clusteres lista\n"
          ]
        },
        {
          "output_type": "stream",
          "name": "stderr",
          "text": [
            "/usr/local/lib/python3.10/dist-packages/sklearn/cluster/_kmeans.py:870: FutureWarning: The default value of `n_init` will change from 10 to 'auto' in 1.4. Set the value of `n_init` explicitly to suppress the warning\n",
            "  warnings.warn(\n",
            "/usr/local/lib/python3.10/dist-packages/sklearn/cluster/_kmeans.py:870: FutureWarning: The default value of `n_init` will change from 10 to 'auto' in 1.4. Set the value of `n_init` explicitly to suppress the warning\n",
            "  warnings.warn(\n"
          ]
        },
        {
          "output_type": "stream",
          "name": "stdout",
          "text": [
            "prediccion de datos crudos con  35  clusteres lista\n"
          ]
        },
        {
          "output_type": "stream",
          "name": "stderr",
          "text": [
            "/usr/local/lib/python3.10/dist-packages/sklearn/cluster/_kmeans.py:870: FutureWarning: The default value of `n_init` will change from 10 to 'auto' in 1.4. Set the value of `n_init` explicitly to suppress the warning\n",
            "  warnings.warn(\n"
          ]
        },
        {
          "output_type": "stream",
          "name": "stdout",
          "text": [
            "prediccion de datos crudos con  36  clusteres lista\n",
            "prediccion de datos crudos con  37  clusteres lista\n",
            "prediccion de datos crudos con  38  clusteres lista\n"
          ]
        },
        {
          "output_type": "stream",
          "name": "stderr",
          "text": [
            "/usr/local/lib/python3.10/dist-packages/sklearn/cluster/_kmeans.py:870: FutureWarning: The default value of `n_init` will change from 10 to 'auto' in 1.4. Set the value of `n_init` explicitly to suppress the warning\n",
            "  warnings.warn(\n",
            "/usr/local/lib/python3.10/dist-packages/sklearn/cluster/_kmeans.py:870: FutureWarning: The default value of `n_init` will change from 10 to 'auto' in 1.4. Set the value of `n_init` explicitly to suppress the warning\n",
            "  warnings.warn(\n"
          ]
        },
        {
          "output_type": "stream",
          "name": "stdout",
          "text": [
            "prediccion de datos crudos con  39  clusteres lista\n",
            "prediccion de datos crudos con  40  clusteres lista\n"
          ]
        },
        {
          "output_type": "stream",
          "name": "stderr",
          "text": [
            "/usr/local/lib/python3.10/dist-packages/sklearn/cluster/_kmeans.py:870: FutureWarning: The default value of `n_init` will change from 10 to 'auto' in 1.4. Set the value of `n_init` explicitly to suppress the warning\n",
            "  warnings.warn(\n",
            "/usr/local/lib/python3.10/dist-packages/sklearn/cluster/_kmeans.py:870: FutureWarning: The default value of `n_init` will change from 10 to 'auto' in 1.4. Set the value of `n_init` explicitly to suppress the warning\n",
            "  warnings.warn(\n"
          ]
        },
        {
          "output_type": "stream",
          "name": "stdout",
          "text": [
            "prediccion de datos crudos con  41  clusteres lista\n",
            "prediccion de datos crudos con  42  clusteres lista\n"
          ]
        },
        {
          "output_type": "stream",
          "name": "stderr",
          "text": [
            "/usr/local/lib/python3.10/dist-packages/sklearn/cluster/_kmeans.py:870: FutureWarning: The default value of `n_init` will change from 10 to 'auto' in 1.4. Set the value of `n_init` explicitly to suppress the warning\n",
            "  warnings.warn(\n",
            "/usr/local/lib/python3.10/dist-packages/sklearn/cluster/_kmeans.py:870: FutureWarning: The default value of `n_init` will change from 10 to 'auto' in 1.4. Set the value of `n_init` explicitly to suppress the warning\n",
            "  warnings.warn(\n"
          ]
        },
        {
          "output_type": "stream",
          "name": "stdout",
          "text": [
            "prediccion de datos crudos con  43  clusteres lista\n",
            "prediccion de datos crudos con  44  clusteres lista\n",
            "prediccion de datos crudos con  45  clusteres lista\n",
            "prediccion de datos crudos con  46  clusteres lista\n"
          ]
        },
        {
          "output_type": "stream",
          "name": "stderr",
          "text": [
            "/usr/local/lib/python3.10/dist-packages/sklearn/cluster/_kmeans.py:870: FutureWarning: The default value of `n_init` will change from 10 to 'auto' in 1.4. Set the value of `n_init` explicitly to suppress the warning\n",
            "  warnings.warn(\n",
            "/usr/local/lib/python3.10/dist-packages/sklearn/cluster/_kmeans.py:870: FutureWarning: The default value of `n_init` will change from 10 to 'auto' in 1.4. Set the value of `n_init` explicitly to suppress the warning\n",
            "  warnings.warn(\n",
            "/usr/local/lib/python3.10/dist-packages/sklearn/cluster/_kmeans.py:870: FutureWarning: The default value of `n_init` will change from 10 to 'auto' in 1.4. Set the value of `n_init` explicitly to suppress the warning\n",
            "  warnings.warn(\n"
          ]
        },
        {
          "output_type": "stream",
          "name": "stdout",
          "text": [
            "prediccion de datos crudos con  47  clusteres lista\n"
          ]
        },
        {
          "output_type": "stream",
          "name": "stderr",
          "text": [
            "/usr/local/lib/python3.10/dist-packages/sklearn/cluster/_kmeans.py:870: FutureWarning: The default value of `n_init` will change from 10 to 'auto' in 1.4. Set the value of `n_init` explicitly to suppress the warning\n",
            "  warnings.warn(\n"
          ]
        },
        {
          "output_type": "stream",
          "name": "stdout",
          "text": [
            "prediccion de datos crudos con  48  clusteres lista\n",
            "prediccion de datos crudos con  49  clusteres lista\n",
            "prediccion de datos crudos con  50  clusteres lista\n",
            "prediccion de datos crudos con  51  clusteres lista\n",
            "prediccion de datos crudos con  52  clusteres lista\n",
            "prediccion de datos crudos con  53  clusteres lista\n",
            "prediccion de datos crudos con  54  clusteres lista\n",
            "prediccion de datos crudos con  55  clusteres lista\n"
          ]
        },
        {
          "output_type": "stream",
          "name": "stderr",
          "text": [
            "/usr/local/lib/python3.10/dist-packages/sklearn/cluster/_kmeans.py:870: FutureWarning: The default value of `n_init` will change from 10 to 'auto' in 1.4. Set the value of `n_init` explicitly to suppress the warning\n",
            "  warnings.warn(\n",
            "/usr/local/lib/python3.10/dist-packages/sklearn/cluster/_kmeans.py:870: FutureWarning: The default value of `n_init` will change from 10 to 'auto' in 1.4. Set the value of `n_init` explicitly to suppress the warning\n",
            "  warnings.warn(\n",
            "/usr/local/lib/python3.10/dist-packages/sklearn/cluster/_kmeans.py:870: FutureWarning: The default value of `n_init` will change from 10 to 'auto' in 1.4. Set the value of `n_init` explicitly to suppress the warning\n",
            "  warnings.warn(\n",
            "/usr/local/lib/python3.10/dist-packages/sklearn/cluster/_kmeans.py:870: FutureWarning: The default value of `n_init` will change from 10 to 'auto' in 1.4. Set the value of `n_init` explicitly to suppress the warning\n",
            "  warnings.warn(\n",
            "/usr/local/lib/python3.10/dist-packages/sklearn/cluster/_kmeans.py:870: FutureWarning: The default value of `n_init` will change from 10 to 'auto' in 1.4. Set the value of `n_init` explicitly to suppress the warning\n",
            "  warnings.warn(\n",
            "/usr/local/lib/python3.10/dist-packages/sklearn/cluster/_kmeans.py:870: FutureWarning: The default value of `n_init` will change from 10 to 'auto' in 1.4. Set the value of `n_init` explicitly to suppress the warning\n",
            "  warnings.warn(\n",
            "/usr/local/lib/python3.10/dist-packages/sklearn/cluster/_kmeans.py:870: FutureWarning: The default value of `n_init` will change from 10 to 'auto' in 1.4. Set the value of `n_init` explicitly to suppress the warning\n",
            "  warnings.warn(\n"
          ]
        },
        {
          "output_type": "stream",
          "name": "stdout",
          "text": [
            "prediccion de datos crudos con  56  clusteres lista\n"
          ]
        },
        {
          "output_type": "stream",
          "name": "stderr",
          "text": [
            "/usr/local/lib/python3.10/dist-packages/sklearn/cluster/_kmeans.py:870: FutureWarning: The default value of `n_init` will change from 10 to 'auto' in 1.4. Set the value of `n_init` explicitly to suppress the warning\n",
            "  warnings.warn(\n"
          ]
        },
        {
          "output_type": "stream",
          "name": "stdout",
          "text": [
            "prediccion de datos crudos con  57  clusteres lista\n",
            "prediccion de datos crudos con  58  clusteres lista\n",
            "prediccion de datos crudos con  59  clusteres lista\n",
            "prediccion de datos crudos con  60  clusteres lista\n"
          ]
        },
        {
          "output_type": "stream",
          "name": "stderr",
          "text": [
            "/usr/local/lib/python3.10/dist-packages/sklearn/cluster/_kmeans.py:870: FutureWarning: The default value of `n_init` will change from 10 to 'auto' in 1.4. Set the value of `n_init` explicitly to suppress the warning\n",
            "  warnings.warn(\n",
            "/usr/local/lib/python3.10/dist-packages/sklearn/cluster/_kmeans.py:870: FutureWarning: The default value of `n_init` will change from 10 to 'auto' in 1.4. Set the value of `n_init` explicitly to suppress the warning\n",
            "  warnings.warn(\n",
            "/usr/local/lib/python3.10/dist-packages/sklearn/cluster/_kmeans.py:870: FutureWarning: The default value of `n_init` will change from 10 to 'auto' in 1.4. Set the value of `n_init` explicitly to suppress the warning\n",
            "  warnings.warn(\n",
            "/usr/local/lib/python3.10/dist-packages/sklearn/cluster/_kmeans.py:870: FutureWarning: The default value of `n_init` will change from 10 to 'auto' in 1.4. Set the value of `n_init` explicitly to suppress the warning\n",
            "  warnings.warn(\n"
          ]
        },
        {
          "output_type": "stream",
          "name": "stdout",
          "text": [
            "prediccion de datos crudos con  61  clusteres lista\n"
          ]
        },
        {
          "output_type": "stream",
          "name": "stderr",
          "text": [
            "/usr/local/lib/python3.10/dist-packages/sklearn/cluster/_kmeans.py:870: FutureWarning: The default value of `n_init` will change from 10 to 'auto' in 1.4. Set the value of `n_init` explicitly to suppress the warning\n",
            "  warnings.warn(\n"
          ]
        },
        {
          "output_type": "stream",
          "name": "stdout",
          "text": [
            "prediccion de datos crudos con  62  clusteres lista\n",
            "prediccion de datos crudos con  63  clusteres lista\n"
          ]
        },
        {
          "output_type": "stream",
          "name": "stderr",
          "text": [
            "/usr/local/lib/python3.10/dist-packages/sklearn/cluster/_kmeans.py:870: FutureWarning: The default value of `n_init` will change from 10 to 'auto' in 1.4. Set the value of `n_init` explicitly to suppress the warning\n",
            "  warnings.warn(\n",
            "/usr/local/lib/python3.10/dist-packages/sklearn/cluster/_kmeans.py:870: FutureWarning: The default value of `n_init` will change from 10 to 'auto' in 1.4. Set the value of `n_init` explicitly to suppress the warning\n",
            "  warnings.warn(\n"
          ]
        },
        {
          "output_type": "stream",
          "name": "stdout",
          "text": [
            "prediccion de datos crudos con  64  clusteres lista\n"
          ]
        },
        {
          "output_type": "stream",
          "name": "stderr",
          "text": [
            "/usr/local/lib/python3.10/dist-packages/sklearn/cluster/_kmeans.py:870: FutureWarning: The default value of `n_init` will change from 10 to 'auto' in 1.4. Set the value of `n_init` explicitly to suppress the warning\n",
            "  warnings.warn(\n"
          ]
        },
        {
          "output_type": "stream",
          "name": "stdout",
          "text": [
            "prediccion de datos crudos con  65  clusteres lista\n",
            "prediccion de datos crudos con  66  clusteres lista\n"
          ]
        },
        {
          "output_type": "stream",
          "name": "stderr",
          "text": [
            "/usr/local/lib/python3.10/dist-packages/sklearn/cluster/_kmeans.py:870: FutureWarning: The default value of `n_init` will change from 10 to 'auto' in 1.4. Set the value of `n_init` explicitly to suppress the warning\n",
            "  warnings.warn(\n"
          ]
        },
        {
          "output_type": "stream",
          "name": "stdout",
          "text": [
            "prediccion de datos crudos con  67  clusteres lista\n"
          ]
        },
        {
          "output_type": "stream",
          "name": "stderr",
          "text": [
            "/usr/local/lib/python3.10/dist-packages/sklearn/cluster/_kmeans.py:870: FutureWarning: The default value of `n_init` will change from 10 to 'auto' in 1.4. Set the value of `n_init` explicitly to suppress the warning\n",
            "  warnings.warn(\n"
          ]
        },
        {
          "output_type": "stream",
          "name": "stdout",
          "text": [
            "prediccion de datos crudos con  68  clusteres lista\n",
            "prediccion de datos crudos con  69  clusteres lista\n",
            "prediccion de datos crudos con  70  clusteres lista\n",
            "prediccion de datos crudos con  71  clusteres lista\n"
          ]
        },
        {
          "output_type": "stream",
          "name": "stderr",
          "text": [
            "/usr/local/lib/python3.10/dist-packages/sklearn/cluster/_kmeans.py:870: FutureWarning: The default value of `n_init` will change from 10 to 'auto' in 1.4. Set the value of `n_init` explicitly to suppress the warning\n",
            "  warnings.warn(\n",
            "/usr/local/lib/python3.10/dist-packages/sklearn/cluster/_kmeans.py:870: FutureWarning: The default value of `n_init` will change from 10 to 'auto' in 1.4. Set the value of `n_init` explicitly to suppress the warning\n",
            "  warnings.warn(\n",
            "/usr/local/lib/python3.10/dist-packages/sklearn/cluster/_kmeans.py:870: FutureWarning: The default value of `n_init` will change from 10 to 'auto' in 1.4. Set the value of `n_init` explicitly to suppress the warning\n",
            "  warnings.warn(\n"
          ]
        },
        {
          "output_type": "stream",
          "name": "stdout",
          "text": [
            "prediccion de datos crudos con  72  clusteres lista\n"
          ]
        },
        {
          "output_type": "stream",
          "name": "stderr",
          "text": [
            "/usr/local/lib/python3.10/dist-packages/sklearn/cluster/_kmeans.py:870: FutureWarning: The default value of `n_init` will change from 10 to 'auto' in 1.4. Set the value of `n_init` explicitly to suppress the warning\n",
            "  warnings.warn(\n"
          ]
        },
        {
          "output_type": "stream",
          "name": "stdout",
          "text": [
            "prediccion de datos crudos con  73  clusteres lista\n",
            "prediccion de datos crudos con  74  clusteres lista\n",
            "prediccion de datos crudos con  75  clusteres lista\n"
          ]
        },
        {
          "output_type": "stream",
          "name": "stderr",
          "text": [
            "/usr/local/lib/python3.10/dist-packages/sklearn/cluster/_kmeans.py:870: FutureWarning: The default value of `n_init` will change from 10 to 'auto' in 1.4. Set the value of `n_init` explicitly to suppress the warning\n",
            "  warnings.warn(\n",
            "/usr/local/lib/python3.10/dist-packages/sklearn/cluster/_kmeans.py:870: FutureWarning: The default value of `n_init` will change from 10 to 'auto' in 1.4. Set the value of `n_init` explicitly to suppress the warning\n",
            "  warnings.warn(\n"
          ]
        },
        {
          "output_type": "stream",
          "name": "stdout",
          "text": [
            "prediccion de datos crudos con  76  clusteres lista\n",
            "prediccion de datos crudos con  77  clusteres lista\n",
            "prediccion de datos crudos con  78  clusteres lista\n",
            "prediccion de datos crudos con  79  clusteres lista\n",
            "prediccion de datos crudos con  80  clusteres lista\n"
          ]
        },
        {
          "output_type": "stream",
          "name": "stderr",
          "text": [
            "/usr/local/lib/python3.10/dist-packages/sklearn/cluster/_kmeans.py:870: FutureWarning: The default value of `n_init` will change from 10 to 'auto' in 1.4. Set the value of `n_init` explicitly to suppress the warning\n",
            "  warnings.warn(\n",
            "/usr/local/lib/python3.10/dist-packages/sklearn/cluster/_kmeans.py:870: FutureWarning: The default value of `n_init` will change from 10 to 'auto' in 1.4. Set the value of `n_init` explicitly to suppress the warning\n",
            "  warnings.warn(\n",
            "/usr/local/lib/python3.10/dist-packages/sklearn/cluster/_kmeans.py:870: FutureWarning: The default value of `n_init` will change from 10 to 'auto' in 1.4. Set the value of `n_init` explicitly to suppress the warning\n",
            "  warnings.warn(\n",
            "/usr/local/lib/python3.10/dist-packages/sklearn/cluster/_kmeans.py:870: FutureWarning: The default value of `n_init` will change from 10 to 'auto' in 1.4. Set the value of `n_init` explicitly to suppress the warning\n",
            "  warnings.warn(\n",
            "/usr/local/lib/python3.10/dist-packages/sklearn/cluster/_kmeans.py:870: FutureWarning: The default value of `n_init` will change from 10 to 'auto' in 1.4. Set the value of `n_init` explicitly to suppress the warning\n",
            "  warnings.warn(\n"
          ]
        },
        {
          "output_type": "stream",
          "name": "stdout",
          "text": [
            "prediccion de datos crudos con  81  clusteres lista\n"
          ]
        },
        {
          "output_type": "stream",
          "name": "stderr",
          "text": [
            "/usr/local/lib/python3.10/dist-packages/sklearn/cluster/_kmeans.py:870: FutureWarning: The default value of `n_init` will change from 10 to 'auto' in 1.4. Set the value of `n_init` explicitly to suppress the warning\n",
            "  warnings.warn(\n"
          ]
        },
        {
          "output_type": "stream",
          "name": "stdout",
          "text": [
            "prediccion de datos crudos con  82  clusteres lista\n"
          ]
        },
        {
          "output_type": "stream",
          "name": "stderr",
          "text": [
            "/usr/local/lib/python3.10/dist-packages/sklearn/cluster/_kmeans.py:870: FutureWarning: The default value of `n_init` will change from 10 to 'auto' in 1.4. Set the value of `n_init` explicitly to suppress the warning\n",
            "  warnings.warn(\n"
          ]
        },
        {
          "output_type": "stream",
          "name": "stdout",
          "text": [
            "prediccion de datos crudos con  83  clusteres lista\n",
            "prediccion de datos crudos con  84  clusteres lista\n",
            "prediccion de datos crudos con  85  clusteres lista\n"
          ]
        },
        {
          "output_type": "stream",
          "name": "stderr",
          "text": [
            "/usr/local/lib/python3.10/dist-packages/sklearn/cluster/_kmeans.py:870: FutureWarning: The default value of `n_init` will change from 10 to 'auto' in 1.4. Set the value of `n_init` explicitly to suppress the warning\n",
            "  warnings.warn(\n",
            "/usr/local/lib/python3.10/dist-packages/sklearn/cluster/_kmeans.py:870: FutureWarning: The default value of `n_init` will change from 10 to 'auto' in 1.4. Set the value of `n_init` explicitly to suppress the warning\n",
            "  warnings.warn(\n",
            "/usr/local/lib/python3.10/dist-packages/sklearn/cluster/_kmeans.py:870: FutureWarning: The default value of `n_init` will change from 10 to 'auto' in 1.4. Set the value of `n_init` explicitly to suppress the warning\n",
            "  warnings.warn(\n"
          ]
        },
        {
          "output_type": "stream",
          "name": "stdout",
          "text": [
            "prediccion de datos crudos con  86  clusteres lista\n",
            "prediccion de datos crudos con  87  clusteres lista\n",
            "prediccion de datos crudos con  88  clusteres lista\n"
          ]
        },
        {
          "output_type": "stream",
          "name": "stderr",
          "text": [
            "/usr/local/lib/python3.10/dist-packages/sklearn/cluster/_kmeans.py:870: FutureWarning: The default value of `n_init` will change from 10 to 'auto' in 1.4. Set the value of `n_init` explicitly to suppress the warning\n",
            "  warnings.warn(\n",
            "/usr/local/lib/python3.10/dist-packages/sklearn/cluster/_kmeans.py:870: FutureWarning: The default value of `n_init` will change from 10 to 'auto' in 1.4. Set the value of `n_init` explicitly to suppress the warning\n",
            "  warnings.warn(\n"
          ]
        },
        {
          "output_type": "stream",
          "name": "stdout",
          "text": [
            "prediccion de datos crudos con  89  clusteres lista\n"
          ]
        },
        {
          "output_type": "stream",
          "name": "stderr",
          "text": [
            "/usr/local/lib/python3.10/dist-packages/sklearn/cluster/_kmeans.py:870: FutureWarning: The default value of `n_init` will change from 10 to 'auto' in 1.4. Set the value of `n_init` explicitly to suppress the warning\n",
            "  warnings.warn(\n"
          ]
        },
        {
          "output_type": "stream",
          "name": "stdout",
          "text": [
            "prediccion de datos crudos con  90  clusteres lista\n",
            "prediccion de datos crudos con  91  clusteres lista\n",
            "prediccion de datos crudos con  92  clusteres lista\n"
          ]
        },
        {
          "output_type": "stream",
          "name": "stderr",
          "text": [
            "/usr/local/lib/python3.10/dist-packages/sklearn/cluster/_kmeans.py:870: FutureWarning: The default value of `n_init` will change from 10 to 'auto' in 1.4. Set the value of `n_init` explicitly to suppress the warning\n",
            "  warnings.warn(\n",
            "/usr/local/lib/python3.10/dist-packages/sklearn/cluster/_kmeans.py:870: FutureWarning: The default value of `n_init` will change from 10 to 'auto' in 1.4. Set the value of `n_init` explicitly to suppress the warning\n",
            "  warnings.warn(\n",
            "/usr/local/lib/python3.10/dist-packages/sklearn/cluster/_kmeans.py:870: FutureWarning: The default value of `n_init` will change from 10 to 'auto' in 1.4. Set the value of `n_init` explicitly to suppress the warning\n",
            "  warnings.warn(\n"
          ]
        },
        {
          "output_type": "stream",
          "name": "stdout",
          "text": [
            "prediccion de datos crudos con  93  clusteres lista\n"
          ]
        },
        {
          "output_type": "stream",
          "name": "stderr",
          "text": [
            "/usr/local/lib/python3.10/dist-packages/sklearn/cluster/_kmeans.py:870: FutureWarning: The default value of `n_init` will change from 10 to 'auto' in 1.4. Set the value of `n_init` explicitly to suppress the warning\n",
            "  warnings.warn(\n"
          ]
        },
        {
          "output_type": "stream",
          "name": "stdout",
          "text": [
            "prediccion de datos crudos con  94  clusteres lista\n",
            "prediccion de datos crudos con  95  clusteres lista\n"
          ]
        },
        {
          "output_type": "stream",
          "name": "stderr",
          "text": [
            "/usr/local/lib/python3.10/dist-packages/sklearn/cluster/_kmeans.py:870: FutureWarning: The default value of `n_init` will change from 10 to 'auto' in 1.4. Set the value of `n_init` explicitly to suppress the warning\n",
            "  warnings.warn(\n",
            "/usr/local/lib/python3.10/dist-packages/sklearn/cluster/_kmeans.py:870: FutureWarning: The default value of `n_init` will change from 10 to 'auto' in 1.4. Set the value of `n_init` explicitly to suppress the warning\n",
            "  warnings.warn(\n"
          ]
        },
        {
          "output_type": "stream",
          "name": "stdout",
          "text": [
            "prediccion de datos crudos con  96  clusteres lista\n"
          ]
        },
        {
          "output_type": "stream",
          "name": "stderr",
          "text": [
            "/usr/local/lib/python3.10/dist-packages/sklearn/cluster/_kmeans.py:870: FutureWarning: The default value of `n_init` will change from 10 to 'auto' in 1.4. Set the value of `n_init` explicitly to suppress the warning\n",
            "  warnings.warn(\n"
          ]
        },
        {
          "output_type": "stream",
          "name": "stdout",
          "text": [
            "prediccion de datos crudos con  97  clusteres lista\n",
            "prediccion de datos crudos con  98  clusteres lista\n",
            "prediccion de datos crudos con  99  clusteres lista\n",
            "prediccion de datos crudos con  100  clusteres lista\n",
            "prediccion de datos crudos con  101  clusteres lista\n"
          ]
        },
        {
          "output_type": "stream",
          "name": "stderr",
          "text": [
            "/usr/local/lib/python3.10/dist-packages/sklearn/cluster/_kmeans.py:870: FutureWarning: The default value of `n_init` will change from 10 to 'auto' in 1.4. Set the value of `n_init` explicitly to suppress the warning\n",
            "  warnings.warn(\n",
            "/usr/local/lib/python3.10/dist-packages/sklearn/cluster/_kmeans.py:870: FutureWarning: The default value of `n_init` will change from 10 to 'auto' in 1.4. Set the value of `n_init` explicitly to suppress the warning\n",
            "  warnings.warn(\n",
            "/usr/local/lib/python3.10/dist-packages/sklearn/cluster/_kmeans.py:870: FutureWarning: The default value of `n_init` will change from 10 to 'auto' in 1.4. Set the value of `n_init` explicitly to suppress the warning\n",
            "  warnings.warn(\n",
            "/usr/local/lib/python3.10/dist-packages/sklearn/cluster/_kmeans.py:870: FutureWarning: The default value of `n_init` will change from 10 to 'auto' in 1.4. Set the value of `n_init` explicitly to suppress the warning\n",
            "  warnings.warn(\n",
            "/usr/local/lib/python3.10/dist-packages/sklearn/cluster/_kmeans.py:870: FutureWarning: The default value of `n_init` will change from 10 to 'auto' in 1.4. Set the value of `n_init` explicitly to suppress the warning\n",
            "  warnings.warn(\n"
          ]
        },
        {
          "output_type": "stream",
          "name": "stdout",
          "text": [
            "prediccion de datos crudos con  102  clusteres lista\n"
          ]
        },
        {
          "output_type": "stream",
          "name": "stderr",
          "text": [
            "/usr/local/lib/python3.10/dist-packages/sklearn/cluster/_kmeans.py:870: FutureWarning: The default value of `n_init` will change from 10 to 'auto' in 1.4. Set the value of `n_init` explicitly to suppress the warning\n",
            "  warnings.warn(\n"
          ]
        },
        {
          "output_type": "stream",
          "name": "stdout",
          "text": [
            "prediccion de datos crudos con  103  clusteres lista\n",
            "prediccion de datos crudos con  104  clusteres lista\n",
            "prediccion de datos crudos con  105  clusteres lista\n"
          ]
        },
        {
          "output_type": "stream",
          "name": "stderr",
          "text": [
            "/usr/local/lib/python3.10/dist-packages/sklearn/cluster/_kmeans.py:870: FutureWarning: The default value of `n_init` will change from 10 to 'auto' in 1.4. Set the value of `n_init` explicitly to suppress the warning\n",
            "  warnings.warn(\n",
            "/usr/local/lib/python3.10/dist-packages/sklearn/cluster/_kmeans.py:870: FutureWarning: The default value of `n_init` will change from 10 to 'auto' in 1.4. Set the value of `n_init` explicitly to suppress the warning\n",
            "  warnings.warn(\n"
          ]
        },
        {
          "output_type": "stream",
          "name": "stdout",
          "text": [
            "prediccion de datos crudos con  106  clusteres lista\n",
            "prediccion de datos crudos con  107  clusteres lista\n"
          ]
        },
        {
          "output_type": "stream",
          "name": "stderr",
          "text": [
            "/usr/local/lib/python3.10/dist-packages/sklearn/cluster/_kmeans.py:870: FutureWarning: The default value of `n_init` will change from 10 to 'auto' in 1.4. Set the value of `n_init` explicitly to suppress the warning\n",
            "  warnings.warn(\n"
          ]
        },
        {
          "output_type": "stream",
          "name": "stdout",
          "text": [
            "prediccion de datos crudos con  108  clusteres lista\n"
          ]
        },
        {
          "output_type": "stream",
          "name": "stderr",
          "text": [
            "/usr/local/lib/python3.10/dist-packages/sklearn/cluster/_kmeans.py:870: FutureWarning: The default value of `n_init` will change from 10 to 'auto' in 1.4. Set the value of `n_init` explicitly to suppress the warning\n",
            "  warnings.warn(\n"
          ]
        },
        {
          "output_type": "stream",
          "name": "stdout",
          "text": [
            "prediccion de datos crudos con  109  clusteres lista\n",
            "prediccion de datos crudos con  110  clusteres lista\n",
            "prediccion de datos crudos con  111  clusteres lista\n",
            "prediccion de datos crudos con  112  clusteres lista\n"
          ]
        },
        {
          "output_type": "stream",
          "name": "stderr",
          "text": [
            "/usr/local/lib/python3.10/dist-packages/sklearn/cluster/_kmeans.py:870: FutureWarning: The default value of `n_init` will change from 10 to 'auto' in 1.4. Set the value of `n_init` explicitly to suppress the warning\n",
            "  warnings.warn(\n",
            "/usr/local/lib/python3.10/dist-packages/sklearn/cluster/_kmeans.py:870: FutureWarning: The default value of `n_init` will change from 10 to 'auto' in 1.4. Set the value of `n_init` explicitly to suppress the warning\n",
            "  warnings.warn(\n",
            "/usr/local/lib/python3.10/dist-packages/sklearn/cluster/_kmeans.py:870: FutureWarning: The default value of `n_init` will change from 10 to 'auto' in 1.4. Set the value of `n_init` explicitly to suppress the warning\n",
            "  warnings.warn(\n",
            "/usr/local/lib/python3.10/dist-packages/sklearn/cluster/_kmeans.py:870: FutureWarning: The default value of `n_init` will change from 10 to 'auto' in 1.4. Set the value of `n_init` explicitly to suppress the warning\n",
            "  warnings.warn(\n"
          ]
        },
        {
          "output_type": "stream",
          "name": "stdout",
          "text": [
            "prediccion de datos crudos con  113  clusteres lista\n",
            "prediccion de datos crudos con  114  clusteres lista\n",
            "prediccion de datos crudos con  115  clusteres lista\n"
          ]
        },
        {
          "output_type": "stream",
          "name": "stderr",
          "text": [
            "/usr/local/lib/python3.10/dist-packages/sklearn/cluster/_kmeans.py:870: FutureWarning: The default value of `n_init` will change from 10 to 'auto' in 1.4. Set the value of `n_init` explicitly to suppress the warning\n",
            "  warnings.warn(\n",
            "/usr/local/lib/python3.10/dist-packages/sklearn/cluster/_kmeans.py:870: FutureWarning: The default value of `n_init` will change from 10 to 'auto' in 1.4. Set the value of `n_init` explicitly to suppress the warning\n",
            "  warnings.warn(\n",
            "/usr/local/lib/python3.10/dist-packages/sklearn/cluster/_kmeans.py:870: FutureWarning: The default value of `n_init` will change from 10 to 'auto' in 1.4. Set the value of `n_init` explicitly to suppress the warning\n",
            "  warnings.warn(\n"
          ]
        },
        {
          "output_type": "stream",
          "name": "stdout",
          "text": [
            "prediccion de datos crudos con  116  clusteres lista\n",
            "prediccion de datos crudos con  117  clusteres lista\n",
            "prediccion de datos crudos con  118  clusteres lista\n"
          ]
        },
        {
          "output_type": "stream",
          "name": "stderr",
          "text": [
            "/usr/local/lib/python3.10/dist-packages/sklearn/cluster/_kmeans.py:870: FutureWarning: The default value of `n_init` will change from 10 to 'auto' in 1.4. Set the value of `n_init` explicitly to suppress the warning\n",
            "  warnings.warn(\n",
            "/usr/local/lib/python3.10/dist-packages/sklearn/cluster/_kmeans.py:870: FutureWarning: The default value of `n_init` will change from 10 to 'auto' in 1.4. Set the value of `n_init` explicitly to suppress the warning\n",
            "  warnings.warn(\n",
            "/usr/local/lib/python3.10/dist-packages/sklearn/cluster/_kmeans.py:870: FutureWarning: The default value of `n_init` will change from 10 to 'auto' in 1.4. Set the value of `n_init` explicitly to suppress the warning\n",
            "  warnings.warn(\n"
          ]
        },
        {
          "output_type": "stream",
          "name": "stdout",
          "text": [
            "prediccion de datos crudos con  119  clusteres lista\n"
          ]
        },
        {
          "output_type": "stream",
          "name": "stderr",
          "text": [
            "/usr/local/lib/python3.10/dist-packages/sklearn/cluster/_kmeans.py:870: FutureWarning: The default value of `n_init` will change from 10 to 'auto' in 1.4. Set the value of `n_init` explicitly to suppress the warning\n",
            "  warnings.warn(\n"
          ]
        },
        {
          "output_type": "stream",
          "name": "stdout",
          "text": [
            "prediccion de datos crudos con  120  clusteres lista\n",
            "prediccion de datos crudos con  "
          ]
        },
        {
          "output_type": "stream",
          "name": "stderr",
          "text": [
            "/usr/local/lib/python3.10/dist-packages/sklearn/cluster/_kmeans.py:870: FutureWarning: The default value of `n_init` will change from 10 to 'auto' in 1.4. Set the value of `n_init` explicitly to suppress the warning\n",
            "  warnings.warn(\n"
          ]
        },
        {
          "output_type": "stream",
          "name": "stdout",
          "text": [
            "121  clusteres lista\n"
          ]
        },
        {
          "output_type": "stream",
          "name": "stderr",
          "text": [
            "/usr/local/lib/python3.10/dist-packages/sklearn/cluster/_kmeans.py:870: FutureWarning: The default value of `n_init` will change from 10 to 'auto' in 1.4. Set the value of `n_init` explicitly to suppress the warning\n",
            "  warnings.warn(\n"
          ]
        },
        {
          "output_type": "stream",
          "name": "stdout",
          "text": [
            "prediccion de datos crudos con  122  clusteres lista\n"
          ]
        },
        {
          "output_type": "stream",
          "name": "stderr",
          "text": [
            "/usr/local/lib/python3.10/dist-packages/sklearn/cluster/_kmeans.py:870: FutureWarning: The default value of `n_init` will change from 10 to 'auto' in 1.4. Set the value of `n_init` explicitly to suppress the warning\n",
            "  warnings.warn(\n"
          ]
        },
        {
          "output_type": "stream",
          "name": "stdout",
          "text": [
            "prediccion de datos crudos con  123  clusteres lista\n",
            "prediccion de datos crudos con  124  clusteres lista\n",
            "prediccion de datos crudos con  125  clusteres lista\n"
          ]
        },
        {
          "output_type": "stream",
          "name": "stderr",
          "text": [
            "/usr/local/lib/python3.10/dist-packages/sklearn/cluster/_kmeans.py:870: FutureWarning: The default value of `n_init` will change from 10 to 'auto' in 1.4. Set the value of `n_init` explicitly to suppress the warning\n",
            "  warnings.warn(\n",
            "/usr/local/lib/python3.10/dist-packages/sklearn/cluster/_kmeans.py:870: FutureWarning: The default value of `n_init` will change from 10 to 'auto' in 1.4. Set the value of `n_init` explicitly to suppress the warning\n",
            "  warnings.warn(\n",
            "/usr/local/lib/python3.10/dist-packages/sklearn/cluster/_kmeans.py:870: FutureWarning: The default value of `n_init` will change from 10 to 'auto' in 1.4. Set the value of `n_init` explicitly to suppress the warning\n",
            "  warnings.warn(\n"
          ]
        },
        {
          "output_type": "stream",
          "name": "stdout",
          "text": [
            "prediccion de datos crudos con  126  clusteres lista\n"
          ]
        },
        {
          "output_type": "stream",
          "name": "stderr",
          "text": [
            "/usr/local/lib/python3.10/dist-packages/sklearn/cluster/_kmeans.py:870: FutureWarning: The default value of `n_init` will change from 10 to 'auto' in 1.4. Set the value of `n_init` explicitly to suppress the warning\n",
            "  warnings.warn(\n"
          ]
        },
        {
          "output_type": "stream",
          "name": "stdout",
          "text": [
            "prediccion de datos crudos con  127  clusteres lista\n"
          ]
        },
        {
          "output_type": "stream",
          "name": "stderr",
          "text": [
            "/usr/local/lib/python3.10/dist-packages/sklearn/cluster/_kmeans.py:870: FutureWarning: The default value of `n_init` will change from 10 to 'auto' in 1.4. Set the value of `n_init` explicitly to suppress the warning\n",
            "  warnings.warn(\n"
          ]
        },
        {
          "output_type": "stream",
          "name": "stdout",
          "text": [
            "prediccion de datos crudos con  128  clusteres lista\n"
          ]
        },
        {
          "output_type": "stream",
          "name": "stderr",
          "text": [
            "/usr/local/lib/python3.10/dist-packages/sklearn/cluster/_kmeans.py:870: FutureWarning: The default value of `n_init` will change from 10 to 'auto' in 1.4. Set the value of `n_init` explicitly to suppress the warning\n",
            "  warnings.warn(\n"
          ]
        },
        {
          "output_type": "stream",
          "name": "stdout",
          "text": [
            "prediccion de datos crudos con  129  clusteres lista\n",
            "prediccion de datos crudos con  130  clusteres lista\n",
            "prediccion de datos crudos con  131  clusteres lista\n"
          ]
        },
        {
          "output_type": "stream",
          "name": "stderr",
          "text": [
            "/usr/local/lib/python3.10/dist-packages/sklearn/cluster/_kmeans.py:870: FutureWarning: The default value of `n_init` will change from 10 to 'auto' in 1.4. Set the value of `n_init` explicitly to suppress the warning\n",
            "  warnings.warn(\n",
            "/usr/local/lib/python3.10/dist-packages/sklearn/cluster/_kmeans.py:870: FutureWarning: The default value of `n_init` will change from 10 to 'auto' in 1.4. Set the value of `n_init` explicitly to suppress the warning\n",
            "  warnings.warn(\n",
            "/usr/local/lib/python3.10/dist-packages/sklearn/cluster/_kmeans.py:870: FutureWarning: The default value of `n_init` will change from 10 to 'auto' in 1.4. Set the value of `n_init` explicitly to suppress the warning\n",
            "  warnings.warn(\n"
          ]
        },
        {
          "output_type": "stream",
          "name": "stdout",
          "text": [
            "prediccion de datos crudos con  132  clusteres lista\n",
            "prediccion de datos crudos con  133  clusteres lista\n",
            "prediccion de datos crudos con  134  clusteres lista\n",
            "prediccion de datos crudos con  135  clusteres lista\n",
            "prediccion de datos crudos con  136  clusteres lista\n"
          ]
        },
        {
          "output_type": "stream",
          "name": "stderr",
          "text": [
            "/usr/local/lib/python3.10/dist-packages/sklearn/cluster/_kmeans.py:870: FutureWarning: The default value of `n_init` will change from 10 to 'auto' in 1.4. Set the value of `n_init` explicitly to suppress the warning\n",
            "  warnings.warn(\n",
            "/usr/local/lib/python3.10/dist-packages/sklearn/cluster/_kmeans.py:870: FutureWarning: The default value of `n_init` will change from 10 to 'auto' in 1.4. Set the value of `n_init` explicitly to suppress the warning\n",
            "  warnings.warn(\n",
            "/usr/local/lib/python3.10/dist-packages/sklearn/cluster/_kmeans.py:870: FutureWarning: The default value of `n_init` will change from 10 to 'auto' in 1.4. Set the value of `n_init` explicitly to suppress the warning\n",
            "  warnings.warn(\n",
            "/usr/local/lib/python3.10/dist-packages/sklearn/cluster/_kmeans.py:870: FutureWarning: The default value of `n_init` will change from 10 to 'auto' in 1.4. Set the value of `n_init` explicitly to suppress the warning\n",
            "  warnings.warn(\n",
            "/usr/local/lib/python3.10/dist-packages/sklearn/cluster/_kmeans.py:870: FutureWarning: The default value of `n_init` will change from 10 to 'auto' in 1.4. Set the value of `n_init` explicitly to suppress the warning\n",
            "  warnings.warn(\n"
          ]
        },
        {
          "output_type": "stream",
          "name": "stdout",
          "text": [
            "prediccion de datos crudos con  137  clusteres lista\n",
            "prediccion de datos crudos con  138  clusteres lista\n",
            "prediccion de datos crudos con  139  clusteres lista\n"
          ]
        },
        {
          "output_type": "stream",
          "name": "stderr",
          "text": [
            "/usr/local/lib/python3.10/dist-packages/sklearn/cluster/_kmeans.py:870: FutureWarning: The default value of `n_init` will change from 10 to 'auto' in 1.4. Set the value of `n_init` explicitly to suppress the warning\n",
            "  warnings.warn(\n",
            "/usr/local/lib/python3.10/dist-packages/sklearn/cluster/_kmeans.py:870: FutureWarning: The default value of `n_init` will change from 10 to 'auto' in 1.4. Set the value of `n_init` explicitly to suppress the warning\n",
            "  warnings.warn(\n"
          ]
        },
        {
          "output_type": "stream",
          "name": "stdout",
          "text": [
            "prediccion de datos crudos con  140  clusteres lista\n",
            "prediccion de datos crudos con  141  clusteres lista\n",
            "prediccion de datos crudos con  142  clusteres lista\n"
          ]
        },
        {
          "output_type": "stream",
          "name": "stderr",
          "text": [
            "/usr/local/lib/python3.10/dist-packages/sklearn/cluster/_kmeans.py:870: FutureWarning: The default value of `n_init` will change from 10 to 'auto' in 1.4. Set the value of `n_init` explicitly to suppress the warning\n",
            "  warnings.warn(\n",
            "/usr/local/lib/python3.10/dist-packages/sklearn/cluster/_kmeans.py:870: FutureWarning: The default value of `n_init` will change from 10 to 'auto' in 1.4. Set the value of `n_init` explicitly to suppress the warning\n",
            "  warnings.warn(\n",
            "/usr/local/lib/python3.10/dist-packages/sklearn/cluster/_kmeans.py:870: FutureWarning: The default value of `n_init` will change from 10 to 'auto' in 1.4. Set the value of `n_init` explicitly to suppress the warning\n",
            "  warnings.warn(\n"
          ]
        },
        {
          "output_type": "stream",
          "name": "stdout",
          "text": [
            "prediccion de datos crudos con  143  clusteres lista\n"
          ]
        },
        {
          "output_type": "stream",
          "name": "stderr",
          "text": [
            "/usr/local/lib/python3.10/dist-packages/sklearn/cluster/_kmeans.py:870: FutureWarning: The default value of `n_init` will change from 10 to 'auto' in 1.4. Set the value of `n_init` explicitly to suppress the warning\n",
            "  warnings.warn(\n"
          ]
        },
        {
          "output_type": "stream",
          "name": "stdout",
          "text": [
            "prediccion de datos crudos con  144  clusteres lista\n",
            "prediccion de datos crudos con  145  clusteres lista\n"
          ]
        },
        {
          "output_type": "stream",
          "name": "stderr",
          "text": [
            "/usr/local/lib/python3.10/dist-packages/sklearn/cluster/_kmeans.py:870: FutureWarning: The default value of `n_init` will change from 10 to 'auto' in 1.4. Set the value of `n_init` explicitly to suppress the warning\n",
            "  warnings.warn(\n",
            "/usr/local/lib/python3.10/dist-packages/sklearn/cluster/_kmeans.py:870: FutureWarning: The default value of `n_init` will change from 10 to 'auto' in 1.4. Set the value of `n_init` explicitly to suppress the warning\n",
            "  warnings.warn(\n"
          ]
        },
        {
          "output_type": "stream",
          "name": "stdout",
          "text": [
            "prediccion de datos crudos con  146  clusteres lista\n"
          ]
        },
        {
          "output_type": "stream",
          "name": "stderr",
          "text": [
            "/usr/local/lib/python3.10/dist-packages/sklearn/cluster/_kmeans.py:870: FutureWarning: The default value of `n_init` will change from 10 to 'auto' in 1.4. Set the value of `n_init` explicitly to suppress the warning\n",
            "  warnings.warn(\n"
          ]
        },
        {
          "output_type": "stream",
          "name": "stdout",
          "text": [
            "prediccion de datos crudos con  147  clusteres lista\n"
          ]
        },
        {
          "output_type": "stream",
          "name": "stderr",
          "text": [
            "/usr/local/lib/python3.10/dist-packages/sklearn/cluster/_kmeans.py:870: FutureWarning: The default value of `n_init` will change from 10 to 'auto' in 1.4. Set the value of `n_init` explicitly to suppress the warning\n",
            "  warnings.warn(\n"
          ]
        },
        {
          "output_type": "stream",
          "name": "stdout",
          "text": [
            "prediccion de datos crudos con  148  clusteres lista\n"
          ]
        },
        {
          "output_type": "stream",
          "name": "stderr",
          "text": [
            "/usr/local/lib/python3.10/dist-packages/sklearn/cluster/_kmeans.py:870: FutureWarning: The default value of `n_init` will change from 10 to 'auto' in 1.4. Set the value of `n_init` explicitly to suppress the warning\n",
            "  warnings.warn(\n"
          ]
        },
        {
          "output_type": "stream",
          "name": "stdout",
          "text": [
            "prediccion de datos crudos con  149  clusteres lista\n"
          ]
        },
        {
          "output_type": "stream",
          "name": "stderr",
          "text": [
            "/usr/local/lib/python3.10/dist-packages/sklearn/cluster/_kmeans.py:870: FutureWarning: The default value of `n_init` will change from 10 to 'auto' in 1.4. Set the value of `n_init` explicitly to suppress the warning\n",
            "  warnings.warn(\n"
          ]
        },
        {
          "output_type": "stream",
          "name": "stdout",
          "text": [
            "prediccion de datos crudos con  150  clusteres lista\n",
            "prediccion de datos crudos con  151  clusteres lista\n"
          ]
        },
        {
          "output_type": "stream",
          "name": "stderr",
          "text": [
            "/usr/local/lib/python3.10/dist-packages/sklearn/cluster/_kmeans.py:870: FutureWarning: The default value of `n_init` will change from 10 to 'auto' in 1.4. Set the value of `n_init` explicitly to suppress the warning\n",
            "  warnings.warn(\n"
          ]
        },
        {
          "output_type": "stream",
          "name": "stdout",
          "text": [
            "prediccion de datos crudos con  152  clusteres lista\n"
          ]
        },
        {
          "output_type": "stream",
          "name": "stderr",
          "text": [
            "/usr/local/lib/python3.10/dist-packages/sklearn/cluster/_kmeans.py:870: FutureWarning: The default value of `n_init` will change from 10 to 'auto' in 1.4. Set the value of `n_init` explicitly to suppress the warning\n",
            "  warnings.warn(\n"
          ]
        },
        {
          "output_type": "stream",
          "name": "stdout",
          "text": [
            "prediccion de datos crudos con  153  clusteres lista\n"
          ]
        },
        {
          "output_type": "stream",
          "name": "stderr",
          "text": [
            "/usr/local/lib/python3.10/dist-packages/sklearn/cluster/_kmeans.py:870: FutureWarning: The default value of `n_init` will change from 10 to 'auto' in 1.4. Set the value of `n_init` explicitly to suppress the warning\n",
            "  warnings.warn(\n"
          ]
        },
        {
          "output_type": "stream",
          "name": "stdout",
          "text": [
            "prediccion de datos crudos con  154  clusteres lista\n",
            "prediccion de datos crudos con  155  clusteres lista\n",
            "prediccion de datos crudos con  156  clusteres lista\n",
            "prediccion de datos crudos con  157  clusteres lista\n"
          ]
        },
        {
          "output_type": "stream",
          "name": "stderr",
          "text": [
            "/usr/local/lib/python3.10/dist-packages/sklearn/cluster/_kmeans.py:870: FutureWarning: The default value of `n_init` will change from 10 to 'auto' in 1.4. Set the value of `n_init` explicitly to suppress the warning\n",
            "  warnings.warn(\n",
            "/usr/local/lib/python3.10/dist-packages/sklearn/cluster/_kmeans.py:870: FutureWarning: The default value of `n_init` will change from 10 to 'auto' in 1.4. Set the value of `n_init` explicitly to suppress the warning\n",
            "  warnings.warn(\n",
            "/usr/local/lib/python3.10/dist-packages/sklearn/cluster/_kmeans.py:870: FutureWarning: The default value of `n_init` will change from 10 to 'auto' in 1.4. Set the value of `n_init` explicitly to suppress the warning\n",
            "  warnings.warn(\n",
            "/usr/local/lib/python3.10/dist-packages/sklearn/cluster/_kmeans.py:870: FutureWarning: The default value of `n_init` will change from 10 to 'auto' in 1.4. Set the value of `n_init` explicitly to suppress the warning\n",
            "  warnings.warn(\n"
          ]
        },
        {
          "output_type": "stream",
          "name": "stdout",
          "text": [
            "prediccion de datos crudos con  158  clusteres lista\n",
            "prediccion de datos crudos con  159  clusteres lista\n",
            "prediccion de datos crudos con  160  clusteres lista\n",
            "prediccion de datos crudos con  161  clusteres lista\n"
          ]
        },
        {
          "output_type": "stream",
          "name": "stderr",
          "text": [
            "/usr/local/lib/python3.10/dist-packages/sklearn/cluster/_kmeans.py:870: FutureWarning: The default value of `n_init` will change from 10 to 'auto' in 1.4. Set the value of `n_init` explicitly to suppress the warning\n",
            "  warnings.warn(\n",
            "/usr/local/lib/python3.10/dist-packages/sklearn/cluster/_kmeans.py:870: FutureWarning: The default value of `n_init` will change from 10 to 'auto' in 1.4. Set the value of `n_init` explicitly to suppress the warning\n",
            "  warnings.warn(\n",
            "/usr/local/lib/python3.10/dist-packages/sklearn/cluster/_kmeans.py:870: FutureWarning: The default value of `n_init` will change from 10 to 'auto' in 1.4. Set the value of `n_init` explicitly to suppress the warning\n",
            "  warnings.warn(\n",
            "/usr/local/lib/python3.10/dist-packages/sklearn/cluster/_kmeans.py:870: FutureWarning: The default value of `n_init` will change from 10 to 'auto' in 1.4. Set the value of `n_init` explicitly to suppress the warning\n",
            "  warnings.warn(\n"
          ]
        },
        {
          "output_type": "stream",
          "name": "stdout",
          "text": [
            "prediccion de datos crudos con  162  clusteres lista\n"
          ]
        },
        {
          "output_type": "stream",
          "name": "stderr",
          "text": [
            "/usr/local/lib/python3.10/dist-packages/sklearn/cluster/_kmeans.py:870: FutureWarning: The default value of `n_init` will change from 10 to 'auto' in 1.4. Set the value of `n_init` explicitly to suppress the warning\n",
            "  warnings.warn(\n"
          ]
        },
        {
          "output_type": "stream",
          "name": "stdout",
          "text": [
            "prediccion de datos crudos con  163  clusteres lista\n",
            "prediccion de datos crudos con  164  clusteres lista\n"
          ]
        },
        {
          "output_type": "stream",
          "name": "stderr",
          "text": [
            "/usr/local/lib/python3.10/dist-packages/sklearn/cluster/_kmeans.py:870: FutureWarning: The default value of `n_init` will change from 10 to 'auto' in 1.4. Set the value of `n_init` explicitly to suppress the warning\n",
            "  warnings.warn(\n",
            "/usr/local/lib/python3.10/dist-packages/sklearn/cluster/_kmeans.py:870: FutureWarning: The default value of `n_init` will change from 10 to 'auto' in 1.4. Set the value of `n_init` explicitly to suppress the warning\n",
            "  warnings.warn(\n"
          ]
        },
        {
          "output_type": "stream",
          "name": "stdout",
          "text": [
            "prediccion de datos crudos con  165  clusteres lista\n",
            "prediccion de datos crudos con  166  clusteres lista\n",
            "prediccion de datos crudos con  167  clusteres lista\n",
            "prediccion de datos crudos con  168  clusteres lista\n",
            "prediccion de datos crudos con  169  clusteres lista\n",
            "prediccion de datos crudos con  170  clusteres lista\n"
          ]
        },
        {
          "output_type": "stream",
          "name": "stderr",
          "text": [
            "/usr/local/lib/python3.10/dist-packages/sklearn/cluster/_kmeans.py:870: FutureWarning: The default value of `n_init` will change from 10 to 'auto' in 1.4. Set the value of `n_init` explicitly to suppress the warning\n",
            "  warnings.warn(\n",
            "/usr/local/lib/python3.10/dist-packages/sklearn/cluster/_kmeans.py:870: FutureWarning: The default value of `n_init` will change from 10 to 'auto' in 1.4. Set the value of `n_init` explicitly to suppress the warning\n",
            "  warnings.warn(\n",
            "/usr/local/lib/python3.10/dist-packages/sklearn/cluster/_kmeans.py:870: FutureWarning: The default value of `n_init` will change from 10 to 'auto' in 1.4. Set the value of `n_init` explicitly to suppress the warning\n",
            "  warnings.warn(\n",
            "/usr/local/lib/python3.10/dist-packages/sklearn/cluster/_kmeans.py:870: FutureWarning: The default value of `n_init` will change from 10 to 'auto' in 1.4. Set the value of `n_init` explicitly to suppress the warning\n",
            "  warnings.warn(\n",
            "/usr/local/lib/python3.10/dist-packages/sklearn/cluster/_kmeans.py:870: FutureWarning: The default value of `n_init` will change from 10 to 'auto' in 1.4. Set the value of `n_init` explicitly to suppress the warning\n",
            "  warnings.warn(\n",
            "/usr/local/lib/python3.10/dist-packages/sklearn/cluster/_kmeans.py:870: FutureWarning: The default value of `n_init` will change from 10 to 'auto' in 1.4. Set the value of `n_init` explicitly to suppress the warning\n",
            "  warnings.warn(\n"
          ]
        },
        {
          "output_type": "stream",
          "name": "stdout",
          "text": [
            "prediccion de datos crudos con  171  clusteres lista\n"
          ]
        },
        {
          "output_type": "stream",
          "name": "stderr",
          "text": [
            "/usr/local/lib/python3.10/dist-packages/sklearn/cluster/_kmeans.py:870: FutureWarning: The default value of `n_init` will change from 10 to 'auto' in 1.4. Set the value of `n_init` explicitly to suppress the warning\n",
            "  warnings.warn(\n"
          ]
        },
        {
          "output_type": "stream",
          "name": "stdout",
          "text": [
            "prediccion de datos crudos con  172  clusteres lista\n",
            "prediccion de datos crudos con  173  clusteres lista\n"
          ]
        },
        {
          "output_type": "stream",
          "name": "stderr",
          "text": [
            "/usr/local/lib/python3.10/dist-packages/sklearn/cluster/_kmeans.py:870: FutureWarning: The default value of `n_init` will change from 10 to 'auto' in 1.4. Set the value of `n_init` explicitly to suppress the warning\n",
            "  warnings.warn(\n",
            "/usr/local/lib/python3.10/dist-packages/sklearn/cluster/_kmeans.py:870: FutureWarning: The default value of `n_init` will change from 10 to 'auto' in 1.4. Set the value of `n_init` explicitly to suppress the warning\n",
            "  warnings.warn(\n"
          ]
        },
        {
          "output_type": "stream",
          "name": "stdout",
          "text": [
            "prediccion de datos crudos con  174  clusteres lista\n",
            "prediccion de datos crudos con  175  clusteres lista\n",
            "prediccion de datos crudos con  176  clusteres lista\n",
            "prediccion de datos crudos con  177  clusteres lista\n"
          ]
        },
        {
          "output_type": "stream",
          "name": "stderr",
          "text": [
            "/usr/local/lib/python3.10/dist-packages/sklearn/cluster/_kmeans.py:870: FutureWarning: The default value of `n_init` will change from 10 to 'auto' in 1.4. Set the value of `n_init` explicitly to suppress the warning\n",
            "  warnings.warn(\n",
            "/usr/local/lib/python3.10/dist-packages/sklearn/cluster/_kmeans.py:870: FutureWarning: The default value of `n_init` will change from 10 to 'auto' in 1.4. Set the value of `n_init` explicitly to suppress the warning\n",
            "  warnings.warn(\n",
            "/usr/local/lib/python3.10/dist-packages/sklearn/cluster/_kmeans.py:870: FutureWarning: The default value of `n_init` will change from 10 to 'auto' in 1.4. Set the value of `n_init` explicitly to suppress the warning\n",
            "  warnings.warn(\n",
            "/usr/local/lib/python3.10/dist-packages/sklearn/cluster/_kmeans.py:870: FutureWarning: The default value of `n_init` will change from 10 to 'auto' in 1.4. Set the value of `n_init` explicitly to suppress the warning\n",
            "  warnings.warn(\n"
          ]
        },
        {
          "output_type": "stream",
          "name": "stdout",
          "text": [
            "prediccion de datos crudos con  178  clusteres lista\n",
            "prediccion de datos crudos con  179  clusteres lista\n",
            "prediccion de datos crudos con  180  clusteres lista\n",
            "prediccion de datos crudos con  181  clusteres lista\n",
            "prediccion de datos crudos con  182  clusteres lista\n",
            "prediccion de datos crudos con  183  clusteres lista\n"
          ]
        },
        {
          "output_type": "stream",
          "name": "stderr",
          "text": [
            "/usr/local/lib/python3.10/dist-packages/sklearn/cluster/_kmeans.py:870: FutureWarning: The default value of `n_init` will change from 10 to 'auto' in 1.4. Set the value of `n_init` explicitly to suppress the warning\n",
            "  warnings.warn(\n",
            "/usr/local/lib/python3.10/dist-packages/sklearn/cluster/_kmeans.py:870: FutureWarning: The default value of `n_init` will change from 10 to 'auto' in 1.4. Set the value of `n_init` explicitly to suppress the warning\n",
            "  warnings.warn(\n",
            "/usr/local/lib/python3.10/dist-packages/sklearn/cluster/_kmeans.py:870: FutureWarning: The default value of `n_init` will change from 10 to 'auto' in 1.4. Set the value of `n_init` explicitly to suppress the warning\n",
            "  warnings.warn(\n",
            "/usr/local/lib/python3.10/dist-packages/sklearn/cluster/_kmeans.py:870: FutureWarning: The default value of `n_init` will change from 10 to 'auto' in 1.4. Set the value of `n_init` explicitly to suppress the warning\n",
            "  warnings.warn(\n",
            "/usr/local/lib/python3.10/dist-packages/sklearn/cluster/_kmeans.py:870: FutureWarning: The default value of `n_init` will change from 10 to 'auto' in 1.4. Set the value of `n_init` explicitly to suppress the warning\n",
            "  warnings.warn(\n",
            "/usr/local/lib/python3.10/dist-packages/sklearn/cluster/_kmeans.py:870: FutureWarning: The default value of `n_init` will change from 10 to 'auto' in 1.4. Set the value of `n_init` explicitly to suppress the warning\n",
            "  warnings.warn(\n"
          ]
        },
        {
          "output_type": "stream",
          "name": "stdout",
          "text": [
            "prediccion de datos crudos con  184  clusteres lista\n",
            "prediccion de datos crudos con  185  clusteres lista\n",
            "prediccion de datos crudos con  186  clusteres lista\n"
          ]
        },
        {
          "output_type": "stream",
          "name": "stderr",
          "text": [
            "/usr/local/lib/python3.10/dist-packages/sklearn/cluster/_kmeans.py:870: FutureWarning: The default value of `n_init` will change from 10 to 'auto' in 1.4. Set the value of `n_init` explicitly to suppress the warning\n",
            "  warnings.warn(\n",
            "/usr/local/lib/python3.10/dist-packages/sklearn/cluster/_kmeans.py:870: FutureWarning: The default value of `n_init` will change from 10 to 'auto' in 1.4. Set the value of `n_init` explicitly to suppress the warning\n",
            "  warnings.warn(\n",
            "/usr/local/lib/python3.10/dist-packages/sklearn/cluster/_kmeans.py:870: FutureWarning: The default value of `n_init` will change from 10 to 'auto' in 1.4. Set the value of `n_init` explicitly to suppress the warning\n",
            "  warnings.warn(\n",
            "<ipython-input-72-c79567e0f70e>:5: ConvergenceWarning: Number of distinct clusters (186) found smaller than n_clusters (187). Possibly due to duplicate points in X.\n",
            "  k_means.fit(X)\n",
            "/usr/local/lib/python3.10/dist-packages/sklearn/cluster/_kmeans.py:870: FutureWarning: The default value of `n_init` will change from 10 to 'auto' in 1.4. Set the value of `n_init` explicitly to suppress the warning\n",
            "  warnings.warn(\n"
          ]
        },
        {
          "output_type": "stream",
          "name": "stdout",
          "text": [
            "prediccion de datos crudos con  187  clusteres lista\n"
          ]
        },
        {
          "output_type": "stream",
          "name": "stderr",
          "text": [
            "<ipython-input-72-c79567e0f70e>:5: ConvergenceWarning: Number of distinct clusters (186) found smaller than n_clusters (188). Possibly due to duplicate points in X.\n",
            "  k_means.fit(X)\n",
            "/usr/local/lib/python3.10/dist-packages/sklearn/cluster/_kmeans.py:870: FutureWarning: The default value of `n_init` will change from 10 to 'auto' in 1.4. Set the value of `n_init` explicitly to suppress the warning\n",
            "  warnings.warn(\n"
          ]
        },
        {
          "output_type": "stream",
          "name": "stdout",
          "text": [
            "prediccion de datos crudos con  188  clusteres lista\n"
          ]
        },
        {
          "output_type": "stream",
          "name": "stderr",
          "text": [
            "<ipython-input-72-c79567e0f70e>:5: ConvergenceWarning: Number of distinct clusters (186) found smaller than n_clusters (189). Possibly due to duplicate points in X.\n",
            "  k_means.fit(X)\n",
            "/usr/local/lib/python3.10/dist-packages/sklearn/cluster/_kmeans.py:870: FutureWarning: The default value of `n_init` will change from 10 to 'auto' in 1.4. Set the value of `n_init` explicitly to suppress the warning\n",
            "  warnings.warn(\n"
          ]
        },
        {
          "output_type": "stream",
          "name": "stdout",
          "text": [
            "prediccion de datos crudos con  189  clusteres lista\n",
            "prediccion de datos crudos con  190  clusteres lista\n",
            "prediccion de datos crudos con  191  clusteres lista\n"
          ]
        },
        {
          "output_type": "stream",
          "name": "stderr",
          "text": [
            "<ipython-input-72-c79567e0f70e>:5: ConvergenceWarning: Number of distinct clusters (186) found smaller than n_clusters (190). Possibly due to duplicate points in X.\n",
            "  k_means.fit(X)\n",
            "/usr/local/lib/python3.10/dist-packages/sklearn/cluster/_kmeans.py:870: FutureWarning: The default value of `n_init` will change from 10 to 'auto' in 1.4. Set the value of `n_init` explicitly to suppress the warning\n",
            "  warnings.warn(\n",
            "<ipython-input-72-c79567e0f70e>:5: ConvergenceWarning: Number of distinct clusters (186) found smaller than n_clusters (191). Possibly due to duplicate points in X.\n",
            "  k_means.fit(X)\n"
          ]
        }
      ]
    },
    {
      "cell_type": "code",
      "source": [
        "# siluetas con datos crudos\n",
        "for clusteres in range(n):\n",
        "  siluetas[clusteres]=silhouette_score(datos,predicciones[clusteres])\n",
        "  print('valor de silueta de datos crudos con ',clusteres+2,' clusteres: ',siluetas[clusteres])\n",
        "\n",
        "  # siluetas con datos normalizados\n",
        "for clusteres in range(n):\n",
        "  siluetas_norm[clusteres]=silhouette_score(datos_norm,predicciones_norm[clusteres])\n",
        "  print('valor de silueta de datos normalizados con ',clusteres+2,' clusteres: ',siluetas_norm[clusteres])\n"
      ],
      "metadata": {
        "colab": {
          "base_uri": "https://localhost:8080/"
        },
        "id": "e4YKrwZbo59U",
        "outputId": "a35dcb6b-c6f4-4346-f864-182befb622da"
      },
      "execution_count": null,
      "outputs": [
        {
          "output_type": "stream",
          "name": "stdout",
          "text": [
            "valor de silueta de datos crudos con  2  clusteres:  0.2076193661457757\n",
            "valor de silueta de datos crudos con  3  clusteres:  0.1683238348200561\n",
            "valor de silueta de datos crudos con  4  clusteres:  0.14861390544791084\n",
            "valor de silueta de datos crudos con  5  clusteres:  0.154987203244782\n",
            "valor de silueta de datos crudos con  6  clusteres:  0.15161418907939803\n",
            "valor de silueta de datos crudos con  7  clusteres:  0.1446922316132401\n",
            "valor de silueta de datos crudos con  8  clusteres:  0.13905616020145847\n",
            "valor de silueta de datos crudos con  9  clusteres:  0.13845052427189308\n",
            "valor de silueta de datos crudos con  10  clusteres:  0.14864148304725647\n",
            "valor de silueta de datos crudos con  11  clusteres:  0.14522798663443917\n",
            "valor de silueta de datos crudos con  12  clusteres:  0.1386923997821629\n",
            "valor de silueta de datos crudos con  13  clusteres:  0.14040201709980468\n",
            "valor de silueta de datos crudos con  14  clusteres:  0.13824129757892975\n",
            "valor de silueta de datos crudos con  15  clusteres:  0.14194033827296285\n",
            "valor de silueta de datos crudos con  16  clusteres:  0.14546051872697482\n",
            "valor de silueta de datos crudos con  17  clusteres:  0.14278236749016174\n",
            "valor de silueta de datos crudos con  18  clusteres:  0.14836906586776086\n",
            "valor de silueta de datos crudos con  19  clusteres:  0.1450614029627371\n",
            "valor de silueta de datos crudos con  20  clusteres:  0.1548718932843603\n",
            "valor de silueta de datos crudos con  21  clusteres:  0.13105638376171436\n",
            "valor de silueta de datos crudos con  22  clusteres:  0.1500070355946457\n",
            "valor de silueta de datos crudos con  23  clusteres:  0.1483413554376923\n",
            "valor de silueta de datos crudos con  24  clusteres:  0.15552784373041678\n",
            "valor de silueta de datos crudos con  25  clusteres:  0.15293740001395295\n",
            "valor de silueta de datos crudos con  26  clusteres:  0.15758901984836995\n",
            "valor de silueta de datos crudos con  27  clusteres:  0.14642331899966274\n",
            "valor de silueta de datos crudos con  28  clusteres:  0.16024416942128766\n",
            "valor de silueta de datos crudos con  29  clusteres:  0.14465469016867097\n",
            "valor de silueta de datos crudos con  30  clusteres:  0.16082368704340425\n",
            "valor de silueta de datos crudos con  31  clusteres:  0.15719639584535994\n",
            "valor de silueta de datos crudos con  32  clusteres:  0.15588256578381207\n",
            "valor de silueta de datos crudos con  33  clusteres:  0.16542770974406865\n",
            "valor de silueta de datos crudos con  34  clusteres:  0.1636499918885202\n",
            "valor de silueta de datos crudos con  35  clusteres:  0.16312896518594075\n",
            "valor de silueta de datos crudos con  36  clusteres:  0.1588656896312771\n",
            "valor de silueta de datos crudos con  37  clusteres:  0.15820989624037546\n",
            "valor de silueta de datos crudos con  38  clusteres:  0.1675670823102047\n",
            "valor de silueta de datos crudos con  39  clusteres:  0.16926949451034196\n",
            "valor de silueta de datos crudos con  40  clusteres:  0.16702617950258625\n",
            "valor de silueta de datos crudos con  41  clusteres:  0.1624839270241402\n",
            "valor de silueta de datos crudos con  42  clusteres:  0.16400833306442472\n",
            "valor de silueta de datos crudos con  43  clusteres:  0.1741629947154452\n",
            "valor de silueta de datos crudos con  44  clusteres:  0.15786009891435834\n",
            "valor de silueta de datos crudos con  45  clusteres:  0.17209792364177978\n",
            "valor de silueta de datos crudos con  46  clusteres:  0.18430745900979403\n",
            "valor de silueta de datos crudos con  47  clusteres:  0.15985986629320684\n",
            "valor de silueta de datos crudos con  48  clusteres:  0.17221767968866605\n",
            "valor de silueta de datos crudos con  49  clusteres:  0.18356672924024783\n",
            "valor de silueta de datos crudos con  50  clusteres:  0.17285055543558583\n",
            "valor de silueta de datos crudos con  51  clusteres:  0.16905555335882463\n",
            "valor de silueta de datos crudos con  52  clusteres:  0.1573821975242069\n",
            "valor de silueta de datos crudos con  53  clusteres:  0.18576616034138937\n",
            "valor de silueta de datos crudos con  54  clusteres:  0.18117162255915814\n",
            "valor de silueta de datos crudos con  55  clusteres:  0.18817876054951144\n",
            "valor de silueta de datos crudos con  56  clusteres:  0.17175293137665845\n",
            "valor de silueta de datos crudos con  57  clusteres:  0.17766767178317575\n",
            "valor de silueta de datos crudos con  58  clusteres:  0.17819147958249448\n",
            "valor de silueta de datos crudos con  59  clusteres:  0.18132032410480775\n",
            "valor de silueta de datos crudos con  60  clusteres:  0.18552663240371373\n",
            "valor de silueta de datos crudos con  61  clusteres:  0.18241032334710439\n",
            "valor de silueta de datos crudos con  62  clusteres:  0.1868039769067942\n",
            "valor de silueta de datos crudos con  63  clusteres:  0.1887777379058478\n",
            "valor de silueta de datos crudos con  64  clusteres:  0.17746162878570723\n",
            "valor de silueta de datos crudos con  65  clusteres:  0.18038771260382788\n",
            "valor de silueta de datos crudos con  66  clusteres:  0.19637135239538173\n",
            "valor de silueta de datos crudos con  67  clusteres:  0.17861856284698077\n",
            "valor de silueta de datos crudos con  68  clusteres:  0.183937442475081\n",
            "valor de silueta de datos crudos con  69  clusteres:  0.18873492278393578\n",
            "valor de silueta de datos crudos con  70  clusteres:  0.19035619696874953\n",
            "valor de silueta de datos crudos con  71  clusteres:  0.1893616156026466\n",
            "valor de silueta de datos crudos con  72  clusteres:  0.17825273384176654\n",
            "valor de silueta de datos crudos con  73  clusteres:  0.19176158711299604\n",
            "valor de silueta de datos crudos con  74  clusteres:  0.18655468315035018\n",
            "valor de silueta de datos crudos con  75  clusteres:  0.18226094354051398\n",
            "valor de silueta de datos crudos con  76  clusteres:  0.17887748197385417\n",
            "valor de silueta de datos crudos con  77  clusteres:  0.18486373690823818\n",
            "valor de silueta de datos crudos con  78  clusteres:  0.19461790895832146\n",
            "valor de silueta de datos crudos con  79  clusteres:  0.18272558306896014\n",
            "valor de silueta de datos crudos con  80  clusteres:  0.1804215035541726\n",
            "valor de silueta de datos crudos con  81  clusteres:  0.1866122148727754\n",
            "valor de silueta de datos crudos con  82  clusteres:  0.18665499079211934\n",
            "valor de silueta de datos crudos con  83  clusteres:  0.18262487382212322\n",
            "valor de silueta de datos crudos con  84  clusteres:  0.1800185802929118\n",
            "valor de silueta de datos crudos con  85  clusteres:  0.19403048839918505\n",
            "valor de silueta de datos crudos con  86  clusteres:  0.18495725877574443\n",
            "valor de silueta de datos crudos con  87  clusteres:  0.18628021700440067\n",
            "valor de silueta de datos crudos con  88  clusteres:  0.18258090331248739\n",
            "valor de silueta de datos crudos con  89  clusteres:  0.19032846066962422\n",
            "valor de silueta de datos crudos con  90  clusteres:  0.17524373642653387\n",
            "valor de silueta de datos crudos con  91  clusteres:  0.18806454988895493\n",
            "valor de silueta de datos crudos con  92  clusteres:  0.1915274215994845\n",
            "valor de silueta de datos crudos con  93  clusteres:  0.18613317744841126\n",
            "valor de silueta de datos crudos con  94  clusteres:  0.18444070192701392\n",
            "valor de silueta de datos crudos con  95  clusteres:  0.19328891646024124\n",
            "valor de silueta de datos crudos con  96  clusteres:  0.18910729260087877\n",
            "valor de silueta de datos crudos con  97  clusteres:  0.18825057011594903\n",
            "valor de silueta de datos crudos con  98  clusteres:  0.18017317755303383\n",
            "valor de silueta de datos crudos con  99  clusteres:  0.18612387999147997\n",
            "valor de silueta de datos crudos con  100  clusteres:  0.18800494353557645\n",
            "valor de silueta de datos crudos con  101  clusteres:  0.18481392255227705\n",
            "valor de silueta de datos crudos con  102  clusteres:  0.19236560667835984\n",
            "valor de silueta de datos crudos con  103  clusteres:  0.18636536371978663\n",
            "valor de silueta de datos crudos con  104  clusteres:  0.18117484638588524\n",
            "valor de silueta de datos crudos con  105  clusteres:  0.18227130141684503\n",
            "valor de silueta de datos crudos con  106  clusteres:  0.18326264613838172\n",
            "valor de silueta de datos crudos con  107  clusteres:  0.18226447862749268\n",
            "valor de silueta de datos crudos con  108  clusteres:  0.17613080272444712\n",
            "valor de silueta de datos crudos con  109  clusteres:  0.18210828706856866\n",
            "valor de silueta de datos crudos con  110  clusteres:  0.17712535587990919\n",
            "valor de silueta de datos crudos con  111  clusteres:  0.18045833750968607\n",
            "valor de silueta de datos crudos con  112  clusteres:  0.17834384361858155\n",
            "valor de silueta de datos crudos con  113  clusteres:  0.16770605021915788\n",
            "valor de silueta de datos crudos con  114  clusteres:  0.17794352633927846\n",
            "valor de silueta de datos crudos con  115  clusteres:  0.16923851530788303\n",
            "valor de silueta de datos crudos con  116  clusteres:  0.1723359334880889\n",
            "valor de silueta de datos crudos con  117  clusteres:  0.16931881707787919\n",
            "valor de silueta de datos crudos con  118  clusteres:  0.17366566277610368\n",
            "valor de silueta de datos crudos con  119  clusteres:  0.173354552246025\n",
            "valor de silueta de datos crudos con  120  clusteres:  0.16958950327938804\n",
            "valor de silueta de datos crudos con  121  clusteres:  0.16606838739349858\n",
            "valor de silueta de datos crudos con  122  clusteres:  0.1608688117517575\n",
            "valor de silueta de datos crudos con  123  clusteres:  0.17193490931007227\n",
            "valor de silueta de datos crudos con  124  clusteres:  0.16071163934677216\n",
            "valor de silueta de datos crudos con  125  clusteres:  0.15639940526612114\n",
            "valor de silueta de datos crudos con  126  clusteres:  0.16815144821649938\n",
            "valor de silueta de datos crudos con  127  clusteres:  0.16957298726294232\n",
            "valor de silueta de datos crudos con  128  clusteres:  0.15659431638527468\n",
            "valor de silueta de datos crudos con  129  clusteres:  0.16294356772153454\n",
            "valor de silueta de datos crudos con  130  clusteres:  0.1576156622409395\n",
            "valor de silueta de datos crudos con  131  clusteres:  0.15877728648038789\n",
            "valor de silueta de datos crudos con  132  clusteres:  0.15888590565078364\n",
            "valor de silueta de datos crudos con  133  clusteres:  0.15520363557448782\n",
            "valor de silueta de datos crudos con  134  clusteres:  0.15617201157283808\n",
            "valor de silueta de datos crudos con  135  clusteres:  0.14594504424072527\n",
            "valor de silueta de datos crudos con  136  clusteres:  0.14996588393669508\n",
            "valor de silueta de datos crudos con  137  clusteres:  0.14861713018516545\n",
            "valor de silueta de datos crudos con  138  clusteres:  0.15309159077894824\n",
            "valor de silueta de datos crudos con  139  clusteres:  0.13994970674319804\n",
            "valor de silueta de datos crudos con  140  clusteres:  0.14592651494984407\n",
            "valor de silueta de datos crudos con  141  clusteres:  0.14186551114882248\n",
            "valor de silueta de datos crudos con  142  clusteres:  0.14385901428922418\n",
            "valor de silueta de datos crudos con  143  clusteres:  0.14704552295051088\n",
            "valor de silueta de datos crudos con  144  clusteres:  0.14468512006855075\n",
            "valor de silueta de datos crudos con  145  clusteres:  0.14854756504265923\n",
            "valor de silueta de datos crudos con  146  clusteres:  0.14191655028635267\n",
            "valor de silueta de datos crudos con  147  clusteres:  0.12771049752920804\n",
            "valor de silueta de datos crudos con  148  clusteres:  0.12705965240852204\n",
            "valor de silueta de datos crudos con  149  clusteres:  0.13693983055061548\n",
            "valor de silueta de datos crudos con  150  clusteres:  0.142134456748075\n",
            "valor de silueta de datos crudos con  151  clusteres:  0.13784956093702266\n",
            "valor de silueta de datos crudos con  152  clusteres:  0.13154984148322404\n",
            "valor de silueta de datos crudos con  153  clusteres:  0.12241184027696958\n",
            "valor de silueta de datos crudos con  154  clusteres:  0.1318057901815445\n",
            "valor de silueta de datos crudos con  155  clusteres:  0.12503794891466857\n",
            "valor de silueta de datos crudos con  156  clusteres:  0.12113982635672516\n",
            "valor de silueta de datos crudos con  157  clusteres:  0.12363096797724465\n",
            "valor de silueta de datos crudos con  158  clusteres:  0.11772217472150573\n",
            "valor de silueta de datos crudos con  159  clusteres:  0.11023435481998034\n",
            "valor de silueta de datos crudos con  160  clusteres:  0.11670843436018495\n",
            "valor de silueta de datos crudos con  161  clusteres:  0.11453341485068641\n",
            "valor de silueta de datos crudos con  162  clusteres:  0.1103598593918717\n",
            "valor de silueta de datos crudos con  163  clusteres:  0.11184614963075848\n",
            "valor de silueta de datos crudos con  164  clusteres:  0.1146948339787199\n",
            "valor de silueta de datos crudos con  165  clusteres:  0.1067083090024132\n",
            "valor de silueta de datos crudos con  166  clusteres:  0.1041032509901241\n",
            "valor de silueta de datos crudos con  167  clusteres:  0.10215739834104741\n",
            "valor de silueta de datos crudos con  168  clusteres:  0.09659632511346608\n",
            "valor de silueta de datos crudos con  169  clusteres:  0.09702905300493032\n",
            "valor de silueta de datos crudos con  170  clusteres:  0.09637701477499558\n",
            "valor de silueta de datos crudos con  171  clusteres:  0.09611899911593717\n",
            "valor de silueta de datos crudos con  172  clusteres:  0.09290001606372796\n",
            "valor de silueta de datos crudos con  173  clusteres:  0.0891537178981582\n",
            "valor de silueta de datos crudos con  174  clusteres:  0.09094838424149909\n",
            "valor de silueta de datos crudos con  175  clusteres:  0.08843019601106814\n",
            "valor de silueta de datos crudos con  176  clusteres:  0.0827454502643304\n",
            "valor de silueta de datos crudos con  177  clusteres:  0.08183906531939618\n",
            "valor de silueta de datos crudos con  178  clusteres:  0.07683367303861091\n",
            "valor de silueta de datos crudos con  179  clusteres:  0.07502582245420909\n",
            "valor de silueta de datos crudos con  180  clusteres:  0.07678950461747332\n",
            "valor de silueta de datos crudos con  181  clusteres:  0.0695138517500204\n",
            "valor de silueta de datos crudos con  182  clusteres:  0.06672327566035095\n",
            "valor de silueta de datos crudos con  183  clusteres:  0.06889193305497447\n",
            "valor de silueta de datos crudos con  184  clusteres:  0.06365633096073364\n",
            "valor de silueta de datos crudos con  185  clusteres:  0.05814436025654494\n",
            "valor de silueta de datos crudos con  186  clusteres:  0.05235602094240838\n",
            "valor de silueta de datos crudos con  187  clusteres:  0.05235602094240838\n",
            "valor de silueta de datos crudos con  188  clusteres:  0.05235602094240838\n",
            "valor de silueta de datos crudos con  189  clusteres:  0.05235602094240838\n",
            "valor de silueta de datos crudos con  190  clusteres:  0.05235602094240838\n",
            "valor de silueta de datos crudos con  191  clusteres:  0.05235602094240838\n",
            "valor de silueta de datos normalizados con  2  clusteres:  0.10988133302697238\n",
            "valor de silueta de datos normalizados con  3  clusteres:  0.11602332998870411\n",
            "valor de silueta de datos normalizados con  4  clusteres:  0.12421503291167596\n",
            "valor de silueta de datos normalizados con  5  clusteres:  0.11798178880541375\n",
            "valor de silueta de datos normalizados con  6  clusteres:  0.10463861054199014\n",
            "valor de silueta de datos normalizados con  7  clusteres:  0.1084616524132274\n",
            "valor de silueta de datos normalizados con  8  clusteres:  0.11187802682485601\n",
            "valor de silueta de datos normalizados con  9  clusteres:  0.1113679578468356\n",
            "valor de silueta de datos normalizados con  10  clusteres:  0.10962651065766581\n",
            "valor de silueta de datos normalizados con  11  clusteres:  0.10720394261921228\n",
            "valor de silueta de datos normalizados con  12  clusteres:  0.12925424943625527\n",
            "valor de silueta de datos normalizados con  13  clusteres:  0.12166267183936172\n",
            "valor de silueta de datos normalizados con  14  clusteres:  0.12530609501345066\n",
            "valor de silueta de datos normalizados con  15  clusteres:  0.1246053524526617\n",
            "valor de silueta de datos normalizados con  16  clusteres:  0.12771368608359437\n",
            "valor de silueta de datos normalizados con  17  clusteres:  0.12799138481482555\n",
            "valor de silueta de datos normalizados con  18  clusteres:  0.13236244243790862\n",
            "valor de silueta de datos normalizados con  19  clusteres:  0.12204171736580624\n",
            "valor de silueta de datos normalizados con  20  clusteres:  0.12031954642311461\n",
            "valor de silueta de datos normalizados con  21  clusteres:  0.13960228638365135\n",
            "valor de silueta de datos normalizados con  22  clusteres:  0.13533633026986472\n",
            "valor de silueta de datos normalizados con  23  clusteres:  0.14280457970230265\n",
            "valor de silueta de datos normalizados con  24  clusteres:  0.13660567215433897\n",
            "valor de silueta de datos normalizados con  25  clusteres:  0.12996996941123967\n",
            "valor de silueta de datos normalizados con  26  clusteres:  0.12680208269579377\n",
            "valor de silueta de datos normalizados con  27  clusteres:  0.1476613108539816\n",
            "valor de silueta de datos normalizados con  28  clusteres:  0.14846753442546082\n",
            "valor de silueta de datos normalizados con  29  clusteres:  0.146978671895927\n",
            "valor de silueta de datos normalizados con  30  clusteres:  0.1413370295305943\n",
            "valor de silueta de datos normalizados con  31  clusteres:  0.1453959397932914\n",
            "valor de silueta de datos normalizados con  32  clusteres:  0.14525041527799162\n",
            "valor de silueta de datos normalizados con  33  clusteres:  0.15095187030564544\n",
            "valor de silueta de datos normalizados con  34  clusteres:  0.1443068337343921\n",
            "valor de silueta de datos normalizados con  35  clusteres:  0.134226270777809\n",
            "valor de silueta de datos normalizados con  36  clusteres:  0.146707508027079\n",
            "valor de silueta de datos normalizados con  37  clusteres:  0.13489227589033773\n",
            "valor de silueta de datos normalizados con  38  clusteres:  0.1483972057664286\n",
            "valor de silueta de datos normalizados con  39  clusteres:  0.15045669348973031\n",
            "valor de silueta de datos normalizados con  40  clusteres:  0.14646970549599436\n",
            "valor de silueta de datos normalizados con  41  clusteres:  0.1513466391328438\n",
            "valor de silueta de datos normalizados con  42  clusteres:  0.13605848034030707\n",
            "valor de silueta de datos normalizados con  43  clusteres:  0.1350446043200272\n",
            "valor de silueta de datos normalizados con  44  clusteres:  0.14614488343044685\n",
            "valor de silueta de datos normalizados con  45  clusteres:  0.1527931943435454\n",
            "valor de silueta de datos normalizados con  46  clusteres:  0.14323803380540778\n",
            "valor de silueta de datos normalizados con  47  clusteres:  0.13861844647274113\n",
            "valor de silueta de datos normalizados con  48  clusteres:  0.1425360895096267\n",
            "valor de silueta de datos normalizados con  49  clusteres:  0.14170352651666976\n",
            "valor de silueta de datos normalizados con  50  clusteres:  0.15393814774561745\n",
            "valor de silueta de datos normalizados con  51  clusteres:  0.14843782920774956\n",
            "valor de silueta de datos normalizados con  52  clusteres:  0.14108983999320493\n",
            "valor de silueta de datos normalizados con  53  clusteres:  0.14945840090100898\n",
            "valor de silueta de datos normalizados con  54  clusteres:  0.13116861077389183\n",
            "valor de silueta de datos normalizados con  55  clusteres:  0.15405327806876368\n",
            "valor de silueta de datos normalizados con  56  clusteres:  0.14921579552461098\n",
            "valor de silueta de datos normalizados con  57  clusteres:  0.14001451456507832\n",
            "valor de silueta de datos normalizados con  58  clusteres:  0.14931028093863832\n",
            "valor de silueta de datos normalizados con  59  clusteres:  0.14450246376819462\n",
            "valor de silueta de datos normalizados con  60  clusteres:  0.13803340556344323\n",
            "valor de silueta de datos normalizados con  61  clusteres:  0.1436723296077024\n",
            "valor de silueta de datos normalizados con  62  clusteres:  0.14232864271439327\n",
            "valor de silueta de datos normalizados con  63  clusteres:  0.13835118584415357\n",
            "valor de silueta de datos normalizados con  64  clusteres:  0.1323835399014779\n",
            "valor de silueta de datos normalizados con  65  clusteres:  0.14919592128592135\n",
            "valor de silueta de datos normalizados con  66  clusteres:  0.13823146985674553\n",
            "valor de silueta de datos normalizados con  67  clusteres:  0.14700940515714628\n",
            "valor de silueta de datos normalizados con  68  clusteres:  0.14172474106889912\n",
            "valor de silueta de datos normalizados con  69  clusteres:  0.1562169658869731\n",
            "valor de silueta de datos normalizados con  70  clusteres:  0.14797041413256656\n",
            "valor de silueta de datos normalizados con  71  clusteres:  0.15265005002756346\n",
            "valor de silueta de datos normalizados con  72  clusteres:  0.14457373849243688\n",
            "valor de silueta de datos normalizados con  73  clusteres:  0.1471617752728763\n",
            "valor de silueta de datos normalizados con  74  clusteres:  0.1510454436066368\n",
            "valor de silueta de datos normalizados con  75  clusteres:  0.14422154254520994\n",
            "valor de silueta de datos normalizados con  76  clusteres:  0.1500656903615499\n",
            "valor de silueta de datos normalizados con  77  clusteres:  0.16949439173510955\n",
            "valor de silueta de datos normalizados con  78  clusteres:  0.15262312383941107\n",
            "valor de silueta de datos normalizados con  79  clusteres:  0.14858158207761707\n",
            "valor de silueta de datos normalizados con  80  clusteres:  0.16030872252206843\n",
            "valor de silueta de datos normalizados con  81  clusteres:  0.1384125156296279\n",
            "valor de silueta de datos normalizados con  82  clusteres:  0.14330305017295283\n",
            "valor de silueta de datos normalizados con  83  clusteres:  0.13965913373553498\n",
            "valor de silueta de datos normalizados con  84  clusteres:  0.15183650888480596\n",
            "valor de silueta de datos normalizados con  85  clusteres:  0.15451296777618548\n",
            "valor de silueta de datos normalizados con  86  clusteres:  0.1445902488222102\n",
            "valor de silueta de datos normalizados con  87  clusteres:  0.16551164772787297\n",
            "valor de silueta de datos normalizados con  88  clusteres:  0.15535493302090156\n",
            "valor de silueta de datos normalizados con  89  clusteres:  0.14837785605254758\n",
            "valor de silueta de datos normalizados con  90  clusteres:  0.15018647655921666\n",
            "valor de silueta de datos normalizados con  91  clusteres:  0.14815584850864916\n",
            "valor de silueta de datos normalizados con  92  clusteres:  0.1515888001710431\n",
            "valor de silueta de datos normalizados con  93  clusteres:  0.14972219676119627\n",
            "valor de silueta de datos normalizados con  94  clusteres:  0.1488661600449244\n",
            "valor de silueta de datos normalizados con  95  clusteres:  0.15701343726273723\n",
            "valor de silueta de datos normalizados con  96  clusteres:  0.1660186185017891\n",
            "valor de silueta de datos normalizados con  97  clusteres:  0.1417951001652987\n",
            "valor de silueta de datos normalizados con  98  clusteres:  0.14567271505198448\n",
            "valor de silueta de datos normalizados con  99  clusteres:  0.1631493738655308\n",
            "valor de silueta de datos normalizados con  100  clusteres:  0.15363065733668393\n",
            "valor de silueta de datos normalizados con  101  clusteres:  0.16067925918262\n",
            "valor de silueta de datos normalizados con  102  clusteres:  0.1600832368630891\n",
            "valor de silueta de datos normalizados con  103  clusteres:  0.16461738469091175\n",
            "valor de silueta de datos normalizados con  104  clusteres:  0.15958709685463665\n",
            "valor de silueta de datos normalizados con  105  clusteres:  0.16613444176183562\n",
            "valor de silueta de datos normalizados con  106  clusteres:  0.1654164411944858\n",
            "valor de silueta de datos normalizados con  107  clusteres:  0.1639091323981897\n",
            "valor de silueta de datos normalizados con  108  clusteres:  0.15441350987716543\n",
            "valor de silueta de datos normalizados con  109  clusteres:  0.15706892295854916\n",
            "valor de silueta de datos normalizados con  110  clusteres:  0.17694451825951416\n",
            "valor de silueta de datos normalizados con  111  clusteres:  0.1618356736810536\n",
            "valor de silueta de datos normalizados con  112  clusteres:  0.16150701446697305\n",
            "valor de silueta de datos normalizados con  113  clusteres:  0.15556173753205063\n",
            "valor de silueta de datos normalizados con  114  clusteres:  0.15603437583624513\n",
            "valor de silueta de datos normalizados con  115  clusteres:  0.1659885789280068\n",
            "valor de silueta de datos normalizados con  116  clusteres:  0.1495013319697006\n",
            "valor de silueta de datos normalizados con  117  clusteres:  0.15444909457491132\n",
            "valor de silueta de datos normalizados con  118  clusteres:  0.17033094838295806\n",
            "valor de silueta de datos normalizados con  119  clusteres:  0.1588968822034749\n",
            "valor de silueta de datos normalizados con  120  clusteres:  0.1568249222334558\n",
            "valor de silueta de datos normalizados con  121  clusteres:  0.1477683293453264\n",
            "valor de silueta de datos normalizados con  122  clusteres:  0.15709161964312843\n",
            "valor de silueta de datos normalizados con  123  clusteres:  0.15464378414410102\n",
            "valor de silueta de datos normalizados con  124  clusteres:  0.1528994852085273\n",
            "valor de silueta de datos normalizados con  125  clusteres:  0.15503401398611247\n",
            "valor de silueta de datos normalizados con  126  clusteres:  0.1543017215280966\n",
            "valor de silueta de datos normalizados con  127  clusteres:  0.16312214185676177\n",
            "valor de silueta de datos normalizados con  128  clusteres:  0.1585403362524966\n",
            "valor de silueta de datos normalizados con  129  clusteres:  0.15965423624566982\n",
            "valor de silueta de datos normalizados con  130  clusteres:  0.16363387319644573\n",
            "valor de silueta de datos normalizados con  131  clusteres:  0.14707921213908107\n",
            "valor de silueta de datos normalizados con  132  clusteres:  0.14399805480344507\n",
            "valor de silueta de datos normalizados con  133  clusteres:  0.15098267343957622\n",
            "valor de silueta de datos normalizados con  134  clusteres:  0.14520168164078942\n",
            "valor de silueta de datos normalizados con  135  clusteres:  0.14744985628335316\n",
            "valor de silueta de datos normalizados con  136  clusteres:  0.1501918377684297\n",
            "valor de silueta de datos normalizados con  137  clusteres:  0.14553324193457626\n",
            "valor de silueta de datos normalizados con  138  clusteres:  0.15069873026102198\n",
            "valor de silueta de datos normalizados con  139  clusteres:  0.14479932955931107\n",
            "valor de silueta de datos normalizados con  140  clusteres:  0.14238510866486848\n",
            "valor de silueta de datos normalizados con  141  clusteres:  0.14713215649482558\n",
            "valor de silueta de datos normalizados con  142  clusteres:  0.15417363757607264\n",
            "valor de silueta de datos normalizados con  143  clusteres:  0.14371953729849396\n",
            "valor de silueta de datos normalizados con  144  clusteres:  0.14884004910211676\n",
            "valor de silueta de datos normalizados con  145  clusteres:  0.14086933161105444\n",
            "valor de silueta de datos normalizados con  146  clusteres:  0.14583673950905365\n",
            "valor de silueta de datos normalizados con  147  clusteres:  0.1443605031697062\n",
            "valor de silueta de datos normalizados con  148  clusteres:  0.14142974063415958\n",
            "valor de silueta de datos normalizados con  149  clusteres:  0.14107083182132668\n",
            "valor de silueta de datos normalizados con  150  clusteres:  0.13889276101216866\n",
            "valor de silueta de datos normalizados con  151  clusteres:  0.13633592684555723\n",
            "valor de silueta de datos normalizados con  152  clusteres:  0.13783684210251054\n",
            "valor de silueta de datos normalizados con  153  clusteres:  0.13044903232732108\n",
            "valor de silueta de datos normalizados con  154  clusteres:  0.13251065625654912\n",
            "valor de silueta de datos normalizados con  155  clusteres:  0.13143904475843568\n",
            "valor de silueta de datos normalizados con  156  clusteres:  0.13112570628101994\n",
            "valor de silueta de datos normalizados con  157  clusteres:  0.12692889172442684\n",
            "valor de silueta de datos normalizados con  158  clusteres:  0.12879905474257702\n",
            "valor de silueta de datos normalizados con  159  clusteres:  0.120910061903258\n",
            "valor de silueta de datos normalizados con  160  clusteres:  0.1180900810626532\n",
            "valor de silueta de datos normalizados con  161  clusteres:  0.12116175261760763\n",
            "valor de silueta de datos normalizados con  162  clusteres:  0.1165930254248809\n",
            "valor de silueta de datos normalizados con  163  clusteres:  0.11366538808545786\n",
            "valor de silueta de datos normalizados con  164  clusteres:  0.11189074264130366\n",
            "valor de silueta de datos normalizados con  165  clusteres:  0.11028946849438165\n",
            "valor de silueta de datos normalizados con  166  clusteres:  0.10841842882487811\n",
            "valor de silueta de datos normalizados con  167  clusteres:  0.10793933567703791\n",
            "valor de silueta de datos normalizados con  168  clusteres:  0.10335058461122372\n",
            "valor de silueta de datos normalizados con  169  clusteres:  0.10196179344798526\n",
            "valor de silueta de datos normalizados con  170  clusteres:  0.0979009681105512\n",
            "valor de silueta de datos normalizados con  171  clusteres:  0.09361214949900364\n",
            "valor de silueta de datos normalizados con  172  clusteres:  0.09120475189035705\n",
            "valor de silueta de datos normalizados con  173  clusteres:  0.08898408560615395\n",
            "valor de silueta de datos normalizados con  174  clusteres:  0.0874953967755016\n",
            "valor de silueta de datos normalizados con  175  clusteres:  0.08406650121213008\n",
            "valor de silueta de datos normalizados con  176  clusteres:  0.08714290772497922\n",
            "valor de silueta de datos normalizados con  177  clusteres:  0.08461753900683697\n",
            "valor de silueta de datos normalizados con  178  clusteres:  0.08012376650979769\n",
            "valor de silueta de datos normalizados con  179  clusteres:  0.07556876577163112\n",
            "valor de silueta de datos normalizados con  180  clusteres:  0.07336826961770736\n",
            "valor de silueta de datos normalizados con  181  clusteres:  0.07146535861589373\n",
            "valor de silueta de datos normalizados con  182  clusteres:  0.06834601461864781\n",
            "valor de silueta de datos normalizados con  183  clusteres:  0.06634993927535071\n",
            "valor de silueta de datos normalizados con  184  clusteres:  0.06352434177597709\n",
            "valor de silueta de datos normalizados con  185  clusteres:  0.05714041992615281\n",
            "valor de silueta de datos normalizados con  186  clusteres:  0.05235602042225726\n",
            "valor de silueta de datos normalizados con  187  clusteres:  0.05235602042225726\n",
            "valor de silueta de datos normalizados con  188  clusteres:  0.05235602042225726\n",
            "valor de silueta de datos normalizados con  189  clusteres:  0.05235602042225726\n",
            "valor de silueta de datos normalizados con  190  clusteres:  0.05235602042225726\n",
            "valor de silueta de datos normalizados con  191  clusteres:  0.05235602042225726\n"
          ]
        }
      ]
    },
    {
      "cell_type": "code",
      "source": [
        "# cuantos clusteres son optimos con k means en datos crudos\n",
        "c=siluetas.index(max(siluetas))+2\n",
        "i=max(siluetas)\n",
        "print('De acuerdo a k means con datos crudos, el número óptimo de clusteres es de ',c,' con un valor de silueta de ',i)\n",
        "\n",
        "# cuantos clusteres son optimos con k means en datos normalizados\n",
        "c=siluetas_norm.index(max(siluetas_norm))+2\n",
        "i=max(siluetas_norm)\n",
        "print('De acuerdo a k means con datos normalizados, el número óptimo de clusteres es de ',c,' con un valor de silueta de ',i)"
      ],
      "metadata": {
        "colab": {
          "base_uri": "https://localhost:8080/"
        },
        "id": "VXf0DvS6i5Ak",
        "outputId": "20410223-ad26-4b39-880c-a512286d89f4"
      },
      "execution_count": null,
      "outputs": [
        {
          "output_type": "stream",
          "name": "stdout",
          "text": [
            "De acuerdo a k means con datos crudos, el número óptimo de clusteres es de  2  con un valor de silueta de  0.2076193661457757\n",
            "De acuerdo a k means con datos normalizados, el número óptimo de clusteres es de  110  con un valor de silueta de  0.17694451825951416\n"
          ]
        }
      ]
    },
    {
      "cell_type": "code",
      "source": [
        "# Mean shift datos crudos\n",
        "# Separamos el array\n",
        "X_train, X_test=train_test_split(datos, test_size=0.2)\n",
        "# implementación del método\n",
        "entrenamiento = MeanShift().fit(X_train)\n",
        "\n",
        "prediccion = entrenamiento.predict(X_test)\n",
        "try:\n",
        "  s=silhouette_score(X_test,prediccion)\n",
        "  print('Valor de silueta: ',s)\n",
        "except:\n",
        "  print('Este método tampoco es eficiente para agrupar debido a que solo realiza un cluster')"
      ],
      "metadata": {
        "id": "mbZzBGb3ojZa",
        "colab": {
          "base_uri": "https://localhost:8080/"
        },
        "outputId": "f5d32311-0821-4bfc-86ef-ff957e8a9c56"
      },
      "execution_count": 79,
      "outputs": [
        {
          "output_type": "stream",
          "name": "stdout",
          "text": [
            "Este método tampoco es eficiente para agrupar debido a que solo realiza un cluster\n"
          ]
        }
      ]
    },
    {
      "cell_type": "code",
      "source": [
        "# Mean shift datos normalizados\n",
        "# Separamos el array\n",
        "X_train, X_test=train_test_split(datos_norm, test_size=0.2)\n",
        "# implementación del método\n",
        "entrenamiento = MeanShift().fit(X_train)\n",
        "\n",
        "prediccion = entrenamiento.predict(X_test)\n",
        "try:\n",
        "  s=silhouette_score(X_test,prediccion)\n",
        "  print('Valor de silueta: ',s)\n",
        "except:\n",
        "  print('Este método tampoco es eficiente para agrupar debido a que solo realiza un cluster')"
      ],
      "metadata": {
        "id": "vQ9evBAZsbD4",
        "colab": {
          "base_uri": "https://localhost:8080/"
        },
        "outputId": "1077299b-b2b5-4250-927e-2aa5739f4ac5"
      },
      "execution_count": 80,
      "outputs": [
        {
          "output_type": "stream",
          "name": "stdout",
          "text": [
            "Este método tampoco es eficiente para agrupar debido a que solo realiza un cluster\n"
          ]
        }
      ]
    },
    {
      "cell_type": "code",
      "source": [
        "# dbscan datos crudos\n",
        "# hiperparámetros a iterar\n",
        "eps=[1e-1,3e-1,5e-1,7e-1,9e-1]\n",
        "min_samples=[1,2,3,4,5]\n",
        "\n",
        "predice=[[[] for i in eps] for j in min_samples]\n",
        "silueta=[[[] for i in eps] for j in min_samples]\n",
        "\n",
        "for i,sample in enumerate(min_samples):\n",
        "  for j,e in enumerate(eps):\n",
        "    predice[i][j]=DBSCAN(eps=e,min_samples=sample).fit_predict(datos)\n",
        "    try:\n",
        "      silueta[i][j]=silhouette_score(datos,predice[i][j])\n",
        "      print('valor de silueta con eps = ',e,' y ',sample,' muestras: ',silueta[i][j])\n",
        "    except:\n",
        "      print('Solo se generó una etiqueta con eps = ',e,' y muestras cercanas = ',sample)"
      ],
      "metadata": {
        "colab": {
          "base_uri": "https://localhost:8080/"
        },
        "id": "8KRgcSXB9azw",
        "outputId": "ef112cdd-00f0-473b-b053-0ec2d44d74f3"
      },
      "execution_count": 87,
      "outputs": [
        {
          "output_type": "stream",
          "name": "stdout",
          "text": [
            "valor de silueta con eps =  0.1  y  1  muestras:  0.05235602094240838\n",
            "valor de silueta con eps =  0.3  y  1  muestras:  0.05235602094240838\n",
            "valor de silueta con eps =  0.5  y  1  muestras:  0.05235602094240838\n",
            "valor de silueta con eps =  0.7  y  1  muestras:  0.05235602094240838\n",
            "valor de silueta con eps =  0.9  y  1  muestras:  0.05235602094240838\n",
            "valor de silueta con eps =  0.1  y  2  muestras:  -0.17613997914526947\n",
            "valor de silueta con eps =  0.3  y  2  muestras:  -0.17613997914526947\n",
            "valor de silueta con eps =  0.5  y  2  muestras:  -0.17613997914526947\n",
            "valor de silueta con eps =  0.7  y  2  muestras:  -0.17613997914526947\n",
            "valor de silueta con eps =  0.9  y  2  muestras:  -0.17613997914526947\n",
            "Solo se generó una etiqueta con eps =  0.1  y muestras cercanas =  3\n",
            "Solo se generó una etiqueta con eps =  0.3  y muestras cercanas =  3\n",
            "Solo se generó una etiqueta con eps =  0.5  y muestras cercanas =  3\n",
            "Solo se generó una etiqueta con eps =  0.7  y muestras cercanas =  3\n",
            "Solo se generó una etiqueta con eps =  0.9  y muestras cercanas =  3\n",
            "Solo se generó una etiqueta con eps =  0.1  y muestras cercanas =  4\n",
            "Solo se generó una etiqueta con eps =  0.3  y muestras cercanas =  4\n",
            "Solo se generó una etiqueta con eps =  0.5  y muestras cercanas =  4\n",
            "Solo se generó una etiqueta con eps =  0.7  y muestras cercanas =  4\n",
            "Solo se generó una etiqueta con eps =  0.9  y muestras cercanas =  4\n",
            "Solo se generó una etiqueta con eps =  0.1  y muestras cercanas =  5\n",
            "Solo se generó una etiqueta con eps =  0.3  y muestras cercanas =  5\n",
            "Solo se generó una etiqueta con eps =  0.5  y muestras cercanas =  5\n",
            "Solo se generó una etiqueta con eps =  0.7  y muestras cercanas =  5\n",
            "Solo se generó una etiqueta con eps =  0.9  y muestras cercanas =  5\n"
          ]
        }
      ]
    },
    {
      "cell_type": "code",
      "source": [
        "# dbscan datos normalizados\n",
        "# hiperparámetros a iterar\n",
        "eps=[1e-3,3e-3,5e-3,7e-3,9e-3]\n",
        "min_samples=[1,2,3,4,5]\n",
        "\n",
        "predice=[[[] for i in eps] for j in min_samples]\n",
        "silueta=[[[] for i in eps] for j in min_samples]\n",
        "\n",
        "for i,sample in enumerate(min_samples):\n",
        "  for j,e in enumerate(eps):\n",
        "    predice[i][j]=DBSCAN(eps=e,min_samples=sample).fit_predict(datos_norm)\n",
        "    try:\n",
        "      silueta[i][j]=silhouette_score(datos_norm,predice[i][j])\n",
        "      print('valor de silueta con eps = ',e,' y ',sample,' muestras: ',silueta[i][j])\n",
        "    except:\n",
        "      print('Solo se generó una etiqueta con eps = ',e,' y muestras cercanas = ',sample)"
      ],
      "metadata": {
        "colab": {
          "base_uri": "https://localhost:8080/"
        },
        "id": "INQp8h2X286X",
        "outputId": "a957c9aa-07ca-46fc-c3ab-0a6419e48c1b"
      },
      "execution_count": 88,
      "outputs": [
        {
          "output_type": "stream",
          "name": "stdout",
          "text": [
            "valor de silueta con eps =  0.001  y  1  muestras:  0.05235602042225726\n",
            "valor de silueta con eps =  0.003  y  1  muestras:  0.05235602042225726\n",
            "valor de silueta con eps =  0.005  y  1  muestras:  0.05235602042225726\n",
            "valor de silueta con eps =  0.007  y  1  muestras:  0.05235602042225726\n",
            "valor de silueta con eps =  0.009  y  1  muestras:  0.05235602042225726\n",
            "valor de silueta con eps =  0.001  y  2  muestras:  -0.18362021407993898\n",
            "valor de silueta con eps =  0.003  y  2  muestras:  -0.18362021407993898\n",
            "valor de silueta con eps =  0.005  y  2  muestras:  -0.18362021407993898\n",
            "valor de silueta con eps =  0.007  y  2  muestras:  -0.18362021407993898\n",
            "valor de silueta con eps =  0.009  y  2  muestras:  -0.18362021407993898\n",
            "Solo se generó una etiqueta con eps =  0.001  y muestras cercanas =  3\n",
            "Solo se generó una etiqueta con eps =  0.003  y muestras cercanas =  3\n",
            "Solo se generó una etiqueta con eps =  0.005  y muestras cercanas =  3\n",
            "Solo se generó una etiqueta con eps =  0.007  y muestras cercanas =  3\n",
            "Solo se generó una etiqueta con eps =  0.009  y muestras cercanas =  3\n",
            "Solo se generó una etiqueta con eps =  0.001  y muestras cercanas =  4\n",
            "Solo se generó una etiqueta con eps =  0.003  y muestras cercanas =  4\n",
            "Solo se generó una etiqueta con eps =  0.005  y muestras cercanas =  4\n",
            "Solo se generó una etiqueta con eps =  0.007  y muestras cercanas =  4\n",
            "Solo se generó una etiqueta con eps =  0.009  y muestras cercanas =  4\n",
            "Solo se generó una etiqueta con eps =  0.001  y muestras cercanas =  5\n",
            "Solo se generó una etiqueta con eps =  0.003  y muestras cercanas =  5\n",
            "Solo se generó una etiqueta con eps =  0.005  y muestras cercanas =  5\n",
            "Solo se generó una etiqueta con eps =  0.007  y muestras cercanas =  5\n",
            "Solo se generó una etiqueta con eps =  0.009  y muestras cercanas =  5\n"
          ]
        }
      ]
    },
    {
      "cell_type": "code",
      "source": [
        "# spectral clustering datos crudos\n",
        "# hiperparámetros a iterar\n",
        "n_clusters=[5,15,45,135]\n",
        "affinity=['nearest_neighbors','rbf']\n",
        "n_neighbors=[1,2,3,5,10,15]\n",
        "assign_labels=['kmeans','discretize','cluster_qr']\n",
        "\n",
        "predice=[[[[0 for i in n_clusters] for j in affinity] for k in n_neighbors] for g in assign_labels]\n",
        "silueta=[[[[0 for i in n_clusters] for j in affinity] for k in n_neighbors] for g in assign_labels]\n",
        "\n",
        "for i,l in enumerate(assign_labels):\n",
        "  for j,e in enumerate(n_neighbors):\n",
        "    for k,a in enumerate(affinity):\n",
        "      for g,n in enumerate(n_clusters):\n",
        "        predice[i][j][k][g]=SpectralClustering(assign_labels=l,n_neighbors=e,affinity=a,n_clusters=n).fit_predict(datos)\n",
        "        try:\n",
        "          silueta[i][j][k][g]=silhouette_score(datos,predice[i][j][k][g])\n",
        "          print('valor de silueta con labels = ',l,', neighbors = ',e,', affinity: ',a,' y clusters: ',n,': ',silueta[i][j][k][g])\n",
        "        except:\n",
        "          print('Solo se generó una etiqueta con labels = ',l,', neighbors = ',e,', affinity: ',a,' y clusters: ',n)"
      ],
      "metadata": {
        "id": "ziUtTZLpDmxC",
        "colab": {
          "base_uri": "https://localhost:8080/"
        },
        "outputId": "016bd14d-41f8-4328-9303-edb63494b04c"
      },
      "execution_count": 93,
      "outputs": [
        {
          "output_type": "stream",
          "name": "stdout",
          "text": [
            "valor de silueta con labels =  kmeans , neighbors =  1 , affinity:  nearest_neighbors  y clusters:  5 :  -0.18007613294201183\n",
            "valor de silueta con labels =  kmeans , neighbors =  1 , affinity:  nearest_neighbors  y clusters:  15 :  -0.30350442184000515\n",
            "valor de silueta con labels =  kmeans , neighbors =  1 , affinity:  nearest_neighbors  y clusters:  45 :  -0.3270562160192116\n",
            "valor de silueta con labels =  kmeans , neighbors =  1 , affinity:  nearest_neighbors  y clusters:  135 :  -0.11997700905443244\n",
            "valor de silueta con labels =  kmeans , neighbors =  1 , affinity:  rbf  y clusters:  5 :  0.051765290893693236\n",
            "valor de silueta con labels =  kmeans , neighbors =  1 , affinity:  rbf  y clusters:  15 :  0.009957864044446936\n",
            "valor de silueta con labels =  kmeans , neighbors =  1 , affinity:  rbf  y clusters:  45 :  0.0856081442485623\n",
            "valor de silueta con labels =  kmeans , neighbors =  1 , affinity:  rbf  y clusters:  135 :  0.027126662648009045\n",
            "valor de silueta con labels =  kmeans , neighbors =  2 , affinity:  nearest_neighbors  y clusters:  5 :  -0.09041531335839252\n",
            "valor de silueta con labels =  kmeans , neighbors =  2 , affinity:  nearest_neighbors  y clusters:  15 :  -0.12743289916352638\n",
            "valor de silueta con labels =  kmeans , neighbors =  2 , affinity:  nearest_neighbors  y clusters:  45 :  -0.12282365546058076\n",
            "valor de silueta con labels =  kmeans , neighbors =  2 , affinity:  nearest_neighbors  y clusters:  135 :  0.08791472961046039\n",
            "valor de silueta con labels =  kmeans , neighbors =  2 , affinity:  rbf  y clusters:  5 :  0.051765290893693236\n",
            "valor de silueta con labels =  kmeans , neighbors =  2 , affinity:  rbf  y clusters:  15 :  0.010115985792893254\n",
            "valor de silueta con labels =  kmeans , neighbors =  2 , affinity:  rbf  y clusters:  45 :  0.08676295480366278\n",
            "valor de silueta con labels =  kmeans , neighbors =  2 , affinity:  rbf  y clusters:  135 :  0.054990987324497864\n",
            "valor de silueta con labels =  kmeans , neighbors =  3 , affinity:  nearest_neighbors  y clusters:  5 :  0.004323890347633213\n",
            "valor de silueta con labels =  kmeans , neighbors =  3 , affinity:  nearest_neighbors  y clusters:  15 :  0.03789606216691803\n",
            "valor de silueta con labels =  kmeans , neighbors =  3 , affinity:  nearest_neighbors  y clusters:  45 :  0.1477175890147701\n",
            "valor de silueta con labels =  kmeans , neighbors =  3 , affinity:  nearest_neighbors  y clusters:  135 :  0.04738579736679615\n",
            "valor de silueta con labels =  kmeans , neighbors =  3 , affinity:  rbf  y clusters:  5 :  0.051765290893693236\n",
            "valor de silueta con labels =  kmeans , neighbors =  3 , affinity:  rbf  y clusters:  15 :  0.026482426381479993\n",
            "valor de silueta con labels =  kmeans , neighbors =  3 , affinity:  rbf  y clusters:  45 :  0.09587329872520803\n",
            "valor de silueta con labels =  kmeans , neighbors =  3 , affinity:  rbf  y clusters:  135 :  0.03324374953804585\n",
            "valor de silueta con labels =  kmeans , neighbors =  5 , affinity:  nearest_neighbors  y clusters:  5 :  0.11169894273887682\n",
            "valor de silueta con labels =  kmeans , neighbors =  5 , affinity:  nearest_neighbors  y clusters:  15 :  0.11022281513282306\n",
            "valor de silueta con labels =  kmeans , neighbors =  5 , affinity:  nearest_neighbors  y clusters:  45 :  0.17288378722324227\n",
            "valor de silueta con labels =  kmeans , neighbors =  5 , affinity:  nearest_neighbors  y clusters:  135 :  -0.043972189553522376\n",
            "valor de silueta con labels =  kmeans , neighbors =  5 , affinity:  rbf  y clusters:  5 :  0.051765290893693236\n",
            "valor de silueta con labels =  kmeans , neighbors =  5 , affinity:  rbf  y clusters:  15 :  0.004564821123203356\n",
            "valor de silueta con labels =  kmeans , neighbors =  5 , affinity:  rbf  y clusters:  45 :  0.08649719652305034\n",
            "valor de silueta con labels =  kmeans , neighbors =  5 , affinity:  rbf  y clusters:  135 :  0.049721168183040156\n",
            "valor de silueta con labels =  kmeans , neighbors =  10 , affinity:  nearest_neighbors  y clusters:  5 :  0.12677707275236402\n",
            "valor de silueta con labels =  kmeans , neighbors =  10 , affinity:  nearest_neighbors  y clusters:  15 :  0.14149306765819253\n",
            "valor de silueta con labels =  kmeans , neighbors =  10 , affinity:  nearest_neighbors  y clusters:  45 :  0.1465686357602863\n",
            "valor de silueta con labels =  kmeans , neighbors =  10 , affinity:  nearest_neighbors  y clusters:  135 :  -0.1200258240831844\n",
            "valor de silueta con labels =  kmeans , neighbors =  10 , affinity:  rbf  y clusters:  5 :  0.051765290893693236\n",
            "valor de silueta con labels =  kmeans , neighbors =  10 , affinity:  rbf  y clusters:  15 :  0.0038011326746311028\n",
            "valor de silueta con labels =  kmeans , neighbors =  10 , affinity:  rbf  y clusters:  45 :  0.08429171285775156\n",
            "valor de silueta con labels =  kmeans , neighbors =  10 , affinity:  rbf  y clusters:  135 :  0.032196065077515636\n",
            "valor de silueta con labels =  kmeans , neighbors =  15 , affinity:  nearest_neighbors  y clusters:  5 :  0.13306411755039238\n",
            "valor de silueta con labels =  kmeans , neighbors =  15 , affinity:  nearest_neighbors  y clusters:  15 :  0.15384221706255402\n",
            "valor de silueta con labels =  kmeans , neighbors =  15 , affinity:  nearest_neighbors  y clusters:  45 :  0.10343597370195393\n",
            "valor de silueta con labels =  kmeans , neighbors =  15 , affinity:  nearest_neighbors  y clusters:  135 :  -0.13563638874781947\n",
            "valor de silueta con labels =  kmeans , neighbors =  15 , affinity:  rbf  y clusters:  5 :  0.051765290893693236\n",
            "valor de silueta con labels =  kmeans , neighbors =  15 , affinity:  rbf  y clusters:  15 :  0.028362120109291903\n",
            "valor de silueta con labels =  kmeans , neighbors =  15 , affinity:  rbf  y clusters:  45 :  0.06766954392300668\n",
            "valor de silueta con labels =  kmeans , neighbors =  15 , affinity:  rbf  y clusters:  135 :  0.05642808500925558\n",
            "valor de silueta con labels =  discretize , neighbors =  1 , affinity:  nearest_neighbors  y clusters:  5 :  -0.04600426069984024\n",
            "valor de silueta con labels =  discretize , neighbors =  1 , affinity:  nearest_neighbors  y clusters:  15 :  -0.2069221103924233\n",
            "valor de silueta con labels =  discretize , neighbors =  1 , affinity:  nearest_neighbors  y clusters:  45 :  -0.27004481194146174\n",
            "valor de silueta con labels =  discretize , neighbors =  1 , affinity:  nearest_neighbors  y clusters:  135 :  -0.2600505875803432\n",
            "valor de silueta con labels =  discretize , neighbors =  1 , affinity:  rbf  y clusters:  5 :  0.1012291912501494\n",
            "valor de silueta con labels =  discretize , neighbors =  1 , affinity:  rbf  y clusters:  15 :  0.10907115300232041\n",
            "valor de silueta con labels =  discretize , neighbors =  1 , affinity:  rbf  y clusters:  45 :  0.14574092848091122\n",
            "valor de silueta con labels =  discretize , neighbors =  1 , affinity:  rbf  y clusters:  135 :  0.09489516339515479\n",
            "valor de silueta con labels =  discretize , neighbors =  2 , affinity:  nearest_neighbors  y clusters:  5 :  -0.02788472606954553\n",
            "valor de silueta con labels =  discretize , neighbors =  2 , affinity:  nearest_neighbors  y clusters:  15 :  -0.11023552493926052\n",
            "valor de silueta con labels =  discretize , neighbors =  2 , affinity:  nearest_neighbors  y clusters:  45 :  -0.12213811874933017\n",
            "valor de silueta con labels =  discretize , neighbors =  2 , affinity:  nearest_neighbors  y clusters:  135 :  0.08068234809983346\n",
            "valor de silueta con labels =  discretize , neighbors =  2 , affinity:  rbf  y clusters:  5 :  0.09902272329942435\n",
            "valor de silueta con labels =  discretize , neighbors =  2 , affinity:  rbf  y clusters:  15 :  0.09934705497088313\n",
            "valor de silueta con labels =  discretize , neighbors =  2 , affinity:  rbf  y clusters:  45 :  0.14622381758101982\n",
            "valor de silueta con labels =  discretize , neighbors =  2 , affinity:  rbf  y clusters:  135 :  0.10693730935040685\n",
            "valor de silueta con labels =  discretize , neighbors =  3 , affinity:  nearest_neighbors  y clusters:  5 :  0.016714076412323205\n",
            "valor de silueta con labels =  discretize , neighbors =  3 , affinity:  nearest_neighbors  y clusters:  15 :  0.06777278571795992\n",
            "valor de silueta con labels =  discretize , neighbors =  3 , affinity:  nearest_neighbors  y clusters:  45 :  0.15340341590358927\n",
            "valor de silueta con labels =  discretize , neighbors =  3 , affinity:  nearest_neighbors  y clusters:  135 :  0.04637453913281421\n",
            "valor de silueta con labels =  discretize , neighbors =  3 , affinity:  rbf  y clusters:  5 :  0.1012291912501494\n",
            "valor de silueta con labels =  discretize , neighbors =  3 , affinity:  rbf  y clusters:  15 :  0.11050818519696043\n",
            "valor de silueta con labels =  discretize , neighbors =  3 , affinity:  rbf  y clusters:  45 :  0.12487948399509842\n",
            "valor de silueta con labels =  discretize , neighbors =  3 , affinity:  rbf  y clusters:  135 :  0.08523463356612981\n",
            "valor de silueta con labels =  discretize , neighbors =  5 , affinity:  nearest_neighbors  y clusters:  5 :  0.11781156688815633\n",
            "valor de silueta con labels =  discretize , neighbors =  5 , affinity:  nearest_neighbors  y clusters:  15 :  0.10697828289795742\n",
            "valor de silueta con labels =  discretize , neighbors =  5 , affinity:  nearest_neighbors  y clusters:  45 :  0.16323039572593429\n",
            "valor de silueta con labels =  discretize , neighbors =  5 , affinity:  nearest_neighbors  y clusters:  135 :  -0.049377279330426\n",
            "valor de silueta con labels =  discretize , neighbors =  5 , affinity:  rbf  y clusters:  5 :  0.1012291912501494\n",
            "valor de silueta con labels =  discretize , neighbors =  5 , affinity:  rbf  y clusters:  15 :  0.10967574145484323\n",
            "valor de silueta con labels =  discretize , neighbors =  5 , affinity:  rbf  y clusters:  45 :  0.15146737468447136\n",
            "valor de silueta con labels =  discretize , neighbors =  5 , affinity:  rbf  y clusters:  135 :  0.08770647251271013\n",
            "valor de silueta con labels =  discretize , neighbors =  10 , affinity:  nearest_neighbors  y clusters:  5 :  0.13073099935313404\n",
            "valor de silueta con labels =  discretize , neighbors =  10 , affinity:  nearest_neighbors  y clusters:  15 :  0.1346309701368212\n",
            "valor de silueta con labels =  discretize , neighbors =  10 , affinity:  nearest_neighbors  y clusters:  45 :  0.12524962880124804\n",
            "valor de silueta con labels =  discretize , neighbors =  10 , affinity:  nearest_neighbors  y clusters:  135 :  -0.1136975025231822\n",
            "valor de silueta con labels =  discretize , neighbors =  10 , affinity:  rbf  y clusters:  5 :  0.09902272329942435\n",
            "valor de silueta con labels =  discretize , neighbors =  10 , affinity:  rbf  y clusters:  15 :  0.10421375300775251\n",
            "valor de silueta con labels =  discretize , neighbors =  10 , affinity:  rbf  y clusters:  45 :  0.1424908775020005\n",
            "valor de silueta con labels =  discretize , neighbors =  10 , affinity:  rbf  y clusters:  135 :  0.07730597473361872\n",
            "valor de silueta con labels =  discretize , neighbors =  15 , affinity:  nearest_neighbors  y clusters:  5 :  0.13584878892768704\n",
            "valor de silueta con labels =  discretize , neighbors =  15 , affinity:  nearest_neighbors  y clusters:  15 :  0.14602233281819255\n",
            "valor de silueta con labels =  discretize , neighbors =  15 , affinity:  nearest_neighbors  y clusters:  45 :  0.0808916672796835\n",
            "valor de silueta con labels =  discretize , neighbors =  15 , affinity:  nearest_neighbors  y clusters:  135 :  -0.16671011279183717\n",
            "valor de silueta con labels =  discretize , neighbors =  15 , affinity:  rbf  y clusters:  5 :  0.1012291912501494\n",
            "valor de silueta con labels =  discretize , neighbors =  15 , affinity:  rbf  y clusters:  15 :  0.09934705497088313\n",
            "valor de silueta con labels =  discretize , neighbors =  15 , affinity:  rbf  y clusters:  45 :  0.14767651653581998\n",
            "valor de silueta con labels =  discretize , neighbors =  15 , affinity:  rbf  y clusters:  135 :  0.09933272614719782\n",
            "valor de silueta con labels =  cluster_qr , neighbors =  1 , affinity:  nearest_neighbors  y clusters:  5 :  -0.09110580156031209\n",
            "valor de silueta con labels =  cluster_qr , neighbors =  1 , affinity:  nearest_neighbors  y clusters:  15 :  -0.20132217258576615\n",
            "valor de silueta con labels =  cluster_qr , neighbors =  1 , affinity:  nearest_neighbors  y clusters:  45 :  -0.29369870246350444\n",
            "valor de silueta con labels =  cluster_qr , neighbors =  1 , affinity:  nearest_neighbors  y clusters:  135 :  -0.17977988063473282\n",
            "valor de silueta con labels =  cluster_qr , neighbors =  1 , affinity:  rbf  y clusters:  5 :  0.11088149109318399\n",
            "valor de silueta con labels =  cluster_qr , neighbors =  1 , affinity:  rbf  y clusters:  15 :  0.1179089438723608\n",
            "valor de silueta con labels =  cluster_qr , neighbors =  1 , affinity:  rbf  y clusters:  45 :  0.1691069260229459\n",
            "valor de silueta con labels =  cluster_qr , neighbors =  1 , affinity:  rbf  y clusters:  135 :  0.1672514264885849\n",
            "valor de silueta con labels =  cluster_qr , neighbors =  2 , affinity:  nearest_neighbors  y clusters:  5 :  -0.03322460782308083\n",
            "valor de silueta con labels =  cluster_qr , neighbors =  2 , affinity:  nearest_neighbors  y clusters:  15 :  -0.08753429391086037\n",
            "valor de silueta con labels =  cluster_qr , neighbors =  2 , affinity:  nearest_neighbors  y clusters:  45 :  -0.09925949479152091\n",
            "valor de silueta con labels =  cluster_qr , neighbors =  2 , affinity:  nearest_neighbors  y clusters:  135 :  0.10615103716928931\n",
            "valor de silueta con labels =  cluster_qr , neighbors =  2 , affinity:  rbf  y clusters:  5 :  0.11088149109318399\n",
            "valor de silueta con labels =  cluster_qr , neighbors =  2 , affinity:  rbf  y clusters:  15 :  0.1179089438723608\n",
            "valor de silueta con labels =  cluster_qr , neighbors =  2 , affinity:  rbf  y clusters:  45 :  0.1691069260229459\n",
            "valor de silueta con labels =  cluster_qr , neighbors =  2 , affinity:  rbf  y clusters:  135 :  0.1672514264885849\n",
            "valor de silueta con labels =  cluster_qr , neighbors =  3 , affinity:  nearest_neighbors  y clusters:  5 :  0.022409156445384153\n",
            "valor de silueta con labels =  cluster_qr , neighbors =  3 , affinity:  nearest_neighbors  y clusters:  15 :  0.061704236787045556\n",
            "valor de silueta con labels =  cluster_qr , neighbors =  3 , affinity:  nearest_neighbors  y clusters:  45 :  0.1444309653711353\n",
            "valor de silueta con labels =  cluster_qr , neighbors =  3 , affinity:  nearest_neighbors  y clusters:  135 :  0.056411066312266174\n",
            "valor de silueta con labels =  cluster_qr , neighbors =  3 , affinity:  rbf  y clusters:  5 :  0.11088149109318399\n",
            "valor de silueta con labels =  cluster_qr , neighbors =  3 , affinity:  rbf  y clusters:  15 :  0.1179089438723608\n",
            "valor de silueta con labels =  cluster_qr , neighbors =  3 , affinity:  rbf  y clusters:  45 :  0.1691069260229459\n",
            "valor de silueta con labels =  cluster_qr , neighbors =  3 , affinity:  rbf  y clusters:  135 :  0.1672514264885849\n",
            "valor de silueta con labels =  cluster_qr , neighbors =  5 , affinity:  nearest_neighbors  y clusters:  5 :  0.11845828725435674\n",
            "valor de silueta con labels =  cluster_qr , neighbors =  5 , affinity:  nearest_neighbors  y clusters:  15 :  0.09762811015984399\n",
            "valor de silueta con labels =  cluster_qr , neighbors =  5 , affinity:  nearest_neighbors  y clusters:  45 :  0.167470331286075\n",
            "valor de silueta con labels =  cluster_qr , neighbors =  5 , affinity:  nearest_neighbors  y clusters:  135 :  -0.024778393967452957\n",
            "valor de silueta con labels =  cluster_qr , neighbors =  5 , affinity:  rbf  y clusters:  5 :  0.11088149109318399\n",
            "valor de silueta con labels =  cluster_qr , neighbors =  5 , affinity:  rbf  y clusters:  15 :  0.1179089438723608\n",
            "valor de silueta con labels =  cluster_qr , neighbors =  5 , affinity:  rbf  y clusters:  45 :  0.1691069260229459\n",
            "valor de silueta con labels =  cluster_qr , neighbors =  5 , affinity:  rbf  y clusters:  135 :  0.1672514264885849\n",
            "valor de silueta con labels =  cluster_qr , neighbors =  10 , affinity:  nearest_neighbors  y clusters:  5 :  0.1302035850717693\n",
            "valor de silueta con labels =  cluster_qr , neighbors =  10 , affinity:  nearest_neighbors  y clusters:  15 :  0.1333013000869393\n",
            "valor de silueta con labels =  cluster_qr , neighbors =  10 , affinity:  nearest_neighbors  y clusters:  45 :  0.12535952232492287\n",
            "valor de silueta con labels =  cluster_qr , neighbors =  10 , affinity:  nearest_neighbors  y clusters:  135 :  -0.10885063875986424\n",
            "valor de silueta con labels =  cluster_qr , neighbors =  10 , affinity:  rbf  y clusters:  5 :  0.11088149109318399\n",
            "valor de silueta con labels =  cluster_qr , neighbors =  10 , affinity:  rbf  y clusters:  15 :  0.1179089438723608\n",
            "valor de silueta con labels =  cluster_qr , neighbors =  10 , affinity:  rbf  y clusters:  45 :  0.1691069260229459\n",
            "valor de silueta con labels =  cluster_qr , neighbors =  10 , affinity:  rbf  y clusters:  135 :  0.1672514264885849\n",
            "valor de silueta con labels =  cluster_qr , neighbors =  15 , affinity:  nearest_neighbors  y clusters:  5 :  0.1387748070386066\n",
            "valor de silueta con labels =  cluster_qr , neighbors =  15 , affinity:  nearest_neighbors  y clusters:  15 :  0.1476236833628982\n",
            "valor de silueta con labels =  cluster_qr , neighbors =  15 , affinity:  nearest_neighbors  y clusters:  45 :  0.08674528929413029\n",
            "valor de silueta con labels =  cluster_qr , neighbors =  15 , affinity:  nearest_neighbors  y clusters:  135 :  -0.1566791265528973\n",
            "valor de silueta con labels =  cluster_qr , neighbors =  15 , affinity:  rbf  y clusters:  5 :  0.11088149109318399\n",
            "valor de silueta con labels =  cluster_qr , neighbors =  15 , affinity:  rbf  y clusters:  15 :  0.1179089438723608\n",
            "valor de silueta con labels =  cluster_qr , neighbors =  15 , affinity:  rbf  y clusters:  45 :  0.1691069260229459\n",
            "valor de silueta con labels =  cluster_qr , neighbors =  15 , affinity:  rbf  y clusters:  135 :  0.1672514264885849\n"
          ]
        }
      ]
    },
    {
      "cell_type": "code",
      "source": [],
      "metadata": {
        "id": "bkbdLckV-pc_"
      },
      "execution_count": null,
      "outputs": []
    }
  ]
}